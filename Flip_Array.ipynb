{
  "nbformat": 4,
  "nbformat_minor": 0,
  "metadata": {
    "colab": {
      "provenance": [],
      "authorship_tag": "ABX9TyMeazNz5+JQ3ud+wOealhTM",
      "include_colab_link": true
    },
    "kernelspec": {
      "name": "python3",
      "display_name": "Python 3"
    },
    "language_info": {
      "name": "python"
    }
  },
  "cells": [
    {
      "cell_type": "markdown",
      "metadata": {
        "id": "view-in-github",
        "colab_type": "text"
      },
      "source": [
        "<a href=\"https://colab.research.google.com/github/Wajihashoaib/Python-Course/blob/main/Flip_Array.ipynb\" target=\"_parent\"><img src=\"https://colab.research.google.com/assets/colab-badge.svg\" alt=\"Open In Colab\"/></a>"
      ]
    },
    {
      "cell_type": "markdown",
      "source": [
        "# Flip the elements of array"
      ],
      "metadata": {
        "id": "mLiFkix6kyf1"
      }
    },
    {
      "cell_type": "markdown",
      "source": [
        "# 1 . By using numpy"
      ],
      "metadata": {
        "id": "EllF-UTok68c"
      }
    },
    {
      "cell_type": "code",
      "source": [
        "import numpy as np"
      ],
      "metadata": {
        "id": "p-iPg-zIkRqx"
      },
      "execution_count": 1,
      "outputs": []
    },
    {
      "cell_type": "code",
      "source": [
        "x= np.array([10,2,4,8,9,12,22,89,14])"
      ],
      "metadata": {
        "id": "VpaqguRukREN"
      },
      "execution_count": 2,
      "outputs": []
    },
    {
      "cell_type": "code",
      "source": [
        "np.flip(x)"
      ],
      "metadata": {
        "colab": {
          "base_uri": "https://localhost:8080/"
        },
        "id": "lR25mIPkkRoN",
        "outputId": "31ca8c8a-bf40-451c-a8b4-a832a8831f18"
      },
      "execution_count": 3,
      "outputs": [
        {
          "output_type": "execute_result",
          "data": {
            "text/plain": [
              "array([14, 89, 22, 12,  9,  8,  4,  2, 10])"
            ]
          },
          "metadata": {},
          "execution_count": 3
        }
      ]
    },
    {
      "cell_type": "markdown",
      "source": [
        "# 2. Without using numpy"
      ],
      "metadata": {
        "id": "3q7BmVItlIoD"
      }
    },
    {
      "cell_type": "code",
      "source": [
        "xp = np.array(['jj','np','tt','zz','pp'])"
      ],
      "metadata": {
        "id": "3d6pqFu0lGim"
      },
      "execution_count": 8,
      "outputs": []
    },
    {
      "cell_type": "code",
      "source": [
        "import math as m\n",
        "end = len(xp)-1\n",
        "for i in range(m.floor(len(xp)/2)):\n",
        "    temp = xp[i]\n",
        "    xp[i]=xp[end]\n",
        "    xp[end]=temp\n",
        "    \n",
        "    end = end -1"
      ],
      "metadata": {
        "id": "HQaSIepQlYA5"
      },
      "execution_count": 9,
      "outputs": []
    },
    {
      "cell_type": "code",
      "source": [
        "xp"
      ],
      "metadata": {
        "colab": {
          "base_uri": "https://localhost:8080/"
        },
        "id": "31ywvhq1lcW3",
        "outputId": "e69f2b8c-9dff-4335-bb4f-11c4f16d1084"
      },
      "execution_count": 10,
      "outputs": [
        {
          "output_type": "execute_result",
          "data": {
            "text/plain": [
              "array(['pp', 'zz', 'tt', 'np', 'jj'], dtype='<U2')"
            ]
          },
          "metadata": {},
          "execution_count": 10
        }
      ]
    }
  ]
}