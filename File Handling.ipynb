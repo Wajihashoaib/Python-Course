{
 "cells": [
  {
   "cell_type": "markdown",
   "id": "0d14a341",
   "metadata": {},
   "source": [
    "# File Handling in Python"
   ]
  },
  {
   "cell_type": "markdown",
   "id": "12ced747",
   "metadata": {},
   "source": [
    "Demo.text in a simple file that contains some dummy text"
   ]
  },
  {
   "cell_type": "code",
   "execution_count": 6,
   "id": "c2086218",
   "metadata": {},
   "outputs": [],
   "source": [
    "file = open(\"demo.txt\" , 'r')"
   ]
  },
  {
   "cell_type": "code",
   "execution_count": 7,
   "id": "38b8dbc9",
   "metadata": {},
   "outputs": [
    {
     "name": "stdout",
     "output_type": "stream",
     "text": [
      "artificial intelligence (AI), the ability of a digital computer or computer-controlled robot to perform tasks commonly associated with intelligent beings.\n"
     ]
    }
   ],
   "source": [
    "print(file.read()) \n",
    "#read for to print the content\n",
    "file.close() \n",
    "#close file after use"
   ]
  },
  {
   "cell_type": "code",
   "execution_count": 8,
   "id": "a73abd16",
   "metadata": {},
   "outputs": [
    {
     "name": "stdout",
     "output_type": "stream",
     "text": [
      "<_io.TextIOWrapper name='demo.txt' mode='r' encoding='cp1252'>\n"
     ]
    }
   ],
   "source": [
    "print(file) #for to print the file type"
   ]
  },
  {
   "cell_type": "code",
   "execution_count": 9,
   "id": "b17033ec",
   "metadata": {},
   "outputs": [
    {
     "name": "stdout",
     "output_type": "stream",
     "text": [
      "artif\n"
     ]
    }
   ],
   "source": [
    "file = open(\"demo.txt\" , 'r')\n",
    "print(file.read(5)) #read first five characters\n",
    "file.close() #close file after use\n"
   ]
  },
  {
   "cell_type": "code",
   "execution_count": 10,
   "id": "a89e21a3",
   "metadata": {},
   "outputs": [
    {
     "name": "stdout",
     "output_type": "stream",
     "text": [
      "artificial intelligence (AI), the ability of a digital computer or computer-controlled robot to perform tasks commonly associated with intelligent beings.\n",
      "\n"
     ]
    }
   ],
   "source": [
    "file = open(\"demo.txt\" , 'r')\n",
    "print(file.readline()) \n",
    "#read first line from the file\n",
    "print(file.readline())\n",
    "#read second line from the file\n",
    "file.close() #close file after use"
   ]
  },
  {
   "cell_type": "code",
   "execution_count": 11,
   "id": "c861860a",
   "metadata": {},
   "outputs": [
    {
     "name": "stdout",
     "output_type": "stream",
     "text": [
      "artificial intelligence (AI), the ability of a digital computer or computer-controlled robot to perform tasks commonly associated with intelligent beings.\n"
     ]
    }
   ],
   "source": [
    "file = open(\"demo.txt\" , 'r') # loop to print line by line from file\n",
    "for line in file:\n",
    "    print(line)\n",
    "file.close() #close file after use"
   ]
  },
  {
   "cell_type": "code",
   "execution_count": 12,
   "id": "6b028751",
   "metadata": {},
   "outputs": [
    {
     "name": "stdout",
     "output_type": "stream",
     "text": [
      "['artificial intelligence (AI), the ability of a digital computer or computer-controlled robot to perform tasks commonly associated with intelligent beings.']\n"
     ]
    }
   ],
   "source": [
    "file = open(\"demo.txt\" , 'r')\n",
    "print(file.readlines()) \n",
    "file.close() #close file after use"
   ]
  },
  {
   "cell_type": "code",
   "execution_count": 13,
   "id": "75d06abe",
   "metadata": {},
   "outputs": [
    {
     "name": "stdout",
     "output_type": "stream",
     "text": [
      "artificial intelligence (AI), the ability of a digital computer or computer-controlled robot to perform tasks commonly associated with intelligent beings.\n"
     ]
    }
   ],
   "source": [
    "file = open(\"demo.txt\" , 'r')\n",
    "print(file.read()) \n",
    "file.close() # read all content of file"
   ]
  }
 ],
 "metadata": {
  "kernelspec": {
   "display_name": "Python 3 (ipykernel)",
   "language": "python",
   "name": "python3"
  },
  "language_info": {
   "codemirror_mode": {
    "name": "ipython",
    "version": 3
   },
   "file_extension": ".py",
   "mimetype": "text/x-python",
   "name": "python",
   "nbconvert_exporter": "python",
   "pygments_lexer": "ipython3",
   "version": "3.10.6"
  }
 },
 "nbformat": 4,
 "nbformat_minor": 5
}
