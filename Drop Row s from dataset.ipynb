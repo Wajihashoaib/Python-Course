{
 "cells": [
  {
   "cell_type": "markdown",
   "id": "a29815b6",
   "metadata": {},
   "source": [
    "# Drop row from dataset and download new dataset"
   ]
  },
  {
   "cell_type": "code",
   "execution_count": 1,
   "id": "425ff206",
   "metadata": {},
   "outputs": [],
   "source": [
    "import pandas as pd\n",
    "#Reading dataset\n",
    "csv_file = pd.read_csv('sports_event.csv')"
   ]
  },
  {
   "cell_type": "code",
   "execution_count": 2,
   "id": "8c27824d",
   "metadata": {},
   "outputs": [
    {
     "name": "stdout",
     "output_type": "stream",
     "text": [
      "<class 'pandas.core.frame.DataFrame'>\n",
      "RangeIndex: 572 entries, 0 to 571\n",
      "Data columns (total 3 columns):\n",
      " #   Column  Non-Null Count  Dtype  \n",
      "---  ------  --------------  -----  \n",
      " 0   Eid     571 non-null    float64\n",
      " 1   Ename   572 non-null    object \n",
      " 2   Cid     571 non-null    object \n",
      "dtypes: float64(1), object(2)\n",
      "memory usage: 13.5+ KB\n"
     ]
    }
   ],
   "source": [
    "csv_file.info()\n",
    "#information of dataset "
   ]
  },
  {
   "cell_type": "code",
   "execution_count": 3,
   "id": "0de61290",
   "metadata": {},
   "outputs": [
    {
     "name": "stdout",
     "output_type": "stream",
     "text": [
      "      Eid           Ename     Cid\n",
      "0  6012.0             PSL    SP01\n",
      "1  6019.0    national t20    SP01\n",
      "2  6039.0  FIFA World Cup   SP02 \n",
      "3  6040.0       World Cup    SP03\n",
      "4  6041.0    royal rumble  SP0122\n"
     ]
    }
   ],
   "source": [
    "print(csv_file.head())\n",
    "#checking from top"
   ]
  },
  {
   "cell_type": "code",
   "execution_count": 4,
   "id": "4d2c7b0e",
   "metadata": {},
   "outputs": [
    {
     "name": "stdout",
     "output_type": "stream",
     "text": [
      "      Eid           Ename     Cid\n",
      "0  6012.0             PSL    SP01\n",
      "1  6019.0    national t20    SP01\n",
      "2  6039.0  FIFA World Cup   SP02 \n",
      "3  6040.0       World Cup    SP03\n",
      "4  6041.0    royal rumble  SP0122\n"
     ]
    }
   ],
   "source": [
    "print(csv_file.head())\n",
    "#checking from top"
   ]
  },
  {
   "cell_type": "code",
   "execution_count": 5,
   "id": "4d67e485",
   "metadata": {},
   "outputs": [
    {
     "name": "stdout",
     "output_type": "stream",
     "text": [
      "        Eid      Ename    Cid\n",
      "567  6601.0  E0wK_2021  SP222\n",
      "568  6602.0  sgIl_2021  SP223\n",
      "569  6603.0  dGnC_2021  SP224\n",
      "570  6604.0  k5yH_2021  SP225\n",
      "571     NaN  oEex_2021    NaN\n"
     ]
    }
   ],
   "source": [
    "print(csv_file.tail())\n",
    "#checking from last row\n",
    "#last row containing two null values in 'CID' and in 'EID' column"
   ]
  },
  {
   "cell_type": "code",
   "execution_count": 7,
   "id": "40b30c77",
   "metadata": {},
   "outputs": [],
   "source": [
    "df.to_csv('New.csv')\n",
    "#creating a file and send data of df to it."
   ]
  },
  {
   "cell_type": "code",
   "execution_count": 6,
   "id": "012c256d",
   "metadata": {},
   "outputs": [],
   "source": [
    "\n",
    "df =csv_file.dropna()\n",
    "#dropna() removes the row that contains NULL values."
   ]
  }
 ],
 "metadata": {
  "kernelspec": {
   "display_name": "Python 3 (ipykernel)",
   "language": "python",
   "name": "python3"
  },
  "language_info": {
   "codemirror_mode": {
    "name": "ipython",
    "version": 3
   },
   "file_extension": ".py",
   "mimetype": "text/x-python",
   "name": "python",
   "nbconvert_exporter": "python",
   "pygments_lexer": "ipython3",
   "version": "3.10.6"
  }
 },
 "nbformat": 4,
 "nbformat_minor": 5
}
