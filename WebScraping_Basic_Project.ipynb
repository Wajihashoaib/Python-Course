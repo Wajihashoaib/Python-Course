{
  "cells": [
    {
      "cell_type": "markdown",
      "metadata": {
        "id": "view-in-github",
        "colab_type": "text"
      },
      "source": [
        "<a href=\"https://colab.research.google.com/github/Wajihashoaib/Python-Course/blob/main/WebScraping_Basic_Project.ipynb\" target=\"_parent\"><img src=\"https://colab.research.google.com/assets/colab-badge.svg\" alt=\"Open In Colab\"/></a>"
      ]
    },
    {
      "cell_type": "markdown",
      "metadata": {
        "id": "kzWLP9hXazzh"
      },
      "source": [
        "# **Web Scraping Project**\n"
      ]
    },
    {
      "cell_type": "markdown",
      "metadata": {
        "id": "tOpK9Qg8azzi"
      },
      "source": [
        "## Objectives\n"
      ]
    },
    {
      "cell_type": "markdown",
      "metadata": {
        "id": "2iTpr0qcazzi"
      },
      "source": [
        "<h2>Table of Contents</h2>\n",
        "<div class=\"alert alert-block alert-info\" style=\"margin-top: 20px\">\n",
        "    <ul>\n",
        "        <li>\n",
        "            <a href=\"https://bso/?utm_medium=Exinfluencer&utm_source=Exinfluencer&utm_content=000026UJ&utm_term=10006555&utm_id=NA-SkillsNetwork-Channel-SkillsNetworkCoursesIBMDeveloperSkillsNetworkPY0220ENSkillsNetwork23455606-2021-01-01\">Beautiful Soup Object</a>\n",
        "            <ul>\n",
        "                <li>Tag</li>\n",
        "                <li>Children, Parents, and Siblings</li>\n",
        "                <li>HTML Attributes</li>\n",
        "                <li>Navigable String</li>\n",
        "            </ul>\n",
        "        </li>\n",
        "     </ul>\n",
        "    <ul>\n",
        "        <li>\n",
        "            <a href=\"https://filter/?utm_medium=Exinfluencer&utm_source=Exinfluencer&utm_content=000026UJ&utm_term=10006555&utm_id=NA-SkillsNetwork-Channel-SkillsNetworkCoursesIBMDeveloperSkillsNetworkPY0220ENSkillsNetwork23455606-2021-01-01\">Filter</a>\n",
        "            <ul>\n",
        "                <li>find All</li>\n",
        "                <li>find </li>\n",
        "                <li>HTML Attributes</li>\n",
        "                <li>Navigable String</li>\n",
        "            </ul>\n",
        "        </li>\n",
        "     </ul>\n",
        "     <ul>\n",
        "        <li>\n",
        "            <a href=\"https://dscw/?utm_medium=Exinfluencer&utm_source=Exinfluencer&utm_content=000026UJ&utm_term=10006555&utm_id=NA-SkillsNetwork-Channel-SkillsNetworkCoursesIBMDeveloperSkillsNetworkPY0220ENSkillsNetwork23455606-2021-01-01\">Downloading And Scraping The Contents Of A Web</a>\n",
        "    </li>\n",
        "         </ul>\n",
        "    <p>\n",
        "        Estimated time needed: <strong>25 min</strong>\n",
        "    </p>\n",
        "\n",
        "</div>\n",
        "\n",
        "<hr>\n"
      ]
    },
    {
      "cell_type": "markdown",
      "metadata": {
        "id": "x_VfzGPAazzj"
      },
      "source": [
        "For this lab, we are going to be using Python and several Python libraries. Some of these libraries might be installed in your lab environment or in SN Labs. Others may need to be installed by you. The cells below will install these libraries when executed.\n"
      ]
    },
    {
      "cell_type": "code",
      "execution_count": 2,
      "metadata": {
        "colab": {
          "base_uri": "https://localhost:8080/"
        },
        "id": "YV5UJd5yazzk",
        "outputId": "6aab6c77-8bbf-49ef-fb98-49df1dc8892a"
      },
      "outputs": [
        {
          "output_type": "stream",
          "name": "stdout",
          "text": [
            "/bin/bash: line 1: mamba: command not found\n",
            "Requirement already satisfied: lxml==4.6.4 in /usr/local/lib/python3.10/dist-packages (4.6.4)\n",
            "/bin/bash: line 1: mamba: command not found\n",
            "Collecting requests==2.26.0\n",
            "  Downloading requests-2.26.0-py2.py3-none-any.whl (62 kB)\n",
            "\u001b[2K     \u001b[90m━━━━━━━━━━━━━━━━━━━━━━━━━━━━━━━━━━━━━━━━\u001b[0m \u001b[32m62.3/62.3 kB\u001b[0m \u001b[31m1.5 MB/s\u001b[0m eta \u001b[36m0:00:00\u001b[0m\n",
            "\u001b[?25hCollecting urllib3<1.27,>=1.21.1 (from requests==2.26.0)\n",
            "  Downloading urllib3-1.26.16-py2.py3-none-any.whl (143 kB)\n",
            "\u001b[2K     \u001b[90m━━━━━━━━━━━━━━━━━━━━━━━━━━━━━━━━━━━━━━━\u001b[0m \u001b[32m143.1/143.1 kB\u001b[0m \u001b[31m4.2 MB/s\u001b[0m eta \u001b[36m0:00:00\u001b[0m\n",
            "\u001b[?25hRequirement already satisfied: certifi>=2017.4.17 in /usr/local/lib/python3.10/dist-packages (from requests==2.26.0) (2023.7.22)\n",
            "Collecting charset-normalizer~=2.0.0 (from requests==2.26.0)\n",
            "  Downloading charset_normalizer-2.0.12-py3-none-any.whl (39 kB)\n",
            "Requirement already satisfied: idna<4,>=2.5 in /usr/local/lib/python3.10/dist-packages (from requests==2.26.0) (3.4)\n",
            "Installing collected packages: urllib3, charset-normalizer, requests\n",
            "  Attempting uninstall: urllib3\n",
            "    Found existing installation: urllib3 2.0.4\n",
            "    Uninstalling urllib3-2.0.4:\n",
            "      Successfully uninstalled urllib3-2.0.4\n",
            "  Attempting uninstall: charset-normalizer\n",
            "    Found existing installation: charset-normalizer 3.2.0\n",
            "    Uninstalling charset-normalizer-3.2.0:\n",
            "      Successfully uninstalled charset-normalizer-3.2.0\n",
            "  Attempting uninstall: requests\n",
            "    Found existing installation: requests 2.31.0\n",
            "    Uninstalling requests-2.31.0:\n",
            "      Successfully uninstalled requests-2.31.0\n",
            "\u001b[31mERROR: pip's dependency resolver does not currently take into account all the packages that are installed. This behaviour is the source of the following dependency conflicts.\n",
            "google-colab 1.0.0 requires requests==2.31.0, but you have requests 2.26.0 which is incompatible.\n",
            "tweepy 4.13.0 requires requests<3,>=2.27.0, but you have requests 2.26.0 which is incompatible.\n",
            "yfinance 0.2.28 requires lxml>=4.9.1, but you have lxml 4.6.4 which is incompatible.\n",
            "yfinance 0.2.28 requires requests>=2.31, but you have requests 2.26.0 which is incompatible.\u001b[0m\u001b[31m\n",
            "\u001b[0mSuccessfully installed charset-normalizer-2.0.12 requests-2.26.0 urllib3-1.26.16\n"
          ]
        }
      ],
      "source": [
        "!mamba install bs4==4.10.0 -y\n",
        "!pip install lxml==4.6.4\n",
        "!mamba install html5lib==1.1 -y\n",
        "!pip install requests==2.26.0"
      ]
    },
    {
      "cell_type": "markdown",
      "metadata": {
        "id": "rilTzkKfazzl"
      },
      "source": [
        "Import the required modules and functions\n"
      ]
    },
    {
      "cell_type": "code",
      "execution_count": 3,
      "metadata": {
        "colab": {
          "base_uri": "https://localhost:8080/"
        },
        "id": "UFPHBFtqazzm",
        "outputId": "67bee510-ab5e-4de5-a747-61cc3af328bd"
      },
      "outputs": [
        {
          "output_type": "stream",
          "name": "stderr",
          "text": [
            "/usr/local/lib/python3.10/dist-packages/requests/__init__.py:102: RequestsDependencyWarning: urllib3 (1.26.16) or chardet (5.2.0)/charset_normalizer (2.0.12) doesn't match a supported version!\n",
            "  warnings.warn(\"urllib3 ({}) or chardet ({})/charset_normalizer ({}) doesn't match a supported \"\n"
          ]
        }
      ],
      "source": [
        "from bs4 import BeautifulSoup # this module helps in web scrapping.\n",
        "import requests  # this module helps us to download a web page"
      ]
    },
    {
      "cell_type": "markdown",
      "metadata": {
        "id": "pfi7ZBoUazzm"
      },
      "source": [
        "<h2 id=\"BSO\">Beautiful Soup Objects</h2>\n"
      ]
    },
    {
      "cell_type": "markdown",
      "metadata": {
        "id": "EYOWM5Rbazzm"
      },
      "source": [
        "Beautiful Soup is a Python library for pulling data out of HTML and XML files, we will focus on HTML files. This is accomplished by representing the HTML as a set of objects with methods used to parse the HTML.  We can navigate the HTML as a tree and/or filter out what we are looking for.\n",
        "\n",
        "Consider the following HTML:\n"
      ]
    },
    {
      "cell_type": "code",
      "execution_count": 4,
      "metadata": {
        "colab": {
          "base_uri": "https://localhost:8080/",
          "height": 203
        },
        "id": "J2pJorqeazzm",
        "outputId": "36391588-37b6-4df8-dd83-019629f8f968"
      },
      "outputs": [
        {
          "output_type": "display_data",
          "data": {
            "text/plain": [
              "<IPython.core.display.HTML object>"
            ],
            "text/html": [
              "<!DOCTYPE html>\n",
              "<html>\n",
              "<head>\n",
              "<title>Page Title</title>\n",
              "</head>\n",
              "<body>\n",
              "<h3><b id='boldest'>Lebron James</b></h3>\n",
              "<p> Salary: $ 92,000,000 </p>\n",
              "<h3> Stephen Curry</h3>\n",
              "<p> Salary: $85,000, 000 </p>\n",
              "<h3> Kevin Durant </h3>\n",
              "<p> Salary: $73,200, 000</p>\n",
              "</body>\n",
              "</html>\n"
            ]
          },
          "metadata": {}
        }
      ],
      "source": [
        "%%html\n",
        "<!DOCTYPE html>\n",
        "<html>\n",
        "<head>\n",
        "<title>Page Title</title>\n",
        "</head>\n",
        "<body>\n",
        "<h3><b id='boldest'>Lebron James</b></h3>\n",
        "<p> Salary: $ 92,000,000 </p>\n",
        "<h3> Stephen Curry</h3>\n",
        "<p> Salary: $85,000, 000 </p>\n",
        "<h3> Kevin Durant </h3>\n",
        "<p> Salary: $73,200, 000</p>\n",
        "</body>\n",
        "</html>"
      ]
    },
    {
      "cell_type": "markdown",
      "metadata": {
        "id": "gceIGoe9azzo"
      },
      "source": [
        "We can store it as a string in the variable HTML:\n"
      ]
    },
    {
      "cell_type": "code",
      "execution_count": 5,
      "metadata": {
        "id": "w3djaTS6azzo"
      },
      "outputs": [],
      "source": [
        "html=\"<!DOCTYPE html><html><head><title>Page Title</title></head><body><h3><b id='boldest'>Lebron James</b></h3><p> Salary: $ 92,000,000 </p><h3> Stephen Curry</h3><p> Salary: $85,000, 000 </p><h3> Kevin Durant </h3><p> Salary: $73,200, 000</p></body></html>\""
      ]
    },
    {
      "cell_type": "markdown",
      "metadata": {
        "id": "wE5kQSJoazzo"
      },
      "source": [
        "To parse a document, pass it into the <code>BeautifulSoup</code> constructor, the <code>BeautifulSoup</code> object, which represents the document as a nested data structure:\n"
      ]
    },
    {
      "cell_type": "code",
      "execution_count": 6,
      "metadata": {
        "id": "mkHcFibTazzp"
      },
      "outputs": [],
      "source": [
        "soup = BeautifulSoup(html, \"html.parser\")"
      ]
    },
    {
      "cell_type": "markdown",
      "metadata": {
        "id": "SFZgGorhazzp"
      },
      "source": [
        "First, the document is converted to Unicode, (similar to ASCII),  and HTML entities are converted to Unicode characters. Beautiful Soup transforms a complex HTML document into a complex tree of Python objects. The <code>BeautifulSoup</code> object can create other types of objects. In this lab, we will cover <code>BeautifulSoup</code> and <code>Tag</code> objects that for the purposes of this lab are identical, and <code>NavigableString</code> objects.\n"
      ]
    },
    {
      "cell_type": "markdown",
      "metadata": {
        "id": "DwJfgDERazzp"
      },
      "source": [
        "We can use the method <code>prettify()</code> to display the HTML in the nested structure:\n"
      ]
    },
    {
      "cell_type": "code",
      "execution_count": 7,
      "metadata": {
        "colab": {
          "base_uri": "https://localhost:8080/"
        },
        "id": "DaLEQfpzazzq",
        "outputId": "ab25d8c4-6853-402e-9b42-7fd437e57901"
      },
      "outputs": [
        {
          "output_type": "stream",
          "name": "stdout",
          "text": [
            "<!DOCTYPE html>\n",
            "<html>\n",
            " <head>\n",
            "  <title>\n",
            "   Page Title\n",
            "  </title>\n",
            " </head>\n",
            " <body>\n",
            "  <h3>\n",
            "   <b id=\"boldest\">\n",
            "    Lebron James\n",
            "   </b>\n",
            "  </h3>\n",
            "  <p>\n",
            "   Salary: $ 92,000,000\n",
            "  </p>\n",
            "  <h3>\n",
            "   Stephen Curry\n",
            "  </h3>\n",
            "  <p>\n",
            "   Salary: $85,000, 000\n",
            "  </p>\n",
            "  <h3>\n",
            "   Kevin Durant\n",
            "  </h3>\n",
            "  <p>\n",
            "   Salary: $73,200, 000\n",
            "  </p>\n",
            " </body>\n",
            "</html>\n"
          ]
        }
      ],
      "source": [
        "print(soup.prettify())"
      ]
    },
    {
      "cell_type": "markdown",
      "metadata": {
        "id": "45mo_3V7azzq"
      },
      "source": [
        "## Tags\n"
      ]
    },
    {
      "cell_type": "markdown",
      "metadata": {
        "id": "_G1pJ8tiazzq"
      },
      "source": [
        "Let's say we want the  title of the page and the name of the top paid player we can use the <code>Tag</code>. The <code>Tag</code> object corresponds to an HTML tag in the original document, for example, the tag title.\n"
      ]
    },
    {
      "cell_type": "code",
      "execution_count": 8,
      "metadata": {
        "colab": {
          "base_uri": "https://localhost:8080/"
        },
        "id": "zekm3W7Xazzq",
        "outputId": "773d6c55-82b8-461d-d718-d86fee3d9557"
      },
      "outputs": [
        {
          "output_type": "stream",
          "name": "stdout",
          "text": [
            "tag object: <title>Page Title</title>\n"
          ]
        }
      ],
      "source": [
        "tag_object=soup.title\n",
        "print(\"tag object:\",tag_object)"
      ]
    },
    {
      "cell_type": "markdown",
      "metadata": {
        "id": "X_w6uXLBazzr"
      },
      "source": [
        "we can see the tag type <code>bs4.element.Tag</code>\n"
      ]
    },
    {
      "cell_type": "code",
      "execution_count": 9,
      "metadata": {
        "colab": {
          "base_uri": "https://localhost:8080/"
        },
        "id": "C1vV1IlAazzr",
        "outputId": "4152688e-96fd-47a5-ce37-b5db7ca3b680"
      },
      "outputs": [
        {
          "output_type": "stream",
          "name": "stdout",
          "text": [
            "tag object type: <class 'bs4.element.Tag'>\n"
          ]
        }
      ],
      "source": [
        "print(\"tag object type:\",type(tag_object))"
      ]
    },
    {
      "cell_type": "markdown",
      "metadata": {
        "id": "GTXjIDCdazzr"
      },
      "source": [
        "If there is more than one <code>Tag</code>  with the same name, the first element with that <code>Tag</code> name is called, this corresponds to the most paid player:\n"
      ]
    },
    {
      "cell_type": "code",
      "execution_count": 10,
      "metadata": {
        "colab": {
          "base_uri": "https://localhost:8080/"
        },
        "id": "BseTI_6Yazzs",
        "outputId": "a9a5ddbf-e4d1-428c-da95-12231bcf54b4"
      },
      "outputs": [
        {
          "output_type": "execute_result",
          "data": {
            "text/plain": [
              "<h3><b id=\"boldest\">Lebron James</b></h3>"
            ]
          },
          "metadata": {},
          "execution_count": 10
        }
      ],
      "source": [
        "tag_object=soup.h3\n",
        "tag_object"
      ]
    },
    {
      "cell_type": "markdown",
      "metadata": {
        "id": "i2gNzcecazzs"
      },
      "source": [
        "Enclosed in the bold attribute <code>b</code>, it helps to use the tree representation. We can navigate down the tree using the child attribute to get the name.\n"
      ]
    },
    {
      "cell_type": "markdown",
      "metadata": {
        "id": "nfwdKKrYazzs"
      },
      "source": [
        "### Children, Parents, and Siblings\n"
      ]
    },
    {
      "cell_type": "markdown",
      "metadata": {
        "id": "-n0lErO8azzs"
      },
      "source": [
        "As stated above the <code>Tag</code> object is a tree of objects we can access the child of the tag or navigate down the branch as follows:\n"
      ]
    },
    {
      "cell_type": "code",
      "execution_count": 11,
      "metadata": {
        "colab": {
          "base_uri": "https://localhost:8080/"
        },
        "id": "7q7ypO_vazzs",
        "outputId": "afbeef2a-f1a2-4389-950d-328ef2de3abc"
      },
      "outputs": [
        {
          "output_type": "execute_result",
          "data": {
            "text/plain": [
              "<b id=\"boldest\">Lebron James</b>"
            ]
          },
          "metadata": {},
          "execution_count": 11
        }
      ],
      "source": [
        "tag_child =tag_object.b\n",
        "tag_child"
      ]
    },
    {
      "cell_type": "markdown",
      "metadata": {
        "id": "XN2su5kYazzt"
      },
      "source": [
        "You can access the parent with the <code> parent</code>\n"
      ]
    },
    {
      "cell_type": "code",
      "execution_count": 12,
      "metadata": {
        "colab": {
          "base_uri": "https://localhost:8080/"
        },
        "id": "0kAJqurGazzt",
        "outputId": "781f075d-6405-4a12-e452-295cd29dff50"
      },
      "outputs": [
        {
          "output_type": "execute_result",
          "data": {
            "text/plain": [
              "<h3><b id=\"boldest\">Lebron James</b></h3>"
            ]
          },
          "metadata": {},
          "execution_count": 12
        }
      ],
      "source": [
        "parent_tag=tag_child.parent\n",
        "parent_tag"
      ]
    },
    {
      "cell_type": "markdown",
      "metadata": {
        "id": "eELkCutNazzt"
      },
      "source": [
        "this is identical to\n"
      ]
    },
    {
      "cell_type": "code",
      "execution_count": 13,
      "metadata": {
        "colab": {
          "base_uri": "https://localhost:8080/"
        },
        "id": "Y-pRJaTsazzt",
        "outputId": "116e6650-8307-4620-b089-5b268c3b5400"
      },
      "outputs": [
        {
          "output_type": "execute_result",
          "data": {
            "text/plain": [
              "<h3><b id=\"boldest\">Lebron James</b></h3>"
            ]
          },
          "metadata": {},
          "execution_count": 13
        }
      ],
      "source": [
        "tag_object"
      ]
    },
    {
      "cell_type": "markdown",
      "metadata": {
        "id": "TLvBn0OXazzu"
      },
      "source": [
        "<code>tag_object</code> parent is the <code>body</code> element.\n"
      ]
    },
    {
      "cell_type": "code",
      "execution_count": 14,
      "metadata": {
        "colab": {
          "base_uri": "https://localhost:8080/"
        },
        "id": "27C-ivjLazzu",
        "outputId": "b341a657-e882-4919-cd6a-4cb6c6ae57e2"
      },
      "outputs": [
        {
          "output_type": "execute_result",
          "data": {
            "text/plain": [
              "<body><h3><b id=\"boldest\">Lebron James</b></h3><p> Salary: $ 92,000,000 </p><h3> Stephen Curry</h3><p> Salary: $85,000, 000 </p><h3> Kevin Durant </h3><p> Salary: $73,200, 000</p></body>"
            ]
          },
          "metadata": {},
          "execution_count": 14
        }
      ],
      "source": [
        "tag_object.parent"
      ]
    },
    {
      "cell_type": "markdown",
      "metadata": {
        "id": "R_Sm-Joaazzu"
      },
      "source": [
        "<code>tag_object</code> sibling is the <code>paragraph</code> element\n"
      ]
    },
    {
      "cell_type": "code",
      "execution_count": 16,
      "metadata": {
        "colab": {
          "base_uri": "https://localhost:8080/"
        },
        "id": "ehy2ZcCKazzu",
        "outputId": "3d32a0aa-31a2-48a4-e4a1-d3273d6d8380"
      },
      "outputs": [
        {
          "output_type": "execute_result",
          "data": {
            "text/plain": [
              "<p> Salary: $ 92,000,000 </p>"
            ]
          },
          "metadata": {},
          "execution_count": 16
        }
      ],
      "source": [
        "sibling_1=tag_object.next_sibling\n",
        "sibling_1"
      ]
    },
    {
      "cell_type": "markdown",
      "metadata": {
        "id": "iB6WttrMazzw"
      },
      "source": [
        "`sibling_2` is the `header` element which is also a sibling of both `sibling_1` and `tag_object`\n"
      ]
    },
    {
      "cell_type": "code",
      "execution_count": 17,
      "metadata": {
        "colab": {
          "base_uri": "https://localhost:8080/"
        },
        "id": "4Qx3CNZ1azzw",
        "outputId": "d9e45df6-9576-4f15-8879-c1736d835aec"
      },
      "outputs": [
        {
          "output_type": "execute_result",
          "data": {
            "text/plain": [
              "<h3> Stephen Curry</h3>"
            ]
          },
          "metadata": {},
          "execution_count": 17
        }
      ],
      "source": [
        "sibling_2=sibling_1.next_sibling\n",
        "sibling_2"
      ]
    },
    {
      "cell_type": "markdown",
      "metadata": {
        "id": "kv9i36IBazzw"
      },
      "source": [
        "<h3 id=\"first_question\">Exercise: <code>next_sibling</code></h3>\n"
      ]
    },
    {
      "cell_type": "markdown",
      "metadata": {
        "id": "oXNfHJmXazzx"
      },
      "source": [
        "Using the object <code>sibling\\_2</code> and the property <code>next_sibling</code> to find the salary of Stephen Curry:\n"
      ]
    },
    {
      "cell_type": "code",
      "execution_count": 19,
      "metadata": {
        "colab": {
          "base_uri": "https://localhost:8080/"
        },
        "id": "reDYYMt1azzx",
        "outputId": "a321c0ad-a52a-41a8-e163-ead8cc102cb6"
      },
      "outputs": [
        {
          "output_type": "execute_result",
          "data": {
            "text/plain": [
              "<p> Salary: $85,000, 000 </p>"
            ]
          },
          "metadata": {},
          "execution_count": 19
        }
      ],
      "source": [
        "sibling_3 = sibling_2.next_sibling\n",
        "sibling_3"
      ]
    },
    {
      "cell_type": "markdown",
      "metadata": {
        "id": "b1cmTp-Gazzx"
      },
      "source": [
        "<details><summary>Click here for the solution</summary>\n",
        "\n",
        "```\n",
        "sibling_2.next_sibling\n",
        "\n",
        "```\n",
        "\n",
        "</details>\n"
      ]
    },
    {
      "cell_type": "markdown",
      "metadata": {
        "id": "J7Oyvd4dazzx"
      },
      "source": [
        "### HTML Attributes\n"
      ]
    },
    {
      "cell_type": "markdown",
      "metadata": {
        "id": "8N4iTULDazzx"
      },
      "source": [
        "If the tag has attributes, the tag <code>id=\"boldest\"</code> has an attribute <code>id</code> whose value is <code>boldest</code>. You can access a tag’s attributes by treating the tag like a dictionary:\n"
      ]
    },
    {
      "cell_type": "code",
      "execution_count": 20,
      "metadata": {
        "colab": {
          "base_uri": "https://localhost:8080/",
          "height": 35
        },
        "id": "kVsTvffhazzy",
        "outputId": "4125f7f9-1337-4bce-9c34-da458dcb2e1c"
      },
      "outputs": [
        {
          "output_type": "execute_result",
          "data": {
            "text/plain": [
              "'boldest'"
            ],
            "application/vnd.google.colaboratory.intrinsic+json": {
              "type": "string"
            }
          },
          "metadata": {},
          "execution_count": 20
        }
      ],
      "source": [
        "tag_child['id']"
      ]
    },
    {
      "cell_type": "markdown",
      "metadata": {
        "id": "NR24pGsKazzz"
      },
      "source": [
        "You can access that dictionary directly as <code>attrs</code>:\n"
      ]
    },
    {
      "cell_type": "code",
      "execution_count": 21,
      "metadata": {
        "colab": {
          "base_uri": "https://localhost:8080/"
        },
        "id": "NUPs5IlUazzz",
        "outputId": "6e2caa8f-cd00-4423-b311-b96787145cd8"
      },
      "outputs": [
        {
          "output_type": "execute_result",
          "data": {
            "text/plain": [
              "{'id': 'boldest'}"
            ]
          },
          "metadata": {},
          "execution_count": 21
        }
      ],
      "source": [
        "tag_child.attrs"
      ]
    },
    {
      "cell_type": "markdown",
      "metadata": {
        "id": "RuMOuC8eazzz"
      },
      "source": [
        "You can also work with Multi-valued attribute check out <a href=\"https://www.crummy.com/software/BeautifulSoup/bs4/doc/?utm_medium=Exinfluencer&utm_source=Exinfluencer&utm_content=000026UJ&utm_term=10006555&utm_id=NA-SkillsNetwork-Channel-SkillsNetworkCoursesIBMDeveloperSkillsNetworkPY0220ENSkillsNetwork23455606-2021-01-01\">\\[1]</a> for more.\n"
      ]
    },
    {
      "cell_type": "markdown",
      "metadata": {
        "id": "yEHgkdVIazz0"
      },
      "source": [
        "We can also obtain the content if the attribute of the <code>tag</code> using the Python <code>get()</code> method.\n"
      ]
    },
    {
      "cell_type": "code",
      "execution_count": 22,
      "metadata": {
        "colab": {
          "base_uri": "https://localhost:8080/",
          "height": 35
        },
        "id": "xfSbuKSGazz0",
        "outputId": "2874262f-c22f-4bb4-a91c-02d4834f29af"
      },
      "outputs": [
        {
          "output_type": "execute_result",
          "data": {
            "text/plain": [
              "'boldest'"
            ],
            "application/vnd.google.colaboratory.intrinsic+json": {
              "type": "string"
            }
          },
          "metadata": {},
          "execution_count": 22
        }
      ],
      "source": [
        "tag_child.get('id')"
      ]
    },
    {
      "cell_type": "markdown",
      "metadata": {
        "id": "SFHSTNpmazz0"
      },
      "source": [
        "### Navigable String\n"
      ]
    },
    {
      "cell_type": "markdown",
      "metadata": {
        "id": "n6qKm_t3azz0"
      },
      "source": [
        "A string corresponds to a bit of text or content within a tag. Beautiful Soup uses the <code>NavigableString</code> class to contain this text. In our HTML we can obtain the name of the first player by extracting the sting of the <code>Tag</code> object <code>tag_child</code> as follows:\n"
      ]
    },
    {
      "cell_type": "code",
      "execution_count": 23,
      "metadata": {
        "colab": {
          "base_uri": "https://localhost:8080/",
          "height": 35
        },
        "id": "0gS5l1Wxazz0",
        "outputId": "f428151e-1244-4487-dcb8-1a44ba401f46"
      },
      "outputs": [
        {
          "output_type": "execute_result",
          "data": {
            "text/plain": [
              "'Lebron James'"
            ],
            "application/vnd.google.colaboratory.intrinsic+json": {
              "type": "string"
            }
          },
          "metadata": {},
          "execution_count": 23
        }
      ],
      "source": [
        "tag_string=tag_child.string\n",
        "tag_string"
      ]
    },
    {
      "cell_type": "markdown",
      "metadata": {
        "id": "0atlmdfyazz1"
      },
      "source": [
        "we can verify the type is Navigable String\n"
      ]
    },
    {
      "cell_type": "code",
      "execution_count": 24,
      "metadata": {
        "colab": {
          "base_uri": "https://localhost:8080/"
        },
        "id": "hNtAn9kfazz1",
        "outputId": "957aa2fb-8f4b-43bf-a61d-c3f448d53259"
      },
      "outputs": [
        {
          "output_type": "execute_result",
          "data": {
            "text/plain": [
              "bs4.element.NavigableString"
            ]
          },
          "metadata": {},
          "execution_count": 24
        }
      ],
      "source": [
        "type(tag_string)"
      ]
    },
    {
      "cell_type": "markdown",
      "metadata": {
        "id": "ziQVLc_2azz1"
      },
      "source": [
        "A NavigableString is just like a Python string or Unicode string, to be more precise. The main difference is that it also supports some  <code>BeautifulSoup</code> features. We can covert it to sting object in Python:\n"
      ]
    },
    {
      "cell_type": "code",
      "execution_count": 25,
      "metadata": {
        "colab": {
          "base_uri": "https://localhost:8080/",
          "height": 35
        },
        "id": "OYcfpeFZazz2",
        "outputId": "64b17a9a-c846-458d-d8ca-2d928fcccf44"
      },
      "outputs": [
        {
          "output_type": "execute_result",
          "data": {
            "text/plain": [
              "'Lebron James'"
            ],
            "application/vnd.google.colaboratory.intrinsic+json": {
              "type": "string"
            }
          },
          "metadata": {},
          "execution_count": 25
        }
      ],
      "source": [
        "unicode_string = str(tag_string)\n",
        "unicode_string"
      ]
    },
    {
      "cell_type": "markdown",
      "metadata": {
        "id": "SdDV92D6azz2"
      },
      "source": [
        "<h2 id=\"filter\">Filter</h2>\n"
      ]
    },
    {
      "cell_type": "markdown",
      "metadata": {
        "id": "IfINiFugazz2"
      },
      "source": [
        "Filters allow you to find complex patterns, the simplest filter is a string. In this section we will pass a string to a different filter method and Beautiful Soup will perform a match against that exact string.  Consider the following HTML of rocket launchs:\n"
      ]
    },
    {
      "cell_type": "code",
      "execution_count": 26,
      "metadata": {
        "colab": {
          "base_uri": "https://localhost:8080/",
          "height": 104
        },
        "id": "Lg5q63cYazz2",
        "outputId": "fa9f8cd3-1f52-46d5-95da-7e7541eeb2f3"
      },
      "outputs": [
        {
          "output_type": "display_data",
          "data": {
            "text/plain": [
              "<IPython.core.display.HTML object>"
            ],
            "text/html": [
              "<table>\n",
              "  <tr>\n",
              "    <td id='flight' >Flight No</td>\n",
              "    <td>Launch site</td> \n",
              "    <td>Payload mass</td>\n",
              "   </tr>\n",
              "  <tr> \n",
              "    <td>1</td>\n",
              "    <td><a href='https://en.wikipedia.org/wiki/Florida'>Florida</a></td>\n",
              "    <td>300 kg</td>\n",
              "  </tr>\n",
              "  <tr>\n",
              "    <td>2</td>\n",
              "    <td><a href='https://en.wikipedia.org/wiki/Texas'>Texas</a></td>\n",
              "    <td>94 kg</td>\n",
              "  </tr>\n",
              "  <tr>\n",
              "    <td>3</td>\n",
              "    <td><a href='https://en.wikipedia.org/wiki/Florida'>Florida<a> </td>\n",
              "    <td>80 kg</td>\n",
              "  </tr>\n",
              "</table>\n"
            ]
          },
          "metadata": {}
        }
      ],
      "source": [
        "%%html\n",
        "<table>\n",
        "  <tr>\n",
        "    <td id='flight' >Flight No</td>\n",
        "    <td>Launch site</td>\n",
        "    <td>Payload mass</td>\n",
        "   </tr>\n",
        "  <tr>\n",
        "    <td>1</td>\n",
        "    <td><a href='https://en.wikipedia.org/wiki/Florida'>Florida</a></td>\n",
        "    <td>300 kg</td>\n",
        "  </tr>\n",
        "  <tr>\n",
        "    <td>2</td>\n",
        "    <td><a href='https://en.wikipedia.org/wiki/Texas'>Texas</a></td>\n",
        "    <td>94 kg</td>\n",
        "  </tr>\n",
        "  <tr>\n",
        "    <td>3</td>\n",
        "    <td><a href='https://en.wikipedia.org/wiki/Florida'>Florida<a> </td>\n",
        "    <td>80 kg</td>\n",
        "  </tr>\n",
        "</table>"
      ]
    },
    {
      "cell_type": "markdown",
      "metadata": {
        "id": "MJDCn1HVazz3"
      },
      "source": [
        "We can store it as a string in the variable <code>table</code>:\n"
      ]
    },
    {
      "cell_type": "code",
      "execution_count": 27,
      "metadata": {
        "id": "6TeuXa78azz3"
      },
      "outputs": [],
      "source": [
        "table=\"<table><tr><td id='flight'>Flight No</td><td>Launch site</td> <td>Payload mass</td></tr><tr> <td>1</td><td><a href='https://en.wikipedia.org/wiki/Florida'>Florida<a></td><td>300 kg</td></tr><tr><td>2</td><td><a href='https://en.wikipedia.org/wiki/Texas'>Texas</a></td><td>94 kg</td></tr><tr><td>3</td><td><a href='https://en.wikipedia.org/wiki/Florida'>Florida<a> </td><td>80 kg</td></tr></table>\""
      ]
    },
    {
      "cell_type": "code",
      "execution_count": 28,
      "metadata": {
        "id": "Pt_mbGK9azz3"
      },
      "outputs": [],
      "source": [
        "table_bs = BeautifulSoup(table, \"html.parser\")"
      ]
    },
    {
      "cell_type": "markdown",
      "metadata": {
        "id": "49t78m6Qazz3"
      },
      "source": [
        "## find All\n"
      ]
    },
    {
      "cell_type": "markdown",
      "metadata": {
        "id": "OWr0twcaazz3"
      },
      "source": [
        "The <code>find_all()</code> method looks through a tag’s descendants and retrieves all descendants that match your filters.\n",
        "\n",
        "<p>\n",
        "The Method signature for <code>find_all(name, attrs, recursive, string, limit, **kwargs)<c/ode>\n",
        "</p>\n"
      ]
    },
    {
      "cell_type": "markdown",
      "metadata": {
        "id": "lNeT24Gxazz4"
      },
      "source": [
        "### Name\n"
      ]
    },
    {
      "cell_type": "markdown",
      "metadata": {
        "id": "QDy525Vhazz4"
      },
      "source": [
        "When we set the <code>name</code> parameter to a tag name, the method will extract all the tags with that name and its children.\n"
      ]
    },
    {
      "cell_type": "code",
      "execution_count": 29,
      "metadata": {
        "colab": {
          "base_uri": "https://localhost:8080/"
        },
        "id": "b-kqsU0Cazz4",
        "outputId": "27644345-f133-4586-d6cb-e7e0c7279dd4"
      },
      "outputs": [
        {
          "output_type": "execute_result",
          "data": {
            "text/plain": [
              "[<tr><td id=\"flight\">Flight No</td><td>Launch site</td> <td>Payload mass</td></tr>,\n",
              " <tr> <td>1</td><td><a href=\"https://en.wikipedia.org/wiki/Florida\">Florida<a></a></a></td><td>300 kg</td></tr>,\n",
              " <tr><td>2</td><td><a href=\"https://en.wikipedia.org/wiki/Texas\">Texas</a></td><td>94 kg</td></tr>,\n",
              " <tr><td>3</td><td><a href=\"https://en.wikipedia.org/wiki/Florida\">Florida<a> </a></a></td><td>80 kg</td></tr>]"
            ]
          },
          "metadata": {},
          "execution_count": 29
        }
      ],
      "source": [
        "table_rows=table_bs.find_all('tr')\n",
        "table_rows"
      ]
    },
    {
      "cell_type": "markdown",
      "metadata": {
        "id": "EyBF3tpoazz5"
      },
      "source": [
        "The result is a Python Iterable just like a list, each element is a <code>tag</code> object:\n"
      ]
    },
    {
      "cell_type": "code",
      "execution_count": 30,
      "metadata": {
        "colab": {
          "base_uri": "https://localhost:8080/"
        },
        "id": "XFghI2O0azz5",
        "outputId": "9b66d47a-0c8a-4668-9f59-0aab413d89b4"
      },
      "outputs": [
        {
          "output_type": "execute_result",
          "data": {
            "text/plain": [
              "<tr><td id=\"flight\">Flight No</td><td>Launch site</td> <td>Payload mass</td></tr>"
            ]
          },
          "metadata": {},
          "execution_count": 30
        }
      ],
      "source": [
        "first_row =table_rows[0]\n",
        "first_row"
      ]
    },
    {
      "cell_type": "markdown",
      "metadata": {
        "id": "_TGsVqdKazz6"
      },
      "source": [
        "The type is <code>tag</code>\n"
      ]
    },
    {
      "cell_type": "code",
      "execution_count": 31,
      "metadata": {
        "colab": {
          "base_uri": "https://localhost:8080/"
        },
        "id": "DfkdMCP3azz6",
        "outputId": "614e8281-7b4c-467d-96e8-296a981d587e"
      },
      "outputs": [
        {
          "output_type": "stream",
          "name": "stdout",
          "text": [
            "<class 'bs4.element.Tag'>\n"
          ]
        }
      ],
      "source": [
        "print(type(first_row))"
      ]
    },
    {
      "cell_type": "markdown",
      "metadata": {
        "id": "CI2luFA6azz7"
      },
      "source": [
        "we can obtain the child\n"
      ]
    },
    {
      "cell_type": "code",
      "execution_count": 32,
      "metadata": {
        "colab": {
          "base_uri": "https://localhost:8080/"
        },
        "id": "dZKf7aLYazz8",
        "outputId": "84ba219d-687d-47d4-f69f-2c777afbe479"
      },
      "outputs": [
        {
          "output_type": "execute_result",
          "data": {
            "text/plain": [
              "<td id=\"flight\">Flight No</td>"
            ]
          },
          "metadata": {},
          "execution_count": 32
        }
      ],
      "source": [
        "first_row.td"
      ]
    },
    {
      "cell_type": "markdown",
      "metadata": {
        "id": "iKbG1JUuazz8"
      },
      "source": [
        "If we iterate through the list, each element corresponds to a row in the table:\n"
      ]
    },
    {
      "cell_type": "code",
      "execution_count": 33,
      "metadata": {
        "colab": {
          "base_uri": "https://localhost:8080/"
        },
        "id": "y2hjisp0azz9",
        "outputId": "d9425727-1848-4f2f-87c3-fdcbbae504da"
      },
      "outputs": [
        {
          "output_type": "stream",
          "name": "stdout",
          "text": [
            "row 0 is <tr><td id=\"flight\">Flight No</td><td>Launch site</td> <td>Payload mass</td></tr>\n",
            "row 1 is <tr> <td>1</td><td><a href=\"https://en.wikipedia.org/wiki/Florida\">Florida<a></a></a></td><td>300 kg</td></tr>\n",
            "row 2 is <tr><td>2</td><td><a href=\"https://en.wikipedia.org/wiki/Texas\">Texas</a></td><td>94 kg</td></tr>\n",
            "row 3 is <tr><td>3</td><td><a href=\"https://en.wikipedia.org/wiki/Florida\">Florida<a> </a></a></td><td>80 kg</td></tr>\n"
          ]
        }
      ],
      "source": [
        "for i,row in enumerate(table_rows):\n",
        "    print(\"row\",i,\"is\",row)\n",
        ""
      ]
    },
    {
      "cell_type": "markdown",
      "metadata": {
        "id": "14xhkJZYazz9"
      },
      "source": [
        "As <code>row</code> is a <code>cell</code> object, we can apply the method <code>find_all</code> to it and extract table cells in the object <code>cells</code> using the tag <code>td</code>, this is all the children with the name <code>td</code>. The result is a list, each element corresponds to a cell and is a <code>Tag</code> object, we can iterate through this list as well. We can extract the content using the <code>string</code>  attribute.\n"
      ]
    },
    {
      "cell_type": "code",
      "execution_count": 34,
      "metadata": {
        "colab": {
          "base_uri": "https://localhost:8080/"
        },
        "id": "fDRvONL1azz9",
        "outputId": "944e8325-89bc-4c8c-b4a6-22575a39f9eb"
      },
      "outputs": [
        {
          "output_type": "stream",
          "name": "stdout",
          "text": [
            "row 0\n",
            "colunm 0 cell <td id=\"flight\">Flight No</td>\n",
            "colunm 1 cell <td>Launch site</td>\n",
            "colunm 2 cell <td>Payload mass</td>\n",
            "row 1\n",
            "colunm 0 cell <td>1</td>\n",
            "colunm 1 cell <td><a href=\"https://en.wikipedia.org/wiki/Florida\">Florida<a></a></a></td>\n",
            "colunm 2 cell <td>300 kg</td>\n",
            "row 2\n",
            "colunm 0 cell <td>2</td>\n",
            "colunm 1 cell <td><a href=\"https://en.wikipedia.org/wiki/Texas\">Texas</a></td>\n",
            "colunm 2 cell <td>94 kg</td>\n",
            "row 3\n",
            "colunm 0 cell <td>3</td>\n",
            "colunm 1 cell <td><a href=\"https://en.wikipedia.org/wiki/Florida\">Florida<a> </a></a></td>\n",
            "colunm 2 cell <td>80 kg</td>\n"
          ]
        }
      ],
      "source": [
        "for i,row in enumerate(table_rows):\n",
        "    print(\"row\",i)\n",
        "    cells=row.find_all('td')\n",
        "    for j,cell in enumerate(cells):\n",
        "        print('colunm',j,\"cell\",cell)"
      ]
    },
    {
      "cell_type": "markdown",
      "metadata": {
        "id": "NcKewDHaazz-"
      },
      "source": [
        "If we use a list we can match against any item in that list.\n"
      ]
    },
    {
      "cell_type": "code",
      "execution_count": 35,
      "metadata": {
        "colab": {
          "base_uri": "https://localhost:8080/"
        },
        "id": "f_AfxtXIazz-",
        "outputId": "1ed7dfe1-34ab-42c7-9f26-60d29d20c9ad"
      },
      "outputs": [
        {
          "output_type": "execute_result",
          "data": {
            "text/plain": [
              "[<tr><td id=\"flight\">Flight No</td><td>Launch site</td> <td>Payload mass</td></tr>,\n",
              " <td id=\"flight\">Flight No</td>,\n",
              " <td>Launch site</td>,\n",
              " <td>Payload mass</td>,\n",
              " <tr> <td>1</td><td><a href=\"https://en.wikipedia.org/wiki/Florida\">Florida<a></a></a></td><td>300 kg</td></tr>,\n",
              " <td>1</td>,\n",
              " <td><a href=\"https://en.wikipedia.org/wiki/Florida\">Florida<a></a></a></td>,\n",
              " <td>300 kg</td>,\n",
              " <tr><td>2</td><td><a href=\"https://en.wikipedia.org/wiki/Texas\">Texas</a></td><td>94 kg</td></tr>,\n",
              " <td>2</td>,\n",
              " <td><a href=\"https://en.wikipedia.org/wiki/Texas\">Texas</a></td>,\n",
              " <td>94 kg</td>,\n",
              " <tr><td>3</td><td><a href=\"https://en.wikipedia.org/wiki/Florida\">Florida<a> </a></a></td><td>80 kg</td></tr>,\n",
              " <td>3</td>,\n",
              " <td><a href=\"https://en.wikipedia.org/wiki/Florida\">Florida<a> </a></a></td>,\n",
              " <td>80 kg</td>]"
            ]
          },
          "metadata": {},
          "execution_count": 35
        }
      ],
      "source": [
        "list_input=table_bs .find_all(name=[\"tr\", \"td\"])\n",
        "list_input"
      ]
    },
    {
      "cell_type": "markdown",
      "metadata": {
        "id": "aLFZEgy_az0A"
      },
      "source": [
        "## Attributes\n"
      ]
    },
    {
      "cell_type": "markdown",
      "metadata": {
        "id": "ZhvWUmE-az0B"
      },
      "source": [
        "If the argument is not recognized it will be turned into a filter on the tag’s attributes. For example the <code>id</code>  argument, Beautiful Soup will filter against each tag’s <code>id</code> attribute. For example, the first <code>td</code> elements have a value of <code>id</code> of <code>flight</code>, therefore we can filter based on that <code>id</code> value.\n"
      ]
    },
    {
      "cell_type": "code",
      "execution_count": 36,
      "metadata": {
        "colab": {
          "base_uri": "https://localhost:8080/"
        },
        "id": "KzUrY-nNaz0B",
        "outputId": "89153ee4-be75-4d9b-ac54-2b784969de11"
      },
      "outputs": [
        {
          "output_type": "execute_result",
          "data": {
            "text/plain": [
              "[<td id=\"flight\">Flight No</td>]"
            ]
          },
          "metadata": {},
          "execution_count": 36
        }
      ],
      "source": [
        "table_bs.find_all(id=\"flight\")"
      ]
    },
    {
      "cell_type": "markdown",
      "metadata": {
        "id": "gD589iclaz0B"
      },
      "source": [
        "We can find all the elements that have links to the Florida Wikipedia page:\n"
      ]
    },
    {
      "cell_type": "code",
      "execution_count": 37,
      "metadata": {
        "colab": {
          "base_uri": "https://localhost:8080/"
        },
        "id": "VYgzeeMBaz0C",
        "outputId": "81cfc03c-1dce-4de9-f004-b122942a9e30"
      },
      "outputs": [
        {
          "output_type": "execute_result",
          "data": {
            "text/plain": [
              "[<a href=\"https://en.wikipedia.org/wiki/Florida\">Florida<a></a></a>,\n",
              " <a href=\"https://en.wikipedia.org/wiki/Florida\">Florida<a> </a></a>]"
            ]
          },
          "metadata": {},
          "execution_count": 37
        }
      ],
      "source": [
        "list_input=table_bs.find_all(href=\"https://en.wikipedia.org/wiki/Florida\")\n",
        "list_input"
      ]
    },
    {
      "cell_type": "markdown",
      "metadata": {
        "id": "PRN0QIrSaz0C"
      },
      "source": [
        "If we set the  <code>href</code> attribute to True, regardless of what the value is, the code finds all tags with <code>href</code> value:\n"
      ]
    },
    {
      "cell_type": "code",
      "execution_count": 38,
      "metadata": {
        "colab": {
          "base_uri": "https://localhost:8080/"
        },
        "id": "LDooR70Waz0C",
        "outputId": "7ac57fe5-4c4c-4280-e18f-1d33a96b527a"
      },
      "outputs": [
        {
          "output_type": "execute_result",
          "data": {
            "text/plain": [
              "[<a href=\"https://en.wikipedia.org/wiki/Florida\">Florida<a></a></a>,\n",
              " <a href=\"https://en.wikipedia.org/wiki/Texas\">Texas</a>,\n",
              " <a href=\"https://en.wikipedia.org/wiki/Florida\">Florida<a> </a></a>]"
            ]
          },
          "metadata": {},
          "execution_count": 38
        }
      ],
      "source": [
        "table_bs.find_all(href=True)"
      ]
    },
    {
      "cell_type": "markdown",
      "metadata": {
        "id": "c2JNFaK2az0C"
      },
      "source": [
        "There are other methods for dealing with attributes and other related methods; Check out the following <a href='https://www.crummy.com/software/BeautifulSoup/bs4/doc/?utm_medium=Exinfluencer&utm_source=Exinfluencer&utm_content=000026UJ&utm_term=10006555&utm_id=NA-SkillsNetwork-Channel-SkillsNetworkCoursesIBMDeveloperSkillsNetworkPY0220ENSkillsNetwork23455606-2021-01-01#css-selectors'>link</a>\n"
      ]
    },
    {
      "cell_type": "markdown",
      "metadata": {
        "id": "gllyN16Yaz0D"
      },
      "source": [
        "<h3 id=\"exer_type\">Exercise: <code>find_all</code></h3>\n"
      ]
    },
    {
      "cell_type": "markdown",
      "metadata": {
        "id": "MA62pK5yaz0D"
      },
      "source": [
        "Using the logic above, find all the elements without <code>href</code> value\n"
      ]
    },
    {
      "cell_type": "code",
      "execution_count": 39,
      "metadata": {
        "colab": {
          "base_uri": "https://localhost:8080/"
        },
        "id": "9p9-l9fWaz0D",
        "outputId": "a27fd054-01b9-4523-ff0c-a0f4b02cc724"
      },
      "outputs": [
        {
          "output_type": "execute_result",
          "data": {
            "text/plain": [
              "[<table><tr><td id=\"flight\">Flight No</td><td>Launch site</td> <td>Payload mass</td></tr><tr> <td>1</td><td><a href=\"https://en.wikipedia.org/wiki/Florida\">Florida<a></a></a></td><td>300 kg</td></tr><tr><td>2</td><td><a href=\"https://en.wikipedia.org/wiki/Texas\">Texas</a></td><td>94 kg</td></tr><tr><td>3</td><td><a href=\"https://en.wikipedia.org/wiki/Florida\">Florida<a> </a></a></td><td>80 kg</td></tr></table>,\n",
              " <tr><td id=\"flight\">Flight No</td><td>Launch site</td> <td>Payload mass</td></tr>,\n",
              " <td id=\"flight\">Flight No</td>,\n",
              " <td>Launch site</td>,\n",
              " <td>Payload mass</td>,\n",
              " <tr> <td>1</td><td><a href=\"https://en.wikipedia.org/wiki/Florida\">Florida<a></a></a></td><td>300 kg</td></tr>,\n",
              " <td>1</td>,\n",
              " <td><a href=\"https://en.wikipedia.org/wiki/Florida\">Florida<a></a></a></td>,\n",
              " <a></a>,\n",
              " <td>300 kg</td>,\n",
              " <tr><td>2</td><td><a href=\"https://en.wikipedia.org/wiki/Texas\">Texas</a></td><td>94 kg</td></tr>,\n",
              " <td>2</td>,\n",
              " <td><a href=\"https://en.wikipedia.org/wiki/Texas\">Texas</a></td>,\n",
              " <td>94 kg</td>,\n",
              " <tr><td>3</td><td><a href=\"https://en.wikipedia.org/wiki/Florida\">Florida<a> </a></a></td><td>80 kg</td></tr>,\n",
              " <td>3</td>,\n",
              " <td><a href=\"https://en.wikipedia.org/wiki/Florida\">Florida<a> </a></a></td>,\n",
              " <a> </a>,\n",
              " <td>80 kg</td>]"
            ]
          },
          "metadata": {},
          "execution_count": 39
        }
      ],
      "source": [
        "table_bs.find_all(href=False)"
      ]
    },
    {
      "cell_type": "markdown",
      "metadata": {
        "id": "BZZmS4F2az0E"
      },
      "source": [
        "<details><summary>Click here for the solution</summary>\n",
        "\n",
        "```\n",
        "table_bs.find_all(href=False)\n",
        "\n",
        "```\n",
        "\n",
        "</details>\n"
      ]
    },
    {
      "cell_type": "markdown",
      "metadata": {
        "id": "seg-oHu9az0E"
      },
      "source": [
        "Using the soup object <code>soup</code>, find the element with the <code>id</code> attribute content set to <code>\"boldest\"</code>.\n"
      ]
    },
    {
      "cell_type": "code",
      "execution_count": 40,
      "metadata": {
        "colab": {
          "base_uri": "https://localhost:8080/"
        },
        "id": "PDB-6NMtaz0E",
        "outputId": "37ab36a0-c62d-450f-f69b-93e437975599"
      },
      "outputs": [
        {
          "output_type": "execute_result",
          "data": {
            "text/plain": [
              "[<b id=\"boldest\">Lebron James</b>]"
            ]
          },
          "metadata": {},
          "execution_count": 40
        }
      ],
      "source": [
        "soup.find_all(id=\"boldest\")"
      ]
    },
    {
      "cell_type": "markdown",
      "metadata": {
        "id": "Dy_tcMBqaz0E"
      },
      "source": [
        "<details><summary>Click here for the solution</summary>\n",
        "\n",
        "```\n",
        "soup.find_all(id=\"boldest\")\n",
        "\n",
        "```\n",
        "\n",
        "</details>\n"
      ]
    },
    {
      "cell_type": "markdown",
      "metadata": {
        "id": "e6UtzYcqaz0E"
      },
      "source": [
        "### string\n"
      ]
    },
    {
      "cell_type": "markdown",
      "metadata": {
        "id": "3HD3C1k-az0F"
      },
      "source": [
        "With string you can search for strings instead of tags, where we find all the elments with Florida:\n"
      ]
    },
    {
      "cell_type": "code",
      "execution_count": 41,
      "metadata": {
        "colab": {
          "base_uri": "https://localhost:8080/"
        },
        "id": "rjrMaCfbaz0F",
        "outputId": "d3dc96ad-0733-4687-cbba-978e7737747d"
      },
      "outputs": [
        {
          "output_type": "execute_result",
          "data": {
            "text/plain": [
              "['Florida', 'Florida']"
            ]
          },
          "metadata": {},
          "execution_count": 41
        }
      ],
      "source": [
        "table_bs.find_all(string=\"Florida\")"
      ]
    },
    {
      "cell_type": "markdown",
      "metadata": {
        "id": "aFkXVm2Yaz0G"
      },
      "source": [
        "## find\n"
      ]
    },
    {
      "cell_type": "markdown",
      "metadata": {
        "id": "mlL6mkoxaz0G"
      },
      "source": [
        "The <code>find_all()</code> method scans the entire document looking for results, it’s if you are looking for one element you can use the <code>find()</code> method to find the first element in the document. Consider the following two table:\n"
      ]
    },
    {
      "cell_type": "code",
      "execution_count": 42,
      "metadata": {
        "colab": {
          "base_uri": "https://localhost:8080/",
          "height": 275
        },
        "id": "03UQb2SGaz0G",
        "outputId": "e2644816-a4f0-4a8e-a193-85e9bbc245a8"
      },
      "outputs": [
        {
          "output_type": "display_data",
          "data": {
            "text/plain": [
              "<IPython.core.display.HTML object>"
            ],
            "text/html": [
              "<h3>Rocket Launch </h3>\n",
              "\n",
              "<p>\n",
              "<table class='rocket'>\n",
              "  <tr>\n",
              "    <td>Flight No</td>\n",
              "    <td>Launch site</td> \n",
              "    <td>Payload mass</td>\n",
              "  </tr>\n",
              "  <tr>\n",
              "    <td>1</td>\n",
              "    <td>Florida</td>\n",
              "    <td>300 kg</td>\n",
              "  </tr>\n",
              "  <tr>\n",
              "    <td>2</td>\n",
              "    <td>Texas</td>\n",
              "    <td>94 kg</td>\n",
              "  </tr>\n",
              "  <tr>\n",
              "    <td>3</td>\n",
              "    <td>Florida </td>\n",
              "    <td>80 kg</td>\n",
              "  </tr>\n",
              "</table>\n",
              "</p>\n",
              "<p>\n",
              "\n",
              "<h3>Pizza Party  </h3>\n",
              "  \n",
              "    \n",
              "<table class='pizza'>\n",
              "  <tr>\n",
              "    <td>Pizza Place</td>\n",
              "    <td>Orders</td> \n",
              "    <td>Slices </td>\n",
              "   </tr>\n",
              "  <tr>\n",
              "    <td>Domino's Pizza</td>\n",
              "    <td>10</td>\n",
              "    <td>100</td>\n",
              "  </tr>\n",
              "  <tr>\n",
              "    <td>Little Caesars</td>\n",
              "    <td>12</td>\n",
              "    <td >144 </td>\n",
              "  </tr>\n",
              "  <tr>\n",
              "    <td>Papa John's </td>\n",
              "    <td>15 </td>\n",
              "    <td>165</td>\n",
              "  </tr>\n"
            ]
          },
          "metadata": {}
        }
      ],
      "source": [
        "%%html\n",
        "<h3>Rocket Launch </h3>\n",
        "\n",
        "<p>\n",
        "<table class='rocket'>\n",
        "  <tr>\n",
        "    <td>Flight No</td>\n",
        "    <td>Launch site</td>\n",
        "    <td>Payload mass</td>\n",
        "  </tr>\n",
        "  <tr>\n",
        "    <td>1</td>\n",
        "    <td>Florida</td>\n",
        "    <td>300 kg</td>\n",
        "  </tr>\n",
        "  <tr>\n",
        "    <td>2</td>\n",
        "    <td>Texas</td>\n",
        "    <td>94 kg</td>\n",
        "  </tr>\n",
        "  <tr>\n",
        "    <td>3</td>\n",
        "    <td>Florida </td>\n",
        "    <td>80 kg</td>\n",
        "  </tr>\n",
        "</table>\n",
        "</p>\n",
        "<p>\n",
        "\n",
        "<h3>Pizza Party  </h3>\n",
        "\n",
        "\n",
        "<table class='pizza'>\n",
        "  <tr>\n",
        "    <td>Pizza Place</td>\n",
        "    <td>Orders</td>\n",
        "    <td>Slices </td>\n",
        "   </tr>\n",
        "  <tr>\n",
        "    <td>Domino's Pizza</td>\n",
        "    <td>10</td>\n",
        "    <td>100</td>\n",
        "  </tr>\n",
        "  <tr>\n",
        "    <td>Little Caesars</td>\n",
        "    <td>12</td>\n",
        "    <td >144 </td>\n",
        "  </tr>\n",
        "  <tr>\n",
        "    <td>Papa John's </td>\n",
        "    <td>15 </td>\n",
        "    <td>165</td>\n",
        "  </tr>\n"
      ]
    },
    {
      "cell_type": "markdown",
      "metadata": {
        "id": "MqLEYlCEaz0H"
      },
      "source": [
        "We store the HTML as a Python string and assign <code>two_tables</code>:\n"
      ]
    },
    {
      "cell_type": "code",
      "execution_count": 43,
      "metadata": {
        "id": "FrFMkW2Xaz0H"
      },
      "outputs": [],
      "source": [
        "two_tables=\"<h3>Rocket Launch </h3><p><table class='rocket'><tr><td>Flight No</td><td>Launch site</td> <td>Payload mass</td></tr><tr><td>1</td><td>Florida</td><td>300 kg</td></tr><tr><td>2</td><td>Texas</td><td>94 kg</td></tr><tr><td>3</td><td>Florida </td><td>80 kg</td></tr></table></p><p><h3>Pizza Party  </h3><table class='pizza'><tr><td>Pizza Place</td><td>Orders</td> <td>Slices </td></tr><tr><td>Domino's Pizza</td><td>10</td><td>100</td></tr><tr><td>Little Caesars</td><td>12</td><td >144 </td></tr><tr><td>Papa John's </td><td>15 </td><td>165</td></tr>\""
      ]
    },
    {
      "cell_type": "markdown",
      "metadata": {
        "id": "vY54_kW2az0H"
      },
      "source": [
        "We create a <code>BeautifulSoup</code> object  <code>two_tables_bs</code>\n"
      ]
    },
    {
      "cell_type": "code",
      "execution_count": 44,
      "metadata": {
        "id": "zFf_gOXuaz0H"
      },
      "outputs": [],
      "source": [
        "two_tables_bs= BeautifulSoup(two_tables, 'html.parser')"
      ]
    },
    {
      "cell_type": "markdown",
      "metadata": {
        "id": "UfsXV2osaz0H"
      },
      "source": [
        "We can find the first table using the tag name table\n"
      ]
    },
    {
      "cell_type": "code",
      "execution_count": 45,
      "metadata": {
        "colab": {
          "base_uri": "https://localhost:8080/"
        },
        "id": "kjXTre_Jaz0I",
        "outputId": "ded7f0df-cb72-4754-9a12-e0409112a3c5"
      },
      "outputs": [
        {
          "output_type": "execute_result",
          "data": {
            "text/plain": [
              "<table class=\"rocket\"><tr><td>Flight No</td><td>Launch site</td> <td>Payload mass</td></tr><tr><td>1</td><td>Florida</td><td>300 kg</td></tr><tr><td>2</td><td>Texas</td><td>94 kg</td></tr><tr><td>3</td><td>Florida </td><td>80 kg</td></tr></table>"
            ]
          },
          "metadata": {},
          "execution_count": 45
        }
      ],
      "source": [
        "two_tables_bs.find(\"table\")"
      ]
    },
    {
      "cell_type": "markdown",
      "metadata": {
        "id": "yTBgZYpSaz0I"
      },
      "source": [
        "We can filter on the class attribute to find the second table, but because class is a keyword in Python, we add an underscore.\n"
      ]
    },
    {
      "cell_type": "code",
      "execution_count": 46,
      "metadata": {
        "colab": {
          "base_uri": "https://localhost:8080/"
        },
        "id": "VGHLnR6Xaz0I",
        "outputId": "489ead2d-f36d-4940-938e-331162e20d88"
      },
      "outputs": [
        {
          "output_type": "execute_result",
          "data": {
            "text/plain": [
              "<table class=\"pizza\"><tr><td>Pizza Place</td><td>Orders</td> <td>Slices </td></tr><tr><td>Domino's Pizza</td><td>10</td><td>100</td></tr><tr><td>Little Caesars</td><td>12</td><td>144 </td></tr><tr><td>Papa John's </td><td>15 </td><td>165</td></tr></table>"
            ]
          },
          "metadata": {},
          "execution_count": 46
        }
      ],
      "source": [
        "two_tables_bs.find(\"table\",class_='pizza')"
      ]
    },
    {
      "cell_type": "markdown",
      "metadata": {
        "id": "QO8a9KZ5az0I"
      },
      "source": [
        "<h2 id=\"DSCW\">Downloading And Scraping The Contents Of A Web Page</h2>\n"
      ]
    },
    {
      "cell_type": "markdown",
      "metadata": {
        "id": "H9-luW7Saz0J"
      },
      "source": [
        "We Download the contents of the web page:\n"
      ]
    },
    {
      "cell_type": "code",
      "execution_count": 47,
      "metadata": {
        "id": "HEsM1ZfLaz0J"
      },
      "outputs": [],
      "source": [
        "url = \"http://www.ibm.com\""
      ]
    },
    {
      "cell_type": "markdown",
      "metadata": {
        "id": "j9atBL4jaz0J"
      },
      "source": [
        "We use <code>get</code> to download the contents of the webpage in text format and store in a variable called <code>data</code>:\n"
      ]
    },
    {
      "cell_type": "code",
      "execution_count": 48,
      "metadata": {
        "id": "h84xo8e0az0J"
      },
      "outputs": [],
      "source": [
        "data  = requests.get(url).text"
      ]
    },
    {
      "cell_type": "markdown",
      "metadata": {
        "id": "nOhH-Ytdaz0J"
      },
      "source": [
        "We create a <code>BeautifulSoup</code> object using the <code>BeautifulSoup</code> constructor\n"
      ]
    },
    {
      "cell_type": "code",
      "execution_count": 49,
      "metadata": {
        "id": "Vsps2yfqaz0K"
      },
      "outputs": [],
      "source": [
        "soup = BeautifulSoup(data,\"html.parser\")  # create a soup object using the variable 'data'"
      ]
    },
    {
      "cell_type": "markdown",
      "metadata": {
        "id": "GcluECR8az0K"
      },
      "source": [
        "Scrape all links\n"
      ]
    },
    {
      "cell_type": "code",
      "execution_count": 51,
      "metadata": {
        "colab": {
          "base_uri": "https://localhost:8080/"
        },
        "id": "JQ6kxB0Raz0K",
        "outputId": "fcef08ca-fcc8-4f19-8fae-20e16dc6c731"
      },
      "outputs": [
        {
          "output_type": "stream",
          "name": "stdout",
          "text": [
            "https://www.ibm.com/thought-leadership/institute-business-value/en-us/report/ceo-generative-ai/application-modernization/\n",
            "https://www.ibm.com/community/ibm-techxchange-conference\n",
            "https://www.ibm.com/products/watsonx-ai\n",
            "https://www.ibm.com/products/watsonx-data\n",
            "https://www.ibm.com/products/spss-statistics/pricing\n",
            "https://www.ibm.com/sports/usopen\n",
            "https://www.ibm.com/cloud?lnk=flatitem\n",
            "https://www.ibm.com/products\n",
            "https://www.ibm.com/consulting\n",
            "https://www.ibm.com/about\n",
            "https://www.ibm.com/\n"
          ]
        }
      ],
      "source": [
        "for link in soup.find_all('a',href=True):  # in html anchor/link is represented by the tag <a>\n",
        "\n",
        "    print(link.get('href'))\n"
      ]
    },
    {
      "cell_type": "markdown",
      "metadata": {
        "id": "eeT_5U9xaz0K"
      },
      "source": [
        "## Scrape  all images  Tags\n"
      ]
    },
    {
      "cell_type": "code",
      "execution_count": 52,
      "metadata": {
        "colab": {
          "base_uri": "https://localhost:8080/"
        },
        "id": "jGN9YSp1az0L",
        "outputId": "b1607524-b0e3-4bd7-9451-0b97fffaa840"
      },
      "outputs": [
        {
          "output_type": "stream",
          "name": "stdout",
          "text": [
            "<img alt=\"Product image for watsonx overview page\" class=\"bx--image__img\" src=\"https://1.dam.s81c.com/p/0c9c5faa18c5c7cf/watsonx-overview-leadspace-super-hybrid-ui-homepage.png.global.xl_1x1.jpg\"/>\n",
            "https://1.dam.s81c.com/p/0c9c5faa18c5c7cf/watsonx-overview-leadspace-super-hybrid-ui-homepage.png.global.xl_1x1.jpg\n",
            "<img alt=\"Concentric illustration showing watsonx.ai capabilities\" aria-describedby=\"bx--image-3\" class=\"bx--image__img\" src=\"https://1.dam.s81c.com/p/0c3ce2dfcccd1f24/watsonx-data-square.jpg\"/>\n",
            "https://1.dam.s81c.com/p/0c3ce2dfcccd1f24/watsonx-data-square.jpg\n",
            "<img alt=\"Illustration of workers digital planning with blue dots and post-its\" aria-describedby=\"bx--image-4\" class=\"bx--image__img\" src=\"https://1.dam.s81c.com/p/0c3ce2dfcccd1f25/watsonx-ai-square.jpg\"/>\n",
            "https://1.dam.s81c.com/p/0c3ce2dfcccd1f25/watsonx-ai-square.jpg\n",
            "<img alt=\"Illustration of people at large digital dashboard\" aria-describedby=\"bx--image-5\" class=\"bx--image__img\" src=\"https://1.dam.s81c.com/p/0b5258b292cc8c3c/ibm-SPSS-home-card.png.global.xs_1x1.png\"/>\n",
            "https://1.dam.s81c.com/p/0b5258b292cc8c3c/ibm-SPSS-home-card.png.global.xs_1x1.png\n",
            "<img alt=\"Illustration of tennis balls flying on blue background\" aria-describedby=\"bx--image-6\" class=\"bx--image__img\" src=\"https://1.dam.s81c.com/p/0c9c5faa18c5c7c0/0c6278d221ada9b-1230810_ibm_us_open_2023_leadspace.jpg\"/>\n",
            "https://1.dam.s81c.com/p/0c9c5faa18c5c7c0/0c6278d221ada9b-1230810_ibm_us_open_2023_leadspace.jpg\n",
            "<img alt=\"Grid of IBM consultant portraits\" class=\"bx--image__img\" src=\"https://1.dam.s81c.com/p/0aac9cf57bcbf324/dotcom-1-overview.jpg\"/>\n",
            "https://1.dam.s81c.com/p/0aac9cf57bcbf324/dotcom-1-overview.jpg\n"
          ]
        }
      ],
      "source": [
        "for link in soup.find_all('img'):# in html image is represented by the tag <img>\n",
        "    print(link)\n",
        "    print(link.get('src'))"
      ]
    },
    {
      "cell_type": "markdown",
      "metadata": {
        "id": "g4LkWv4eaz0L"
      },
      "source": [
        "## Scrape data from HTML tables\n"
      ]
    },
    {
      "cell_type": "code",
      "execution_count": 53,
      "metadata": {
        "id": "2Beouer9az0L"
      },
      "outputs": [],
      "source": [
        "#The below url contains an html table with data about colors and color codes.\n",
        "url = \"https://cf-courses-data.s3.us.cloud-object-storage.appdomain.cloud/IBM-DA0321EN-SkillsNetwork/labs/datasets/HTMLColorCodes.html\""
      ]
    },
    {
      "cell_type": "markdown",
      "metadata": {
        "id": "gTe7FA3yaz0L"
      },
      "source": [
        "Before proceeding to scrape a web site, you need to examine the contents, and the way data is organized on the website. Open the above url in your browser and check how many rows and columns are there in the color table.\n"
      ]
    },
    {
      "cell_type": "code",
      "execution_count": 54,
      "metadata": {
        "id": "y1fczBnfaz0M"
      },
      "outputs": [],
      "source": [
        "# get the contents of the webpage in text format and store in a variable called data\n",
        "data  = requests.get(url).text"
      ]
    },
    {
      "cell_type": "code",
      "execution_count": 55,
      "metadata": {
        "id": "22LFtNW2az0M"
      },
      "outputs": [],
      "source": [
        "soup = BeautifulSoup(data,\"html.parser\")"
      ]
    },
    {
      "cell_type": "code",
      "execution_count": 56,
      "metadata": {
        "id": "mlQoZnTlaz0M"
      },
      "outputs": [],
      "source": [
        "#find a html table in the web page\n",
        "table = soup.find('table') # in html table is represented by the tag <table>"
      ]
    },
    {
      "cell_type": "code",
      "execution_count": 57,
      "metadata": {
        "colab": {
          "base_uri": "https://localhost:8080/"
        },
        "id": "SV_vrsQyaz0M",
        "outputId": "7cccc154-ed27-428b-ba91-688c2f3889b2"
      },
      "outputs": [
        {
          "output_type": "stream",
          "name": "stdout",
          "text": [
            "Color Name--->None\n",
            "lightsalmon--->#FFA07A\n",
            "salmon--->#FA8072\n",
            "darksalmon--->#E9967A\n",
            "lightcoral--->#F08080\n",
            "coral--->#FF7F50\n",
            "tomato--->#FF6347\n",
            "orangered--->#FF4500\n",
            "gold--->#FFD700\n",
            "orange--->#FFA500\n",
            "darkorange--->#FF8C00\n",
            "lightyellow--->#FFFFE0\n",
            "lemonchiffon--->#FFFACD\n",
            "papayawhip--->#FFEFD5\n",
            "moccasin--->#FFE4B5\n",
            "peachpuff--->#FFDAB9\n",
            "palegoldenrod--->#EEE8AA\n",
            "khaki--->#F0E68C\n",
            "darkkhaki--->#BDB76B\n",
            "yellow--->#FFFF00\n",
            "lawngreen--->#7CFC00\n",
            "chartreuse--->#7FFF00\n",
            "limegreen--->#32CD32\n",
            "lime--->#00FF00\n",
            "forestgreen--->#228B22\n",
            "green--->#008000\n",
            "powderblue--->#B0E0E6\n",
            "lightblue--->#ADD8E6\n",
            "lightskyblue--->#87CEFA\n",
            "skyblue--->#87CEEB\n",
            "deepskyblue--->#00BFFF\n",
            "lightsteelblue--->#B0C4DE\n",
            "dodgerblue--->#1E90FF\n"
          ]
        }
      ],
      "source": [
        "#Get all rows from the table\n",
        "for row in table.find_all('tr'): # in html table row is represented by the tag <tr>\n",
        "    # Get all columns in each row.\n",
        "    cols = row.find_all('td') # in html a column is represented by the tag <td>\n",
        "    color_name = cols[2].string # store the value in column 3 as color_name\n",
        "    color_code = cols[3].string # store the value in column 4 as color_code\n",
        "    print(\"{}--->{}\".format(color_name,color_code))"
      ]
    },
    {
      "cell_type": "markdown",
      "metadata": {
        "id": "vKiTKkMaaz0M"
      },
      "source": [
        "## Scrape data from HTML tables into a DataFrame using BeautifulSoup and Pandas\n"
      ]
    },
    {
      "cell_type": "code",
      "execution_count": 58,
      "metadata": {
        "id": "QnFUL1i9az0N"
      },
      "outputs": [],
      "source": [
        "import pandas as pd"
      ]
    },
    {
      "cell_type": "code",
      "execution_count": 59,
      "metadata": {
        "id": "Q6RMLFStaz0N"
      },
      "outputs": [],
      "source": [
        "#The below url contains html tables with data about world population.\n",
        "url = \"https://en.wikipedia.org/wiki/World_population\""
      ]
    },
    {
      "cell_type": "markdown",
      "metadata": {
        "id": "6Mbt4YoAaz0N"
      },
      "source": [
        "Before proceeding to scrape a web site, you need to examine the contents, and the way data is organized on the website. Open the above url in your browser and check the tables on the webpage.\n"
      ]
    },
    {
      "cell_type": "code",
      "execution_count": 60,
      "metadata": {
        "id": "jhsU4XoCaz0N"
      },
      "outputs": [],
      "source": [
        "# get the contents of the webpage in text format and store in a variable called data\n",
        "data  = requests.get(url).text"
      ]
    },
    {
      "cell_type": "code",
      "execution_count": 61,
      "metadata": {
        "id": "kqDimLobaz0O"
      },
      "outputs": [],
      "source": [
        "soup = BeautifulSoup(data,\"html.parser\")"
      ]
    },
    {
      "cell_type": "code",
      "execution_count": 62,
      "metadata": {
        "id": "eKWOSeoVaz0O"
      },
      "outputs": [],
      "source": [
        "#find all html tables in the web page\n",
        "tables = soup.find_all('table') # in html table is represented by the tag <table>"
      ]
    },
    {
      "cell_type": "code",
      "execution_count": 63,
      "metadata": {
        "colab": {
          "base_uri": "https://localhost:8080/"
        },
        "id": "p0jRvEVYaz0O",
        "outputId": "b5e237f8-f774-47a2-c6c2-fb3cb79ebcd4"
      },
      "outputs": [
        {
          "output_type": "execute_result",
          "data": {
            "text/plain": [
              "29"
            ]
          },
          "metadata": {},
          "execution_count": 63
        }
      ],
      "source": [
        "# we can see how many tables were found by checking the length of the tables list\n",
        "len(tables)"
      ]
    },
    {
      "cell_type": "markdown",
      "metadata": {
        "id": "FzcKxRkXaz0O"
      },
      "source": [
        "Assume that we are looking for the `10 most densly populated countries` table, we can look through the tables list and find the right one we are look for based on the data in each table or we can search for the table name if it is in the table but this option might not always work.\n"
      ]
    },
    {
      "cell_type": "code",
      "execution_count": 64,
      "metadata": {
        "colab": {
          "base_uri": "https://localhost:8080/"
        },
        "id": "sUy3oHiRaz0O",
        "outputId": "556ff10b-78b0-4717-b598-5ebd79e8fb0a"
      },
      "outputs": [
        {
          "output_type": "stream",
          "name": "stdout",
          "text": [
            "7\n"
          ]
        }
      ],
      "source": [
        "for index,table in enumerate(tables):\n",
        "    if (\"10 most densely populated countries\" in str(table)):\n",
        "        table_index = index\n",
        "print(table_index)"
      ]
    },
    {
      "cell_type": "markdown",
      "metadata": {
        "id": "A3Zrf7DIaz0P"
      },
      "source": [
        "See if you can locate the table name of the table, `10 most densly populated countries`, below.\n"
      ]
    },
    {
      "cell_type": "code",
      "execution_count": 65,
      "metadata": {
        "colab": {
          "base_uri": "https://localhost:8080/"
        },
        "id": "WfoZCwRgaz0P",
        "outputId": "ac24973f-9d26-4c2f-e642-7b8c5a14c1c0"
      },
      "outputs": [
        {
          "output_type": "stream",
          "name": "stdout",
          "text": [
            "<table class=\"wikitable sortable\" style=\"text-align:right\">\n",
            " <caption>\n",
            "  10 most densely populated countries\n",
            "  <small>\n",
            "   (with population above 5 million)\n",
            "  </small>\n",
            "  <sup class=\"reference\" id=\"cite_ref-:10_106-0\">\n",
            "   <a href=\"#cite_note-:10-106\">\n",
            "    [102]\n",
            "   </a>\n",
            "  </sup>\n",
            " </caption>\n",
            " <tbody>\n",
            "  <tr>\n",
            "   <th scope=\"col\">\n",
            "    Rank\n",
            "   </th>\n",
            "   <th scope=\"col\">\n",
            "    Country\n",
            "   </th>\n",
            "   <th scope=\"col\">\n",
            "    Population\n",
            "   </th>\n",
            "   <th scope=\"col\">\n",
            "    Area\n",
            "    <br/>\n",
            "    <small>\n",
            "     (km\n",
            "     <sup>\n",
            "      2\n",
            "     </sup>\n",
            "     )\n",
            "    </small>\n",
            "   </th>\n",
            "   <th scope=\"col\">\n",
            "    Density\n",
            "    <br/>\n",
            "    <small>\n",
            "     (pop/km\n",
            "     <sup>\n",
            "      2\n",
            "     </sup>\n",
            "     )\n",
            "    </small>\n",
            "   </th>\n",
            "  </tr>\n",
            "  <tr>\n",
            "   <td>\n",
            "    1\n",
            "   </td>\n",
            "   <td align=\"left\">\n",
            "    <span class=\"flagicon\">\n",
            "     <span class=\"mw-image-border\" typeof=\"mw:File\">\n",
            "      <span>\n",
            "       <img alt=\"\" class=\"mw-file-element\" data-file-height=\"600\" data-file-width=\"900\" decoding=\"async\" height=\"15\" src=\"//upload.wikimedia.org/wikipedia/commons/thumb/4/48/Flag_of_Singapore.svg/23px-Flag_of_Singapore.svg.png\" srcset=\"//upload.wikimedia.org/wikipedia/commons/thumb/4/48/Flag_of_Singapore.svg/35px-Flag_of_Singapore.svg.png 1.5x, //upload.wikimedia.org/wikipedia/commons/thumb/4/48/Flag_of_Singapore.svg/45px-Flag_of_Singapore.svg.png 2x\" width=\"23\"/>\n",
            "      </span>\n",
            "     </span>\n",
            "    </span>\n",
            "    <a href=\"/wiki/Singapore\" title=\"Singapore\">\n",
            "     Singapore\n",
            "    </a>\n",
            "   </td>\n",
            "   <td>\n",
            "    5,921,231\n",
            "   </td>\n",
            "   <td>\n",
            "    719\n",
            "   </td>\n",
            "   <td>\n",
            "    8,235\n",
            "   </td>\n",
            "  </tr>\n",
            "  <tr>\n",
            "   <td>\n",
            "    2\n",
            "   </td>\n",
            "   <td align=\"left\">\n",
            "    <span class=\"flagicon\">\n",
            "     <span class=\"mw-image-border\" typeof=\"mw:File\">\n",
            "      <span>\n",
            "       <img alt=\"\" class=\"mw-file-element\" data-file-height=\"600\" data-file-width=\"1000\" decoding=\"async\" height=\"14\" src=\"//upload.wikimedia.org/wikipedia/commons/thumb/f/f9/Flag_of_Bangladesh.svg/23px-Flag_of_Bangladesh.svg.png\" srcset=\"//upload.wikimedia.org/wikipedia/commons/thumb/f/f9/Flag_of_Bangladesh.svg/35px-Flag_of_Bangladesh.svg.png 1.5x, //upload.wikimedia.org/wikipedia/commons/thumb/f/f9/Flag_of_Bangladesh.svg/46px-Flag_of_Bangladesh.svg.png 2x\" width=\"23\"/>\n",
            "      </span>\n",
            "     </span>\n",
            "    </span>\n",
            "    <a href=\"/wiki/Bangladesh\" title=\"Bangladesh\">\n",
            "     Bangladesh\n",
            "    </a>\n",
            "   </td>\n",
            "   <td>\n",
            "    165,650,475\n",
            "   </td>\n",
            "   <td>\n",
            "    148,460\n",
            "   </td>\n",
            "   <td>\n",
            "    1,116\n",
            "   </td>\n",
            "  </tr>\n",
            "  <tr>\n",
            "   <td>\n",
            "    3\n",
            "   </td>\n",
            "   <td align=\"left\">\n",
            "    <p>\n",
            "     <span class=\"flagicon\">\n",
            "      <span class=\"mw-image-border\" typeof=\"mw:File\">\n",
            "       <span>\n",
            "        <img alt=\"\" class=\"mw-file-element\" data-file-height=\"600\" data-file-width=\"1200\" decoding=\"async\" height=\"12\" src=\"//upload.wikimedia.org/wikipedia/commons/thumb/0/00/Flag_of_Palestine.svg/23px-Flag_of_Palestine.svg.png\" srcset=\"//upload.wikimedia.org/wikipedia/commons/thumb/0/00/Flag_of_Palestine.svg/35px-Flag_of_Palestine.svg.png 1.5x, //upload.wikimedia.org/wikipedia/commons/thumb/0/00/Flag_of_Palestine.svg/46px-Flag_of_Palestine.svg.png 2x\" width=\"23\"/>\n",
            "       </span>\n",
            "      </span>\n",
            "     </span>\n",
            "     <a href=\"/wiki/State_of_Palestine\" title=\"State of Palestine\">\n",
            "      Palestine\n",
            "     </a>\n",
            "     <sup class=\"reference\" id=\"cite_ref-107\">\n",
            "      <a href=\"#cite_note-107\">\n",
            "       [note 3]\n",
            "      </a>\n",
            "     </sup>\n",
            "     <sup class=\"reference\" id=\"cite_ref-108\">\n",
            "      <a href=\"#cite_note-108\">\n",
            "       [103]\n",
            "      </a>\n",
            "     </sup>\n",
            "    </p>\n",
            "   </td>\n",
            "   <td>\n",
            "    5,223,000\n",
            "   </td>\n",
            "   <td>\n",
            "    6,025\n",
            "   </td>\n",
            "   <td>\n",
            "    867\n",
            "   </td>\n",
            "  </tr>\n",
            "  <tr>\n",
            "   <td>\n",
            "    4\n",
            "   </td>\n",
            "   <td align=\"left\">\n",
            "    <span class=\"flagicon\">\n",
            "     <span class=\"mw-image-border\" typeof=\"mw:File\">\n",
            "      <span>\n",
            "       <img alt=\"\" class=\"mw-file-element\" data-file-height=\"600\" data-file-width=\"900\" decoding=\"async\" height=\"15\" src=\"//upload.wikimedia.org/wikipedia/commons/thumb/7/72/Flag_of_the_Republic_of_China.svg/23px-Flag_of_the_Republic_of_China.svg.png\" srcset=\"//upload.wikimedia.org/wikipedia/commons/thumb/7/72/Flag_of_the_Republic_of_China.svg/35px-Flag_of_the_Republic_of_China.svg.png 1.5x, //upload.wikimedia.org/wikipedia/commons/thumb/7/72/Flag_of_the_Republic_of_China.svg/45px-Flag_of_the_Republic_of_China.svg.png 2x\" width=\"23\"/>\n",
            "      </span>\n",
            "     </span>\n",
            "    </span>\n",
            "    <a href=\"/wiki/Taiwan\" title=\"Taiwan\">\n",
            "     Taiwan\n",
            "    </a>\n",
            "    <sup class=\"reference\" id=\"cite_ref-109\">\n",
            "     <a href=\"#cite_note-109\">\n",
            "      [note 4]\n",
            "     </a>\n",
            "    </sup>\n",
            "   </td>\n",
            "   <td>\n",
            "    23,580,712\n",
            "   </td>\n",
            "   <td>\n",
            "    35,980\n",
            "   </td>\n",
            "   <td>\n",
            "    655\n",
            "   </td>\n",
            "  </tr>\n",
            "  <tr>\n",
            "   <td>\n",
            "    5\n",
            "   </td>\n",
            "   <td align=\"left\">\n",
            "    <span class=\"flagicon\">\n",
            "     <span class=\"mw-image-border\" typeof=\"mw:File\">\n",
            "      <span>\n",
            "       <img alt=\"\" class=\"mw-file-element\" data-file-height=\"600\" data-file-width=\"900\" decoding=\"async\" height=\"15\" src=\"//upload.wikimedia.org/wikipedia/commons/thumb/0/09/Flag_of_South_Korea.svg/23px-Flag_of_South_Korea.svg.png\" srcset=\"//upload.wikimedia.org/wikipedia/commons/thumb/0/09/Flag_of_South_Korea.svg/35px-Flag_of_South_Korea.svg.png 1.5x, //upload.wikimedia.org/wikipedia/commons/thumb/0/09/Flag_of_South_Korea.svg/45px-Flag_of_South_Korea.svg.png 2x\" width=\"23\"/>\n",
            "      </span>\n",
            "     </span>\n",
            "    </span>\n",
            "    <a href=\"/wiki/South_Korea\" title=\"South Korea\">\n",
            "     South Korea\n",
            "    </a>\n",
            "   </td>\n",
            "   <td>\n",
            "    51,844,834\n",
            "   </td>\n",
            "   <td>\n",
            "    99,720\n",
            "   </td>\n",
            "   <td>\n",
            "    520\n",
            "   </td>\n",
            "  </tr>\n",
            "  <tr>\n",
            "   <td>\n",
            "    6\n",
            "   </td>\n",
            "   <td align=\"left\">\n",
            "    <span class=\"flagicon\">\n",
            "     <span class=\"mw-image-border\" typeof=\"mw:File\">\n",
            "      <span>\n",
            "       <img alt=\"\" class=\"mw-file-element\" data-file-height=\"600\" data-file-width=\"900\" decoding=\"async\" height=\"15\" src=\"//upload.wikimedia.org/wikipedia/commons/thumb/5/59/Flag_of_Lebanon.svg/23px-Flag_of_Lebanon.svg.png\" srcset=\"//upload.wikimedia.org/wikipedia/commons/thumb/5/59/Flag_of_Lebanon.svg/35px-Flag_of_Lebanon.svg.png 1.5x, //upload.wikimedia.org/wikipedia/commons/thumb/5/59/Flag_of_Lebanon.svg/45px-Flag_of_Lebanon.svg.png 2x\" width=\"23\"/>\n",
            "      </span>\n",
            "     </span>\n",
            "    </span>\n",
            "    <a href=\"/wiki/Lebanon\" title=\"Lebanon\">\n",
            "     Lebanon\n",
            "    </a>\n",
            "   </td>\n",
            "   <td>\n",
            "    5,296,814\n",
            "   </td>\n",
            "   <td>\n",
            "    10,400\n",
            "   </td>\n",
            "   <td>\n",
            "    509\n",
            "   </td>\n",
            "  </tr>\n",
            "  <tr>\n",
            "   <td>\n",
            "    7\n",
            "   </td>\n",
            "   <td align=\"left\">\n",
            "    <span class=\"flagicon\">\n",
            "     <span class=\"mw-image-border\" typeof=\"mw:File\">\n",
            "      <span>\n",
            "       <img alt=\"\" class=\"mw-file-element\" data-file-height=\"600\" data-file-width=\"900\" decoding=\"async\" height=\"15\" src=\"//upload.wikimedia.org/wikipedia/commons/thumb/1/17/Flag_of_Rwanda.svg/23px-Flag_of_Rwanda.svg.png\" srcset=\"//upload.wikimedia.org/wikipedia/commons/thumb/1/17/Flag_of_Rwanda.svg/35px-Flag_of_Rwanda.svg.png 1.5x, //upload.wikimedia.org/wikipedia/commons/thumb/1/17/Flag_of_Rwanda.svg/45px-Flag_of_Rwanda.svg.png 2x\" width=\"23\"/>\n",
            "      </span>\n",
            "     </span>\n",
            "    </span>\n",
            "    <a href=\"/wiki/Rwanda\" title=\"Rwanda\">\n",
            "     Rwanda\n",
            "    </a>\n",
            "   </td>\n",
            "   <td>\n",
            "    13,173,730\n",
            "   </td>\n",
            "   <td>\n",
            "    26,338\n",
            "   </td>\n",
            "   <td>\n",
            "    500\n",
            "   </td>\n",
            "  </tr>\n",
            "  <tr>\n",
            "   <td>\n",
            "    8\n",
            "   </td>\n",
            "   <td align=\"left\">\n",
            "    <span class=\"flagicon\">\n",
            "     <span class=\"mw-image-border\" typeof=\"mw:File\">\n",
            "      <span>\n",
            "       <img alt=\"\" class=\"mw-file-element\" data-file-height=\"600\" data-file-width=\"1000\" decoding=\"async\" height=\"14\" src=\"//upload.wikimedia.org/wikipedia/commons/thumb/5/50/Flag_of_Burundi.svg/23px-Flag_of_Burundi.svg.png\" srcset=\"//upload.wikimedia.org/wikipedia/commons/thumb/5/50/Flag_of_Burundi.svg/35px-Flag_of_Burundi.svg.png 1.5x, //upload.wikimedia.org/wikipedia/commons/thumb/5/50/Flag_of_Burundi.svg/46px-Flag_of_Burundi.svg.png 2x\" width=\"23\"/>\n",
            "      </span>\n",
            "     </span>\n",
            "    </span>\n",
            "    <a href=\"/wiki/Burundi\" title=\"Burundi\">\n",
            "     Burundi\n",
            "    </a>\n",
            "   </td>\n",
            "   <td>\n",
            "    12,696,478\n",
            "   </td>\n",
            "   <td>\n",
            "    27,830\n",
            "   </td>\n",
            "   <td>\n",
            "    456\n",
            "   </td>\n",
            "  </tr>\n",
            "  <tr>\n",
            "   <td>\n",
            "    9\n",
            "   </td>\n",
            "   <td align=\"left\">\n",
            "    <span class=\"flagicon\">\n",
            "     <span class=\"mw-image-border\" typeof=\"mw:File\">\n",
            "      <span>\n",
            "       <img alt=\"\" class=\"mw-file-element\" data-file-height=\"600\" data-file-width=\"900\" decoding=\"async\" height=\"15\" src=\"//upload.wikimedia.org/wikipedia/en/thumb/4/41/Flag_of_India.svg/23px-Flag_of_India.svg.png\" srcset=\"//upload.wikimedia.org/wikipedia/en/thumb/4/41/Flag_of_India.svg/35px-Flag_of_India.svg.png 1.5x, //upload.wikimedia.org/wikipedia/en/thumb/4/41/Flag_of_India.svg/45px-Flag_of_India.svg.png 2x\" width=\"23\"/>\n",
            "      </span>\n",
            "     </span>\n",
            "    </span>\n",
            "    <a href=\"/wiki/India\" title=\"India\">\n",
            "     India\n",
            "    </a>\n",
            "   </td>\n",
            "   <td>\n",
            "    1,389,637,446\n",
            "   </td>\n",
            "   <td>\n",
            "    3,287,263\n",
            "   </td>\n",
            "   <td>\n",
            "    423\n",
            "   </td>\n",
            "  </tr>\n",
            "  <tr>\n",
            "   <td>\n",
            "    10\n",
            "   </td>\n",
            "   <td align=\"left\">\n",
            "    <span class=\"flagicon\">\n",
            "     <span class=\"mw-image-border\" typeof=\"mw:File\">\n",
            "      <span>\n",
            "       <img alt=\"\" class=\"mw-file-element\" data-file-height=\"600\" data-file-width=\"900\" decoding=\"async\" height=\"15\" src=\"//upload.wikimedia.org/wikipedia/commons/thumb/2/20/Flag_of_the_Netherlands.svg/23px-Flag_of_the_Netherlands.svg.png\" srcset=\"//upload.wikimedia.org/wikipedia/commons/thumb/2/20/Flag_of_the_Netherlands.svg/35px-Flag_of_the_Netherlands.svg.png 1.5x, //upload.wikimedia.org/wikipedia/commons/thumb/2/20/Flag_of_the_Netherlands.svg/45px-Flag_of_the_Netherlands.svg.png 2x\" width=\"23\"/>\n",
            "      </span>\n",
            "     </span>\n",
            "    </span>\n",
            "    <a href=\"/wiki/Netherlands\" title=\"Netherlands\">\n",
            "     Netherlands\n",
            "    </a>\n",
            "   </td>\n",
            "   <td>\n",
            "    17,400,824\n",
            "   </td>\n",
            "   <td>\n",
            "    41,543\n",
            "   </td>\n",
            "   <td>\n",
            "    419\n",
            "   </td>\n",
            "  </tr>\n",
            " </tbody>\n",
            "</table>\n",
            "\n"
          ]
        }
      ],
      "source": [
        "print(tables[table_index].prettify())"
      ]
    },
    {
      "cell_type": "code",
      "execution_count": 66,
      "metadata": {
        "colab": {
          "base_uri": "https://localhost:8080/",
          "height": 730
        },
        "id": "fD2kEBVbaz0Q",
        "outputId": "652f121b-b692-4521-b41b-17aba0e58e86"
      },
      "outputs": [
        {
          "output_type": "stream",
          "name": "stderr",
          "text": [
            "<ipython-input-66-b5a72626b929>:11: FutureWarning: The frame.append method is deprecated and will be removed from pandas in a future version. Use pandas.concat instead.\n",
            "  population_data = population_data.append({\"Rank\":rank, \"Country\":country, \"Population\":population, \"Area\":area, \"Density\":density}, ignore_index=True)\n",
            "<ipython-input-66-b5a72626b929>:11: FutureWarning: The frame.append method is deprecated and will be removed from pandas in a future version. Use pandas.concat instead.\n",
            "  population_data = population_data.append({\"Rank\":rank, \"Country\":country, \"Population\":population, \"Area\":area, \"Density\":density}, ignore_index=True)\n",
            "<ipython-input-66-b5a72626b929>:11: FutureWarning: The frame.append method is deprecated and will be removed from pandas in a future version. Use pandas.concat instead.\n",
            "  population_data = population_data.append({\"Rank\":rank, \"Country\":country, \"Population\":population, \"Area\":area, \"Density\":density}, ignore_index=True)\n",
            "<ipython-input-66-b5a72626b929>:11: FutureWarning: The frame.append method is deprecated and will be removed from pandas in a future version. Use pandas.concat instead.\n",
            "  population_data = population_data.append({\"Rank\":rank, \"Country\":country, \"Population\":population, \"Area\":area, \"Density\":density}, ignore_index=True)\n",
            "<ipython-input-66-b5a72626b929>:11: FutureWarning: The frame.append method is deprecated and will be removed from pandas in a future version. Use pandas.concat instead.\n",
            "  population_data = population_data.append({\"Rank\":rank, \"Country\":country, \"Population\":population, \"Area\":area, \"Density\":density}, ignore_index=True)\n",
            "<ipython-input-66-b5a72626b929>:11: FutureWarning: The frame.append method is deprecated and will be removed from pandas in a future version. Use pandas.concat instead.\n",
            "  population_data = population_data.append({\"Rank\":rank, \"Country\":country, \"Population\":population, \"Area\":area, \"Density\":density}, ignore_index=True)\n",
            "<ipython-input-66-b5a72626b929>:11: FutureWarning: The frame.append method is deprecated and will be removed from pandas in a future version. Use pandas.concat instead.\n",
            "  population_data = population_data.append({\"Rank\":rank, \"Country\":country, \"Population\":population, \"Area\":area, \"Density\":density}, ignore_index=True)\n",
            "<ipython-input-66-b5a72626b929>:11: FutureWarning: The frame.append method is deprecated and will be removed from pandas in a future version. Use pandas.concat instead.\n",
            "  population_data = population_data.append({\"Rank\":rank, \"Country\":country, \"Population\":population, \"Area\":area, \"Density\":density}, ignore_index=True)\n",
            "<ipython-input-66-b5a72626b929>:11: FutureWarning: The frame.append method is deprecated and will be removed from pandas in a future version. Use pandas.concat instead.\n",
            "  population_data = population_data.append({\"Rank\":rank, \"Country\":country, \"Population\":population, \"Area\":area, \"Density\":density}, ignore_index=True)\n",
            "<ipython-input-66-b5a72626b929>:11: FutureWarning: The frame.append method is deprecated and will be removed from pandas in a future version. Use pandas.concat instead.\n",
            "  population_data = population_data.append({\"Rank\":rank, \"Country\":country, \"Population\":population, \"Area\":area, \"Density\":density}, ignore_index=True)\n"
          ]
        },
        {
          "output_type": "execute_result",
          "data": {
            "text/plain": [
              "  Rank                        Country     Population       Area Density\n",
              "0    1                      Singapore      5,921,231        719   8,235\n",
              "1    2                     Bangladesh    165,650,475    148,460   1,116\n",
              "2    3  \\n Palestine[note 3][103]\\n\\n      5,223,000      6,025     867\n",
              "3    4                 Taiwan[note 4]     23,580,712     35,980     655\n",
              "4    5                    South Korea     51,844,834     99,720     520\n",
              "5    6                        Lebanon      5,296,814     10,400     509\n",
              "6    7                         Rwanda     13,173,730     26,338     500\n",
              "7    8                        Burundi     12,696,478     27,830     456\n",
              "8    9                          India  1,389,637,446  3,287,263     423\n",
              "9   10                    Netherlands     17,400,824     41,543     419"
            ],
            "text/html": [
              "\n",
              "  <div id=\"df-06dd61c1-47b6-4439-8e17-98ceb4af5f2b\" class=\"colab-df-container\">\n",
              "    <div>\n",
              "<style scoped>\n",
              "    .dataframe tbody tr th:only-of-type {\n",
              "        vertical-align: middle;\n",
              "    }\n",
              "\n",
              "    .dataframe tbody tr th {\n",
              "        vertical-align: top;\n",
              "    }\n",
              "\n",
              "    .dataframe thead th {\n",
              "        text-align: right;\n",
              "    }\n",
              "</style>\n",
              "<table border=\"1\" class=\"dataframe\">\n",
              "  <thead>\n",
              "    <tr style=\"text-align: right;\">\n",
              "      <th></th>\n",
              "      <th>Rank</th>\n",
              "      <th>Country</th>\n",
              "      <th>Population</th>\n",
              "      <th>Area</th>\n",
              "      <th>Density</th>\n",
              "    </tr>\n",
              "  </thead>\n",
              "  <tbody>\n",
              "    <tr>\n",
              "      <th>0</th>\n",
              "      <td>1</td>\n",
              "      <td>Singapore</td>\n",
              "      <td>5,921,231</td>\n",
              "      <td>719</td>\n",
              "      <td>8,235</td>\n",
              "    </tr>\n",
              "    <tr>\n",
              "      <th>1</th>\n",
              "      <td>2</td>\n",
              "      <td>Bangladesh</td>\n",
              "      <td>165,650,475</td>\n",
              "      <td>148,460</td>\n",
              "      <td>1,116</td>\n",
              "    </tr>\n",
              "    <tr>\n",
              "      <th>2</th>\n",
              "      <td>3</td>\n",
              "      <td>\\n Palestine[note 3][103]\\n\\n</td>\n",
              "      <td>5,223,000</td>\n",
              "      <td>6,025</td>\n",
              "      <td>867</td>\n",
              "    </tr>\n",
              "    <tr>\n",
              "      <th>3</th>\n",
              "      <td>4</td>\n",
              "      <td>Taiwan[note 4]</td>\n",
              "      <td>23,580,712</td>\n",
              "      <td>35,980</td>\n",
              "      <td>655</td>\n",
              "    </tr>\n",
              "    <tr>\n",
              "      <th>4</th>\n",
              "      <td>5</td>\n",
              "      <td>South Korea</td>\n",
              "      <td>51,844,834</td>\n",
              "      <td>99,720</td>\n",
              "      <td>520</td>\n",
              "    </tr>\n",
              "    <tr>\n",
              "      <th>5</th>\n",
              "      <td>6</td>\n",
              "      <td>Lebanon</td>\n",
              "      <td>5,296,814</td>\n",
              "      <td>10,400</td>\n",
              "      <td>509</td>\n",
              "    </tr>\n",
              "    <tr>\n",
              "      <th>6</th>\n",
              "      <td>7</td>\n",
              "      <td>Rwanda</td>\n",
              "      <td>13,173,730</td>\n",
              "      <td>26,338</td>\n",
              "      <td>500</td>\n",
              "    </tr>\n",
              "    <tr>\n",
              "      <th>7</th>\n",
              "      <td>8</td>\n",
              "      <td>Burundi</td>\n",
              "      <td>12,696,478</td>\n",
              "      <td>27,830</td>\n",
              "      <td>456</td>\n",
              "    </tr>\n",
              "    <tr>\n",
              "      <th>8</th>\n",
              "      <td>9</td>\n",
              "      <td>India</td>\n",
              "      <td>1,389,637,446</td>\n",
              "      <td>3,287,263</td>\n",
              "      <td>423</td>\n",
              "    </tr>\n",
              "    <tr>\n",
              "      <th>9</th>\n",
              "      <td>10</td>\n",
              "      <td>Netherlands</td>\n",
              "      <td>17,400,824</td>\n",
              "      <td>41,543</td>\n",
              "      <td>419</td>\n",
              "    </tr>\n",
              "  </tbody>\n",
              "</table>\n",
              "</div>\n",
              "    <div class=\"colab-df-buttons\">\n",
              "\n",
              "  <div class=\"colab-df-container\">\n",
              "    <button class=\"colab-df-convert\" onclick=\"convertToInteractive('df-06dd61c1-47b6-4439-8e17-98ceb4af5f2b')\"\n",
              "            title=\"Convert this dataframe to an interactive table.\"\n",
              "            style=\"display:none;\">\n",
              "\n",
              "  <svg xmlns=\"http://www.w3.org/2000/svg\" height=\"24px\" viewBox=\"0 -960 960 960\">\n",
              "    <path d=\"M120-120v-720h720v720H120Zm60-500h600v-160H180v160Zm220 220h160v-160H400v160Zm0 220h160v-160H400v160ZM180-400h160v-160H180v160Zm440 0h160v-160H620v160ZM180-180h160v-160H180v160Zm440 0h160v-160H620v160Z\"/>\n",
              "  </svg>\n",
              "    </button>\n",
              "\n",
              "  <style>\n",
              "    .colab-df-container {\n",
              "      display:flex;\n",
              "      gap: 12px;\n",
              "    }\n",
              "\n",
              "    .colab-df-convert {\n",
              "      background-color: #E8F0FE;\n",
              "      border: none;\n",
              "      border-radius: 50%;\n",
              "      cursor: pointer;\n",
              "      display: none;\n",
              "      fill: #1967D2;\n",
              "      height: 32px;\n",
              "      padding: 0 0 0 0;\n",
              "      width: 32px;\n",
              "    }\n",
              "\n",
              "    .colab-df-convert:hover {\n",
              "      background-color: #E2EBFA;\n",
              "      box-shadow: 0px 1px 2px rgba(60, 64, 67, 0.3), 0px 1px 3px 1px rgba(60, 64, 67, 0.15);\n",
              "      fill: #174EA6;\n",
              "    }\n",
              "\n",
              "    .colab-df-buttons div {\n",
              "      margin-bottom: 4px;\n",
              "    }\n",
              "\n",
              "    [theme=dark] .colab-df-convert {\n",
              "      background-color: #3B4455;\n",
              "      fill: #D2E3FC;\n",
              "    }\n",
              "\n",
              "    [theme=dark] .colab-df-convert:hover {\n",
              "      background-color: #434B5C;\n",
              "      box-shadow: 0px 1px 3px 1px rgba(0, 0, 0, 0.15);\n",
              "      filter: drop-shadow(0px 1px 2px rgba(0, 0, 0, 0.3));\n",
              "      fill: #FFFFFF;\n",
              "    }\n",
              "  </style>\n",
              "\n",
              "    <script>\n",
              "      const buttonEl =\n",
              "        document.querySelector('#df-06dd61c1-47b6-4439-8e17-98ceb4af5f2b button.colab-df-convert');\n",
              "      buttonEl.style.display =\n",
              "        google.colab.kernel.accessAllowed ? 'block' : 'none';\n",
              "\n",
              "      async function convertToInteractive(key) {\n",
              "        const element = document.querySelector('#df-06dd61c1-47b6-4439-8e17-98ceb4af5f2b');\n",
              "        const dataTable =\n",
              "          await google.colab.kernel.invokeFunction('convertToInteractive',\n",
              "                                                    [key], {});\n",
              "        if (!dataTable) return;\n",
              "\n",
              "        const docLinkHtml = 'Like what you see? Visit the ' +\n",
              "          '<a target=\"_blank\" href=https://colab.research.google.com/notebooks/data_table.ipynb>data table notebook</a>'\n",
              "          + ' to learn more about interactive tables.';\n",
              "        element.innerHTML = '';\n",
              "        dataTable['output_type'] = 'display_data';\n",
              "        await google.colab.output.renderOutput(dataTable, element);\n",
              "        const docLink = document.createElement('div');\n",
              "        docLink.innerHTML = docLinkHtml;\n",
              "        element.appendChild(docLink);\n",
              "      }\n",
              "    </script>\n",
              "  </div>\n",
              "\n",
              "\n",
              "<div id=\"df-c79e6ea4-9ee6-4ae1-8f0e-43038cff13fc\">\n",
              "  <button class=\"colab-df-quickchart\" onclick=\"quickchart('df-c79e6ea4-9ee6-4ae1-8f0e-43038cff13fc')\"\n",
              "            title=\"Suggest charts.\"\n",
              "            style=\"display:none;\">\n",
              "\n",
              "<svg xmlns=\"http://www.w3.org/2000/svg\" height=\"24px\"viewBox=\"0 0 24 24\"\n",
              "     width=\"24px\">\n",
              "    <g>\n",
              "        <path d=\"M19 3H5c-1.1 0-2 .9-2 2v14c0 1.1.9 2 2 2h14c1.1 0 2-.9 2-2V5c0-1.1-.9-2-2-2zM9 17H7v-7h2v7zm4 0h-2V7h2v10zm4 0h-2v-4h2v4z\"/>\n",
              "    </g>\n",
              "</svg>\n",
              "  </button>\n",
              "\n",
              "<style>\n",
              "  .colab-df-quickchart {\n",
              "      --bg-color: #E8F0FE;\n",
              "      --fill-color: #1967D2;\n",
              "      --hover-bg-color: #E2EBFA;\n",
              "      --hover-fill-color: #174EA6;\n",
              "      --disabled-fill-color: #AAA;\n",
              "      --disabled-bg-color: #DDD;\n",
              "  }\n",
              "\n",
              "  [theme=dark] .colab-df-quickchart {\n",
              "      --bg-color: #3B4455;\n",
              "      --fill-color: #D2E3FC;\n",
              "      --hover-bg-color: #434B5C;\n",
              "      --hover-fill-color: #FFFFFF;\n",
              "      --disabled-bg-color: #3B4455;\n",
              "      --disabled-fill-color: #666;\n",
              "  }\n",
              "\n",
              "  .colab-df-quickchart {\n",
              "    background-color: var(--bg-color);\n",
              "    border: none;\n",
              "    border-radius: 50%;\n",
              "    cursor: pointer;\n",
              "    display: none;\n",
              "    fill: var(--fill-color);\n",
              "    height: 32px;\n",
              "    padding: 0;\n",
              "    width: 32px;\n",
              "  }\n",
              "\n",
              "  .colab-df-quickchart:hover {\n",
              "    background-color: var(--hover-bg-color);\n",
              "    box-shadow: 0 1px 2px rgba(60, 64, 67, 0.3), 0 1px 3px 1px rgba(60, 64, 67, 0.15);\n",
              "    fill: var(--button-hover-fill-color);\n",
              "  }\n",
              "\n",
              "  .colab-df-quickchart-complete:disabled,\n",
              "  .colab-df-quickchart-complete:disabled:hover {\n",
              "    background-color: var(--disabled-bg-color);\n",
              "    fill: var(--disabled-fill-color);\n",
              "    box-shadow: none;\n",
              "  }\n",
              "\n",
              "  .colab-df-spinner {\n",
              "    border: 2px solid var(--fill-color);\n",
              "    border-color: transparent;\n",
              "    border-bottom-color: var(--fill-color);\n",
              "    animation:\n",
              "      spin 1s steps(1) infinite;\n",
              "  }\n",
              "\n",
              "  @keyframes spin {\n",
              "    0% {\n",
              "      border-color: transparent;\n",
              "      border-bottom-color: var(--fill-color);\n",
              "      border-left-color: var(--fill-color);\n",
              "    }\n",
              "    20% {\n",
              "      border-color: transparent;\n",
              "      border-left-color: var(--fill-color);\n",
              "      border-top-color: var(--fill-color);\n",
              "    }\n",
              "    30% {\n",
              "      border-color: transparent;\n",
              "      border-left-color: var(--fill-color);\n",
              "      border-top-color: var(--fill-color);\n",
              "      border-right-color: var(--fill-color);\n",
              "    }\n",
              "    40% {\n",
              "      border-color: transparent;\n",
              "      border-right-color: var(--fill-color);\n",
              "      border-top-color: var(--fill-color);\n",
              "    }\n",
              "    60% {\n",
              "      border-color: transparent;\n",
              "      border-right-color: var(--fill-color);\n",
              "    }\n",
              "    80% {\n",
              "      border-color: transparent;\n",
              "      border-right-color: var(--fill-color);\n",
              "      border-bottom-color: var(--fill-color);\n",
              "    }\n",
              "    90% {\n",
              "      border-color: transparent;\n",
              "      border-bottom-color: var(--fill-color);\n",
              "    }\n",
              "  }\n",
              "</style>\n",
              "\n",
              "  <script>\n",
              "    async function quickchart(key) {\n",
              "      const quickchartButtonEl =\n",
              "        document.querySelector('#' + key + ' button');\n",
              "      quickchartButtonEl.disabled = true;  // To prevent multiple clicks.\n",
              "      quickchartButtonEl.classList.add('colab-df-spinner');\n",
              "      try {\n",
              "        const charts = await google.colab.kernel.invokeFunction(\n",
              "            'suggestCharts', [key], {});\n",
              "      } catch (error) {\n",
              "        console.error('Error during call to suggestCharts:', error);\n",
              "      }\n",
              "      quickchartButtonEl.classList.remove('colab-df-spinner');\n",
              "      quickchartButtonEl.classList.add('colab-df-quickchart-complete');\n",
              "    }\n",
              "    (() => {\n",
              "      let quickchartButtonEl =\n",
              "        document.querySelector('#df-c79e6ea4-9ee6-4ae1-8f0e-43038cff13fc button');\n",
              "      quickchartButtonEl.style.display =\n",
              "        google.colab.kernel.accessAllowed ? 'block' : 'none';\n",
              "    })();\n",
              "  </script>\n",
              "</div>\n",
              "    </div>\n",
              "  </div>\n"
            ]
          },
          "metadata": {},
          "execution_count": 66
        }
      ],
      "source": [
        "population_data = pd.DataFrame(columns=[\"Rank\", \"Country\", \"Population\", \"Area\", \"Density\"])\n",
        "\n",
        "for row in tables[table_index].tbody.find_all(\"tr\"):\n",
        "    col = row.find_all(\"td\")\n",
        "    if (col != []):\n",
        "        rank = col[0].text\n",
        "        country = col[1].text\n",
        "        population = col[2].text.strip()\n",
        "        area = col[3].text.strip()\n",
        "        density = col[4].text.strip()\n",
        "        population_data = population_data.append({\"Rank\":rank, \"Country\":country, \"Population\":population, \"Area\":area, \"Density\":density}, ignore_index=True)\n",
        "\n",
        "population_data"
      ]
    },
    {
      "cell_type": "markdown",
      "metadata": {
        "id": "iOo-J-WNaz0Q"
      },
      "source": [
        "## Scrape data from HTML tables into a DataFrame using BeautifulSoup and read_html\n"
      ]
    },
    {
      "cell_type": "markdown",
      "metadata": {
        "id": "JX0TlmSIaz0Q"
      },
      "source": [
        "Using the same `url`, `data`, `soup`, and `tables` object as in the last section we can use the `read_html` function to create a DataFrame.\n",
        "\n",
        "Remember the table we need is located in `tables[table_index]`\n",
        "\n",
        "We can now use the `pandas` function `read_html` and give it the string version of the table as well as the `flavor` which is the parsing engine `bs4`.\n"
      ]
    },
    {
      "cell_type": "code",
      "execution_count": 67,
      "metadata": {
        "colab": {
          "base_uri": "https://localhost:8080/"
        },
        "id": "kjnckfGJaz0Q",
        "outputId": "bc1384eb-f6cf-4641-bbbd-f8f16ebedacc"
      },
      "outputs": [
        {
          "output_type": "execute_result",
          "data": {
            "text/plain": [
              "[                                                             #  \\\n",
              "    Graphs are temporarily unavailable due to technical issues.   \n",
              "    Graphs are temporarily unavailable due to technical issues.   \n",
              "    Graphs are temporarily unavailable due to technical issues.   \n",
              "    Graphs are temporarily unavailable due to technical issues.   \n",
              "    Graphs are temporarily unavailable due to technical issues.   \n",
              "    Graphs are temporarily unavailable due to technical issues.   \n",
              "    Graphs are temporarily unavailable due to technical issues.   \n",
              "    Graphs are temporarily unavailable due to technical issues.   \n",
              "    Graphs are temporarily unavailable due to technical issues.   \n",
              "    Graphs are temporarily unavailable due to technical issues.   \n",
              "    Graphs are temporarily unavailable due to technical issues.   \n",
              " 0                                                 NaN            \n",
              " 1                                                   1            \n",
              " 2                                                   2            \n",
              " 3                                                   3            \n",
              " 4                                                   4            \n",
              " 5                                                   5            \n",
              " 6                                                   6            \n",
              " 7                                                   7            \n",
              " 8                                                   8            \n",
              " 9                                                   9            \n",
              " 10                                                 10            \n",
              " 11                                                NaN            \n",
              " 12  Notes: .mw-parser-output .reflist{font-size:90...            \n",
              " \n",
              "                               Most populous countries  \\\n",
              "                                    Unnamed: 1_level_1   \n",
              "                                    Unnamed: 1_level_2   \n",
              "                                    Unnamed: 1_level_3   \n",
              "                                    Unnamed: 1_level_4   \n",
              "                                    Unnamed: 1_level_5   \n",
              "                                    Unnamed: 1_level_6   \n",
              "                                    Unnamed: 1_level_7   \n",
              "                                    Unnamed: 1_level_8   \n",
              "                                    Unnamed: 1_level_9   \n",
              "                                   Unnamed: 1_level_10   \n",
              "                                   Unnamed: 1_level_11   \n",
              " 0   Graphs are temporarily unavailable due to tech...   \n",
              " 1                                            China[B]   \n",
              " 2                                               India   \n",
              " 3                                       United States   \n",
              " 4                                           Indonesia   \n",
              " 5                                            Pakistan   \n",
              " 6                                              Brazil   \n",
              " 7                                             Nigeria   \n",
              " 8                                          Bangladesh   \n",
              " 9                                              Russia   \n",
              " 10                                             Mexico   \n",
              " 11                                        World total   \n",
              " 12  Notes: .mw-parser-output .reflist{font-size:90...   \n",
              " \n",
              "                                                  2000  \\\n",
              "                                    Unnamed: 2_level_1   \n",
              "                                    Unnamed: 2_level_2   \n",
              "                                    Unnamed: 2_level_3   \n",
              "                                    Unnamed: 2_level_4   \n",
              "                                    Unnamed: 2_level_5   \n",
              "                                    Unnamed: 2_level_6   \n",
              "                                    Unnamed: 2_level_7   \n",
              "                                    Unnamed: 2_level_8   \n",
              "                                    Unnamed: 2_level_9   \n",
              "                                   Unnamed: 2_level_10   \n",
              "                                   Unnamed: 2_level_11   \n",
              " 0                                                 NaN   \n",
              " 1                                                1270   \n",
              " 2                                                1053   \n",
              " 3                                                 283   \n",
              " 4                                                 212   \n",
              " 5                                                 136   \n",
              " 6                                                 176   \n",
              " 7                                                 123   \n",
              " 8                                                 131   \n",
              " 9                                                 146   \n",
              " 10                                                103   \n",
              " 11                                               6127   \n",
              " 12  Notes: .mw-parser-output .reflist{font-size:90...   \n",
              " \n",
              "                                                  2015  \\\n",
              "                                    Unnamed: 3_level_1   \n",
              "                                    Unnamed: 3_level_2   \n",
              "                                    Unnamed: 3_level_3   \n",
              "                                    Unnamed: 3_level_4   \n",
              "                                    Unnamed: 3_level_5   \n",
              "                                    Unnamed: 3_level_6   \n",
              "                                    Unnamed: 3_level_7   \n",
              "                                    Unnamed: 3_level_8   \n",
              "                                    Unnamed: 3_level_9   \n",
              "                                   Unnamed: 3_level_10   \n",
              "                                   Unnamed: 3_level_11   \n",
              " 0                                                 NaN   \n",
              " 1                                                1376   \n",
              " 2                                                1311   \n",
              " 3                                                 322   \n",
              " 4                                                 258   \n",
              " 5                                                 208   \n",
              " 6                                                 206   \n",
              " 7                                                 182   \n",
              " 8                                                 161   \n",
              " 9                                                 146   \n",
              " 10                                                127   \n",
              " 11                                               7349   \n",
              " 12  Notes: .mw-parser-output .reflist{font-size:90...   \n",
              " \n",
              "                                               2030[A]  \\\n",
              "                                    Unnamed: 4_level_1   \n",
              "                                    Unnamed: 4_level_2   \n",
              "                                    Unnamed: 4_level_3   \n",
              "                                    Unnamed: 4_level_4   \n",
              "                                    Unnamed: 4_level_5   \n",
              "                                    Unnamed: 4_level_6   \n",
              "                                    Unnamed: 4_level_7   \n",
              "                                    Unnamed: 4_level_8   \n",
              "                                    Unnamed: 4_level_9   \n",
              "                                   Unnamed: 4_level_10   \n",
              "                                   Unnamed: 4_level_11   \n",
              " 0                                                 NaN   \n",
              " 1                                                1416   \n",
              " 2                                                1528   \n",
              " 3                                                 356   \n",
              " 4                                                 295   \n",
              " 5                                                 245   \n",
              " 6                                                 228   \n",
              " 7                                                 263   \n",
              " 8                                                 186   \n",
              " 9                                                 149   \n",
              " 10                                                148   \n",
              " 11                                               8501   \n",
              " 12  Notes: .mw-parser-output .reflist{font-size:90...   \n",
              " \n",
              "    Graphs are temporarily unavailable due to technical issues.  \n",
              "                                             Unnamed: 5_level_1  \n",
              "                                             Unnamed: 5_level_2  \n",
              "                                             Unnamed: 5_level_3  \n",
              "                                             Unnamed: 5_level_4  \n",
              "                                             Unnamed: 5_level_5  \n",
              "                                             Unnamed: 5_level_6  \n",
              "                                             Unnamed: 5_level_7  \n",
              "                                             Unnamed: 5_level_8  \n",
              "                                             Unnamed: 5_level_9  \n",
              "                                            Unnamed: 5_level_10  \n",
              "                                            Unnamed: 5_level_11  \n",
              " 0                                                 NaN           \n",
              " 1                                                 NaN           \n",
              " 2                                                 NaN           \n",
              " 3                                                 NaN           \n",
              " 4                                                 NaN           \n",
              " 5                                                 NaN           \n",
              " 6                                                 NaN           \n",
              " 7                                                 NaN           \n",
              " 8                                                 NaN           \n",
              " 9                                                 NaN           \n",
              " 10                                                NaN           \n",
              " 11                                                NaN           \n",
              " 12  Notes: .mw-parser-output .reflist{font-size:90...           ,\n",
              "     0                                                  1\n",
              " 0 NaN  Graphs are temporarily unavailable due to tech...]"
            ]
          },
          "metadata": {},
          "execution_count": 67
        }
      ],
      "source": [
        "pd.read_html(str(tables[5]), flavor='bs4')"
      ]
    },
    {
      "cell_type": "markdown",
      "metadata": {
        "id": "CoNdiP5caz0R"
      },
      "source": [
        "The function `read_html` always returns a list of DataFrames so we must pick the one we want out of the list.\n"
      ]
    },
    {
      "cell_type": "code",
      "execution_count": 68,
      "metadata": {
        "colab": {
          "base_uri": "https://localhost:8080/",
          "height": 1000
        },
        "id": "mEnN3p6Naz0R",
        "outputId": "2ec7ca47-4b1c-468e-ad2b-0ea353faf4be"
      },
      "outputs": [
        {
          "output_type": "execute_result",
          "data": {
            "text/plain": [
              "                                                             #  \\\n",
              "   Graphs are temporarily unavailable due to technical issues.   \n",
              "   Graphs are temporarily unavailable due to technical issues.   \n",
              "   Graphs are temporarily unavailable due to technical issues.   \n",
              "   Graphs are temporarily unavailable due to technical issues.   \n",
              "   Graphs are temporarily unavailable due to technical issues.   \n",
              "   Graphs are temporarily unavailable due to technical issues.   \n",
              "   Graphs are temporarily unavailable due to technical issues.   \n",
              "   Graphs are temporarily unavailable due to technical issues.   \n",
              "   Graphs are temporarily unavailable due to technical issues.   \n",
              "   Graphs are temporarily unavailable due to technical issues.   \n",
              "   Graphs are temporarily unavailable due to technical issues.   \n",
              "0                                                 NaN            \n",
              "1                                                   1            \n",
              "2                                                   2            \n",
              "3                                                   3            \n",
              "4                                                   4            \n",
              "5                                                   5            \n",
              "6                                                   6            \n",
              "7                                                   7            \n",
              "8                                                   8            \n",
              "9                                                   9            \n",
              "10                                                 10            \n",
              "11                                                NaN            \n",
              "12  Notes: .mw-parser-output .reflist{font-size:90...            \n",
              "\n",
              "                              Most populous countries  \\\n",
              "                                   Unnamed: 1_level_1   \n",
              "                                   Unnamed: 1_level_2   \n",
              "                                   Unnamed: 1_level_3   \n",
              "                                   Unnamed: 1_level_4   \n",
              "                                   Unnamed: 1_level_5   \n",
              "                                   Unnamed: 1_level_6   \n",
              "                                   Unnamed: 1_level_7   \n",
              "                                   Unnamed: 1_level_8   \n",
              "                                   Unnamed: 1_level_9   \n",
              "                                  Unnamed: 1_level_10   \n",
              "                                  Unnamed: 1_level_11   \n",
              "0   Graphs are temporarily unavailable due to tech...   \n",
              "1                                            China[B]   \n",
              "2                                               India   \n",
              "3                                       United States   \n",
              "4                                           Indonesia   \n",
              "5                                            Pakistan   \n",
              "6                                              Brazil   \n",
              "7                                             Nigeria   \n",
              "8                                          Bangladesh   \n",
              "9                                              Russia   \n",
              "10                                             Mexico   \n",
              "11                                        World total   \n",
              "12  Notes: .mw-parser-output .reflist{font-size:90...   \n",
              "\n",
              "                                                 2000  \\\n",
              "                                   Unnamed: 2_level_1   \n",
              "                                   Unnamed: 2_level_2   \n",
              "                                   Unnamed: 2_level_3   \n",
              "                                   Unnamed: 2_level_4   \n",
              "                                   Unnamed: 2_level_5   \n",
              "                                   Unnamed: 2_level_6   \n",
              "                                   Unnamed: 2_level_7   \n",
              "                                   Unnamed: 2_level_8   \n",
              "                                   Unnamed: 2_level_9   \n",
              "                                  Unnamed: 2_level_10   \n",
              "                                  Unnamed: 2_level_11   \n",
              "0                                                 NaN   \n",
              "1                                                1270   \n",
              "2                                                1053   \n",
              "3                                                 283   \n",
              "4                                                 212   \n",
              "5                                                 136   \n",
              "6                                                 176   \n",
              "7                                                 123   \n",
              "8                                                 131   \n",
              "9                                                 146   \n",
              "10                                                103   \n",
              "11                                               6127   \n",
              "12  Notes: .mw-parser-output .reflist{font-size:90...   \n",
              "\n",
              "                                                 2015  \\\n",
              "                                   Unnamed: 3_level_1   \n",
              "                                   Unnamed: 3_level_2   \n",
              "                                   Unnamed: 3_level_3   \n",
              "                                   Unnamed: 3_level_4   \n",
              "                                   Unnamed: 3_level_5   \n",
              "                                   Unnamed: 3_level_6   \n",
              "                                   Unnamed: 3_level_7   \n",
              "                                   Unnamed: 3_level_8   \n",
              "                                   Unnamed: 3_level_9   \n",
              "                                  Unnamed: 3_level_10   \n",
              "                                  Unnamed: 3_level_11   \n",
              "0                                                 NaN   \n",
              "1                                                1376   \n",
              "2                                                1311   \n",
              "3                                                 322   \n",
              "4                                                 258   \n",
              "5                                                 208   \n",
              "6                                                 206   \n",
              "7                                                 182   \n",
              "8                                                 161   \n",
              "9                                                 146   \n",
              "10                                                127   \n",
              "11                                               7349   \n",
              "12  Notes: .mw-parser-output .reflist{font-size:90...   \n",
              "\n",
              "                                              2030[A]  \\\n",
              "                                   Unnamed: 4_level_1   \n",
              "                                   Unnamed: 4_level_2   \n",
              "                                   Unnamed: 4_level_3   \n",
              "                                   Unnamed: 4_level_4   \n",
              "                                   Unnamed: 4_level_5   \n",
              "                                   Unnamed: 4_level_6   \n",
              "                                   Unnamed: 4_level_7   \n",
              "                                   Unnamed: 4_level_8   \n",
              "                                   Unnamed: 4_level_9   \n",
              "                                  Unnamed: 4_level_10   \n",
              "                                  Unnamed: 4_level_11   \n",
              "0                                                 NaN   \n",
              "1                                                1416   \n",
              "2                                                1528   \n",
              "3                                                 356   \n",
              "4                                                 295   \n",
              "5                                                 245   \n",
              "6                                                 228   \n",
              "7                                                 263   \n",
              "8                                                 186   \n",
              "9                                                 149   \n",
              "10                                                148   \n",
              "11                                               8501   \n",
              "12  Notes: .mw-parser-output .reflist{font-size:90...   \n",
              "\n",
              "   Graphs are temporarily unavailable due to technical issues.  \n",
              "                                            Unnamed: 5_level_1  \n",
              "                                            Unnamed: 5_level_2  \n",
              "                                            Unnamed: 5_level_3  \n",
              "                                            Unnamed: 5_level_4  \n",
              "                                            Unnamed: 5_level_5  \n",
              "                                            Unnamed: 5_level_6  \n",
              "                                            Unnamed: 5_level_7  \n",
              "                                            Unnamed: 5_level_8  \n",
              "                                            Unnamed: 5_level_9  \n",
              "                                           Unnamed: 5_level_10  \n",
              "                                           Unnamed: 5_level_11  \n",
              "0                                                 NaN           \n",
              "1                                                 NaN           \n",
              "2                                                 NaN           \n",
              "3                                                 NaN           \n",
              "4                                                 NaN           \n",
              "5                                                 NaN           \n",
              "6                                                 NaN           \n",
              "7                                                 NaN           \n",
              "8                                                 NaN           \n",
              "9                                                 NaN           \n",
              "10                                                NaN           \n",
              "11                                                NaN           \n",
              "12  Notes: .mw-parser-output .reflist{font-size:90...           "
            ],
            "text/html": [
              "\n",
              "  <div id=\"df-195ed7d0-5ca4-4b36-b5a5-a7fb72cd1c2c\" class=\"colab-df-container\">\n",
              "    <div>\n",
              "<style scoped>\n",
              "    .dataframe tbody tr th:only-of-type {\n",
              "        vertical-align: middle;\n",
              "    }\n",
              "\n",
              "    .dataframe tbody tr th {\n",
              "        vertical-align: top;\n",
              "    }\n",
              "\n",
              "    .dataframe thead tr th {\n",
              "        text-align: left;\n",
              "    }\n",
              "</style>\n",
              "<table border=\"1\" class=\"dataframe\">\n",
              "  <thead>\n",
              "    <tr>\n",
              "      <th></th>\n",
              "      <th>#</th>\n",
              "      <th>Most populous countries</th>\n",
              "      <th>2000</th>\n",
              "      <th>2015</th>\n",
              "      <th>2030[A]</th>\n",
              "      <th>Graphs are temporarily unavailable due to technical issues.</th>\n",
              "    </tr>\n",
              "    <tr>\n",
              "      <th></th>\n",
              "      <th>Graphs are temporarily unavailable due to technical issues.</th>\n",
              "      <th>Unnamed: 1_level_1</th>\n",
              "      <th>Unnamed: 2_level_1</th>\n",
              "      <th>Unnamed: 3_level_1</th>\n",
              "      <th>Unnamed: 4_level_1</th>\n",
              "      <th>Unnamed: 5_level_1</th>\n",
              "    </tr>\n",
              "    <tr>\n",
              "      <th></th>\n",
              "      <th>Graphs are temporarily unavailable due to technical issues.</th>\n",
              "      <th>Unnamed: 1_level_2</th>\n",
              "      <th>Unnamed: 2_level_2</th>\n",
              "      <th>Unnamed: 3_level_2</th>\n",
              "      <th>Unnamed: 4_level_2</th>\n",
              "      <th>Unnamed: 5_level_2</th>\n",
              "    </tr>\n",
              "    <tr>\n",
              "      <th></th>\n",
              "      <th>Graphs are temporarily unavailable due to technical issues.</th>\n",
              "      <th>Unnamed: 1_level_3</th>\n",
              "      <th>Unnamed: 2_level_3</th>\n",
              "      <th>Unnamed: 3_level_3</th>\n",
              "      <th>Unnamed: 4_level_3</th>\n",
              "      <th>Unnamed: 5_level_3</th>\n",
              "    </tr>\n",
              "    <tr>\n",
              "      <th></th>\n",
              "      <th>Graphs are temporarily unavailable due to technical issues.</th>\n",
              "      <th>Unnamed: 1_level_4</th>\n",
              "      <th>Unnamed: 2_level_4</th>\n",
              "      <th>Unnamed: 3_level_4</th>\n",
              "      <th>Unnamed: 4_level_4</th>\n",
              "      <th>Unnamed: 5_level_4</th>\n",
              "    </tr>\n",
              "    <tr>\n",
              "      <th></th>\n",
              "      <th>Graphs are temporarily unavailable due to technical issues.</th>\n",
              "      <th>Unnamed: 1_level_5</th>\n",
              "      <th>Unnamed: 2_level_5</th>\n",
              "      <th>Unnamed: 3_level_5</th>\n",
              "      <th>Unnamed: 4_level_5</th>\n",
              "      <th>Unnamed: 5_level_5</th>\n",
              "    </tr>\n",
              "    <tr>\n",
              "      <th></th>\n",
              "      <th>Graphs are temporarily unavailable due to technical issues.</th>\n",
              "      <th>Unnamed: 1_level_6</th>\n",
              "      <th>Unnamed: 2_level_6</th>\n",
              "      <th>Unnamed: 3_level_6</th>\n",
              "      <th>Unnamed: 4_level_6</th>\n",
              "      <th>Unnamed: 5_level_6</th>\n",
              "    </tr>\n",
              "    <tr>\n",
              "      <th></th>\n",
              "      <th>Graphs are temporarily unavailable due to technical issues.</th>\n",
              "      <th>Unnamed: 1_level_7</th>\n",
              "      <th>Unnamed: 2_level_7</th>\n",
              "      <th>Unnamed: 3_level_7</th>\n",
              "      <th>Unnamed: 4_level_7</th>\n",
              "      <th>Unnamed: 5_level_7</th>\n",
              "    </tr>\n",
              "    <tr>\n",
              "      <th></th>\n",
              "      <th>Graphs are temporarily unavailable due to technical issues.</th>\n",
              "      <th>Unnamed: 1_level_8</th>\n",
              "      <th>Unnamed: 2_level_8</th>\n",
              "      <th>Unnamed: 3_level_8</th>\n",
              "      <th>Unnamed: 4_level_8</th>\n",
              "      <th>Unnamed: 5_level_8</th>\n",
              "    </tr>\n",
              "    <tr>\n",
              "      <th></th>\n",
              "      <th>Graphs are temporarily unavailable due to technical issues.</th>\n",
              "      <th>Unnamed: 1_level_9</th>\n",
              "      <th>Unnamed: 2_level_9</th>\n",
              "      <th>Unnamed: 3_level_9</th>\n",
              "      <th>Unnamed: 4_level_9</th>\n",
              "      <th>Unnamed: 5_level_9</th>\n",
              "    </tr>\n",
              "    <tr>\n",
              "      <th></th>\n",
              "      <th>Graphs are temporarily unavailable due to technical issues.</th>\n",
              "      <th>Unnamed: 1_level_10</th>\n",
              "      <th>Unnamed: 2_level_10</th>\n",
              "      <th>Unnamed: 3_level_10</th>\n",
              "      <th>Unnamed: 4_level_10</th>\n",
              "      <th>Unnamed: 5_level_10</th>\n",
              "    </tr>\n",
              "    <tr>\n",
              "      <th></th>\n",
              "      <th>Graphs are temporarily unavailable due to technical issues.</th>\n",
              "      <th>Unnamed: 1_level_11</th>\n",
              "      <th>Unnamed: 2_level_11</th>\n",
              "      <th>Unnamed: 3_level_11</th>\n",
              "      <th>Unnamed: 4_level_11</th>\n",
              "      <th>Unnamed: 5_level_11</th>\n",
              "    </tr>\n",
              "  </thead>\n",
              "  <tbody>\n",
              "    <tr>\n",
              "      <th>0</th>\n",
              "      <td>NaN</td>\n",
              "      <td>Graphs are temporarily unavailable due to tech...</td>\n",
              "      <td>NaN</td>\n",
              "      <td>NaN</td>\n",
              "      <td>NaN</td>\n",
              "      <td>NaN</td>\n",
              "    </tr>\n",
              "    <tr>\n",
              "      <th>1</th>\n",
              "      <td>1</td>\n",
              "      <td>China[B]</td>\n",
              "      <td>1270</td>\n",
              "      <td>1376</td>\n",
              "      <td>1416</td>\n",
              "      <td>NaN</td>\n",
              "    </tr>\n",
              "    <tr>\n",
              "      <th>2</th>\n",
              "      <td>2</td>\n",
              "      <td>India</td>\n",
              "      <td>1053</td>\n",
              "      <td>1311</td>\n",
              "      <td>1528</td>\n",
              "      <td>NaN</td>\n",
              "    </tr>\n",
              "    <tr>\n",
              "      <th>3</th>\n",
              "      <td>3</td>\n",
              "      <td>United States</td>\n",
              "      <td>283</td>\n",
              "      <td>322</td>\n",
              "      <td>356</td>\n",
              "      <td>NaN</td>\n",
              "    </tr>\n",
              "    <tr>\n",
              "      <th>4</th>\n",
              "      <td>4</td>\n",
              "      <td>Indonesia</td>\n",
              "      <td>212</td>\n",
              "      <td>258</td>\n",
              "      <td>295</td>\n",
              "      <td>NaN</td>\n",
              "    </tr>\n",
              "    <tr>\n",
              "      <th>5</th>\n",
              "      <td>5</td>\n",
              "      <td>Pakistan</td>\n",
              "      <td>136</td>\n",
              "      <td>208</td>\n",
              "      <td>245</td>\n",
              "      <td>NaN</td>\n",
              "    </tr>\n",
              "    <tr>\n",
              "      <th>6</th>\n",
              "      <td>6</td>\n",
              "      <td>Brazil</td>\n",
              "      <td>176</td>\n",
              "      <td>206</td>\n",
              "      <td>228</td>\n",
              "      <td>NaN</td>\n",
              "    </tr>\n",
              "    <tr>\n",
              "      <th>7</th>\n",
              "      <td>7</td>\n",
              "      <td>Nigeria</td>\n",
              "      <td>123</td>\n",
              "      <td>182</td>\n",
              "      <td>263</td>\n",
              "      <td>NaN</td>\n",
              "    </tr>\n",
              "    <tr>\n",
              "      <th>8</th>\n",
              "      <td>8</td>\n",
              "      <td>Bangladesh</td>\n",
              "      <td>131</td>\n",
              "      <td>161</td>\n",
              "      <td>186</td>\n",
              "      <td>NaN</td>\n",
              "    </tr>\n",
              "    <tr>\n",
              "      <th>9</th>\n",
              "      <td>9</td>\n",
              "      <td>Russia</td>\n",
              "      <td>146</td>\n",
              "      <td>146</td>\n",
              "      <td>149</td>\n",
              "      <td>NaN</td>\n",
              "    </tr>\n",
              "    <tr>\n",
              "      <th>10</th>\n",
              "      <td>10</td>\n",
              "      <td>Mexico</td>\n",
              "      <td>103</td>\n",
              "      <td>127</td>\n",
              "      <td>148</td>\n",
              "      <td>NaN</td>\n",
              "    </tr>\n",
              "    <tr>\n",
              "      <th>11</th>\n",
              "      <td>NaN</td>\n",
              "      <td>World total</td>\n",
              "      <td>6127</td>\n",
              "      <td>7349</td>\n",
              "      <td>8501</td>\n",
              "      <td>NaN</td>\n",
              "    </tr>\n",
              "    <tr>\n",
              "      <th>12</th>\n",
              "      <td>Notes: .mw-parser-output .reflist{font-size:90...</td>\n",
              "      <td>Notes: .mw-parser-output .reflist{font-size:90...</td>\n",
              "      <td>Notes: .mw-parser-output .reflist{font-size:90...</td>\n",
              "      <td>Notes: .mw-parser-output .reflist{font-size:90...</td>\n",
              "      <td>Notes: .mw-parser-output .reflist{font-size:90...</td>\n",
              "      <td>Notes: .mw-parser-output .reflist{font-size:90...</td>\n",
              "    </tr>\n",
              "  </tbody>\n",
              "</table>\n",
              "</div>\n",
              "    <div class=\"colab-df-buttons\">\n",
              "\n",
              "  <div class=\"colab-df-container\">\n",
              "    <button class=\"colab-df-convert\" onclick=\"convertToInteractive('df-195ed7d0-5ca4-4b36-b5a5-a7fb72cd1c2c')\"\n",
              "            title=\"Convert this dataframe to an interactive table.\"\n",
              "            style=\"display:none;\">\n",
              "\n",
              "  <svg xmlns=\"http://www.w3.org/2000/svg\" height=\"24px\" viewBox=\"0 -960 960 960\">\n",
              "    <path d=\"M120-120v-720h720v720H120Zm60-500h600v-160H180v160Zm220 220h160v-160H400v160Zm0 220h160v-160H400v160ZM180-400h160v-160H180v160Zm440 0h160v-160H620v160ZM180-180h160v-160H180v160Zm440 0h160v-160H620v160Z\"/>\n",
              "  </svg>\n",
              "    </button>\n",
              "\n",
              "  <style>\n",
              "    .colab-df-container {\n",
              "      display:flex;\n",
              "      gap: 12px;\n",
              "    }\n",
              "\n",
              "    .colab-df-convert {\n",
              "      background-color: #E8F0FE;\n",
              "      border: none;\n",
              "      border-radius: 50%;\n",
              "      cursor: pointer;\n",
              "      display: none;\n",
              "      fill: #1967D2;\n",
              "      height: 32px;\n",
              "      padding: 0 0 0 0;\n",
              "      width: 32px;\n",
              "    }\n",
              "\n",
              "    .colab-df-convert:hover {\n",
              "      background-color: #E2EBFA;\n",
              "      box-shadow: 0px 1px 2px rgba(60, 64, 67, 0.3), 0px 1px 3px 1px rgba(60, 64, 67, 0.15);\n",
              "      fill: #174EA6;\n",
              "    }\n",
              "\n",
              "    .colab-df-buttons div {\n",
              "      margin-bottom: 4px;\n",
              "    }\n",
              "\n",
              "    [theme=dark] .colab-df-convert {\n",
              "      background-color: #3B4455;\n",
              "      fill: #D2E3FC;\n",
              "    }\n",
              "\n",
              "    [theme=dark] .colab-df-convert:hover {\n",
              "      background-color: #434B5C;\n",
              "      box-shadow: 0px 1px 3px 1px rgba(0, 0, 0, 0.15);\n",
              "      filter: drop-shadow(0px 1px 2px rgba(0, 0, 0, 0.3));\n",
              "      fill: #FFFFFF;\n",
              "    }\n",
              "  </style>\n",
              "\n",
              "    <script>\n",
              "      const buttonEl =\n",
              "        document.querySelector('#df-195ed7d0-5ca4-4b36-b5a5-a7fb72cd1c2c button.colab-df-convert');\n",
              "      buttonEl.style.display =\n",
              "        google.colab.kernel.accessAllowed ? 'block' : 'none';\n",
              "\n",
              "      async function convertToInteractive(key) {\n",
              "        const element = document.querySelector('#df-195ed7d0-5ca4-4b36-b5a5-a7fb72cd1c2c');\n",
              "        const dataTable =\n",
              "          await google.colab.kernel.invokeFunction('convertToInteractive',\n",
              "                                                    [key], {});\n",
              "        if (!dataTable) return;\n",
              "\n",
              "        const docLinkHtml = 'Like what you see? Visit the ' +\n",
              "          '<a target=\"_blank\" href=https://colab.research.google.com/notebooks/data_table.ipynb>data table notebook</a>'\n",
              "          + ' to learn more about interactive tables.';\n",
              "        element.innerHTML = '';\n",
              "        dataTable['output_type'] = 'display_data';\n",
              "        await google.colab.output.renderOutput(dataTable, element);\n",
              "        const docLink = document.createElement('div');\n",
              "        docLink.innerHTML = docLinkHtml;\n",
              "        element.appendChild(docLink);\n",
              "      }\n",
              "    </script>\n",
              "  </div>\n",
              "\n",
              "\n",
              "<div id=\"df-ffece5aa-94f7-404c-b0bf-4ca61e8249ff\">\n",
              "  <button class=\"colab-df-quickchart\" onclick=\"quickchart('df-ffece5aa-94f7-404c-b0bf-4ca61e8249ff')\"\n",
              "            title=\"Suggest charts.\"\n",
              "            style=\"display:none;\">\n",
              "\n",
              "<svg xmlns=\"http://www.w3.org/2000/svg\" height=\"24px\"viewBox=\"0 0 24 24\"\n",
              "     width=\"24px\">\n",
              "    <g>\n",
              "        <path d=\"M19 3H5c-1.1 0-2 .9-2 2v14c0 1.1.9 2 2 2h14c1.1 0 2-.9 2-2V5c0-1.1-.9-2-2-2zM9 17H7v-7h2v7zm4 0h-2V7h2v10zm4 0h-2v-4h2v4z\"/>\n",
              "    </g>\n",
              "</svg>\n",
              "  </button>\n",
              "\n",
              "<style>\n",
              "  .colab-df-quickchart {\n",
              "      --bg-color: #E8F0FE;\n",
              "      --fill-color: #1967D2;\n",
              "      --hover-bg-color: #E2EBFA;\n",
              "      --hover-fill-color: #174EA6;\n",
              "      --disabled-fill-color: #AAA;\n",
              "      --disabled-bg-color: #DDD;\n",
              "  }\n",
              "\n",
              "  [theme=dark] .colab-df-quickchart {\n",
              "      --bg-color: #3B4455;\n",
              "      --fill-color: #D2E3FC;\n",
              "      --hover-bg-color: #434B5C;\n",
              "      --hover-fill-color: #FFFFFF;\n",
              "      --disabled-bg-color: #3B4455;\n",
              "      --disabled-fill-color: #666;\n",
              "  }\n",
              "\n",
              "  .colab-df-quickchart {\n",
              "    background-color: var(--bg-color);\n",
              "    border: none;\n",
              "    border-radius: 50%;\n",
              "    cursor: pointer;\n",
              "    display: none;\n",
              "    fill: var(--fill-color);\n",
              "    height: 32px;\n",
              "    padding: 0;\n",
              "    width: 32px;\n",
              "  }\n",
              "\n",
              "  .colab-df-quickchart:hover {\n",
              "    background-color: var(--hover-bg-color);\n",
              "    box-shadow: 0 1px 2px rgba(60, 64, 67, 0.3), 0 1px 3px 1px rgba(60, 64, 67, 0.15);\n",
              "    fill: var(--button-hover-fill-color);\n",
              "  }\n",
              "\n",
              "  .colab-df-quickchart-complete:disabled,\n",
              "  .colab-df-quickchart-complete:disabled:hover {\n",
              "    background-color: var(--disabled-bg-color);\n",
              "    fill: var(--disabled-fill-color);\n",
              "    box-shadow: none;\n",
              "  }\n",
              "\n",
              "  .colab-df-spinner {\n",
              "    border: 2px solid var(--fill-color);\n",
              "    border-color: transparent;\n",
              "    border-bottom-color: var(--fill-color);\n",
              "    animation:\n",
              "      spin 1s steps(1) infinite;\n",
              "  }\n",
              "\n",
              "  @keyframes spin {\n",
              "    0% {\n",
              "      border-color: transparent;\n",
              "      border-bottom-color: var(--fill-color);\n",
              "      border-left-color: var(--fill-color);\n",
              "    }\n",
              "    20% {\n",
              "      border-color: transparent;\n",
              "      border-left-color: var(--fill-color);\n",
              "      border-top-color: var(--fill-color);\n",
              "    }\n",
              "    30% {\n",
              "      border-color: transparent;\n",
              "      border-left-color: var(--fill-color);\n",
              "      border-top-color: var(--fill-color);\n",
              "      border-right-color: var(--fill-color);\n",
              "    }\n",
              "    40% {\n",
              "      border-color: transparent;\n",
              "      border-right-color: var(--fill-color);\n",
              "      border-top-color: var(--fill-color);\n",
              "    }\n",
              "    60% {\n",
              "      border-color: transparent;\n",
              "      border-right-color: var(--fill-color);\n",
              "    }\n",
              "    80% {\n",
              "      border-color: transparent;\n",
              "      border-right-color: var(--fill-color);\n",
              "      border-bottom-color: var(--fill-color);\n",
              "    }\n",
              "    90% {\n",
              "      border-color: transparent;\n",
              "      border-bottom-color: var(--fill-color);\n",
              "    }\n",
              "  }\n",
              "</style>\n",
              "\n",
              "  <script>\n",
              "    async function quickchart(key) {\n",
              "      const quickchartButtonEl =\n",
              "        document.querySelector('#' + key + ' button');\n",
              "      quickchartButtonEl.disabled = true;  // To prevent multiple clicks.\n",
              "      quickchartButtonEl.classList.add('colab-df-spinner');\n",
              "      try {\n",
              "        const charts = await google.colab.kernel.invokeFunction(\n",
              "            'suggestCharts', [key], {});\n",
              "      } catch (error) {\n",
              "        console.error('Error during call to suggestCharts:', error);\n",
              "      }\n",
              "      quickchartButtonEl.classList.remove('colab-df-spinner');\n",
              "      quickchartButtonEl.classList.add('colab-df-quickchart-complete');\n",
              "    }\n",
              "    (() => {\n",
              "      let quickchartButtonEl =\n",
              "        document.querySelector('#df-ffece5aa-94f7-404c-b0bf-4ca61e8249ff button');\n",
              "      quickchartButtonEl.style.display =\n",
              "        google.colab.kernel.accessAllowed ? 'block' : 'none';\n",
              "    })();\n",
              "  </script>\n",
              "</div>\n",
              "    </div>\n",
              "  </div>\n"
            ]
          },
          "metadata": {},
          "execution_count": 68
        }
      ],
      "source": [
        "population_data_read_html = pd.read_html(str(tables[5]), flavor='bs4')[0]\n",
        "\n",
        "population_data_read_html"
      ]
    },
    {
      "cell_type": "markdown",
      "metadata": {
        "id": "T6uqSUkiaz0R"
      },
      "source": [
        "## Scrape data from HTML tables into a DataFrame using read_html\n"
      ]
    },
    {
      "cell_type": "markdown",
      "metadata": {
        "id": "phJef1Bjaz0S"
      },
      "source": [
        "We can also use the `read_html` function to directly get DataFrames from a `url`.\n"
      ]
    },
    {
      "cell_type": "code",
      "execution_count": 69,
      "metadata": {
        "id": "4ah0976naz0S"
      },
      "outputs": [],
      "source": [
        "dataframe_list = pd.read_html(url, flavor='bs4')"
      ]
    },
    {
      "cell_type": "markdown",
      "metadata": {
        "id": "yAQgOO42az0S"
      },
      "source": [
        "We can see there are 25 DataFrames just like when we used `find_all` on the `soup` object.\n"
      ]
    },
    {
      "cell_type": "code",
      "execution_count": 70,
      "metadata": {
        "colab": {
          "base_uri": "https://localhost:8080/"
        },
        "id": "cGrVMN5saz0T",
        "outputId": "3b9b391f-a1a1-4466-9fb0-4febe1d9405b"
      },
      "outputs": [
        {
          "output_type": "execute_result",
          "data": {
            "text/plain": [
              "26"
            ]
          },
          "metadata": {},
          "execution_count": 70
        }
      ],
      "source": [
        "len(dataframe_list)"
      ]
    },
    {
      "cell_type": "markdown",
      "metadata": {
        "id": "UIMWUxM9az0T"
      },
      "source": [
        "Finally we can pick the DataFrame we need out of the list.\n"
      ]
    },
    {
      "cell_type": "code",
      "execution_count": 71,
      "metadata": {
        "colab": {
          "base_uri": "https://localhost:8080/",
          "height": 1000
        },
        "id": "E8LsByXDaz0U",
        "outputId": "72bab12a-2d23-4d74-8fa2-33495ca4edcc"
      },
      "outputs": [
        {
          "output_type": "execute_result",
          "data": {
            "text/plain": [
              "                                                             #  \\\n",
              "   Graphs are temporarily unavailable due to technical issues.   \n",
              "   Graphs are temporarily unavailable due to technical issues.   \n",
              "   Graphs are temporarily unavailable due to technical issues.   \n",
              "   Graphs are temporarily unavailable due to technical issues.   \n",
              "   Graphs are temporarily unavailable due to technical issues.   \n",
              "   Graphs are temporarily unavailable due to technical issues.   \n",
              "   Graphs are temporarily unavailable due to technical issues.   \n",
              "   Graphs are temporarily unavailable due to technical issues.   \n",
              "   Graphs are temporarily unavailable due to technical issues.   \n",
              "   Graphs are temporarily unavailable due to technical issues.   \n",
              "   Graphs are temporarily unavailable due to technical issues.   \n",
              "0                                                 NaN            \n",
              "1                                                   1            \n",
              "2                                                   2            \n",
              "3                                                   3            \n",
              "4                                                   4            \n",
              "5                                                   5            \n",
              "6                                                   6            \n",
              "7                                                   7            \n",
              "8                                                   8            \n",
              "9                                                   9            \n",
              "10                                                 10            \n",
              "11                                                NaN            \n",
              "12  Notes: .mw-parser-output .reflist{font-size:90...            \n",
              "\n",
              "                              Most populous countries  \\\n",
              "                                   Unnamed: 1_level_1   \n",
              "                                   Unnamed: 1_level_2   \n",
              "                                   Unnamed: 1_level_3   \n",
              "                                   Unnamed: 1_level_4   \n",
              "                                   Unnamed: 1_level_5   \n",
              "                                   Unnamed: 1_level_6   \n",
              "                                   Unnamed: 1_level_7   \n",
              "                                   Unnamed: 1_level_8   \n",
              "                                   Unnamed: 1_level_9   \n",
              "                                  Unnamed: 1_level_10   \n",
              "                                  Unnamed: 1_level_11   \n",
              "0   Graphs are temporarily unavailable due to tech...   \n",
              "1                                            China[B]   \n",
              "2                                               India   \n",
              "3                                       United States   \n",
              "4                                           Indonesia   \n",
              "5                                            Pakistan   \n",
              "6                                              Brazil   \n",
              "7                                             Nigeria   \n",
              "8                                          Bangladesh   \n",
              "9                                              Russia   \n",
              "10                                             Mexico   \n",
              "11                                        World total   \n",
              "12  Notes: .mw-parser-output .reflist{font-size:90...   \n",
              "\n",
              "                                                 2000  \\\n",
              "                                   Unnamed: 2_level_1   \n",
              "                                   Unnamed: 2_level_2   \n",
              "                                   Unnamed: 2_level_3   \n",
              "                                   Unnamed: 2_level_4   \n",
              "                                   Unnamed: 2_level_5   \n",
              "                                   Unnamed: 2_level_6   \n",
              "                                   Unnamed: 2_level_7   \n",
              "                                   Unnamed: 2_level_8   \n",
              "                                   Unnamed: 2_level_9   \n",
              "                                  Unnamed: 2_level_10   \n",
              "                                  Unnamed: 2_level_11   \n",
              "0                                                 NaN   \n",
              "1                                                1270   \n",
              "2                                                1053   \n",
              "3                                                 283   \n",
              "4                                                 212   \n",
              "5                                                 136   \n",
              "6                                                 176   \n",
              "7                                                 123   \n",
              "8                                                 131   \n",
              "9                                                 146   \n",
              "10                                                103   \n",
              "11                                               6127   \n",
              "12  Notes: .mw-parser-output .reflist{font-size:90...   \n",
              "\n",
              "                                                 2015  \\\n",
              "                                   Unnamed: 3_level_1   \n",
              "                                   Unnamed: 3_level_2   \n",
              "                                   Unnamed: 3_level_3   \n",
              "                                   Unnamed: 3_level_4   \n",
              "                                   Unnamed: 3_level_5   \n",
              "                                   Unnamed: 3_level_6   \n",
              "                                   Unnamed: 3_level_7   \n",
              "                                   Unnamed: 3_level_8   \n",
              "                                   Unnamed: 3_level_9   \n",
              "                                  Unnamed: 3_level_10   \n",
              "                                  Unnamed: 3_level_11   \n",
              "0                                                 NaN   \n",
              "1                                                1376   \n",
              "2                                                1311   \n",
              "3                                                 322   \n",
              "4                                                 258   \n",
              "5                                                 208   \n",
              "6                                                 206   \n",
              "7                                                 182   \n",
              "8                                                 161   \n",
              "9                                                 146   \n",
              "10                                                127   \n",
              "11                                               7349   \n",
              "12  Notes: .mw-parser-output .reflist{font-size:90...   \n",
              "\n",
              "                                              2030[A]  \\\n",
              "                                   Unnamed: 4_level_1   \n",
              "                                   Unnamed: 4_level_2   \n",
              "                                   Unnamed: 4_level_3   \n",
              "                                   Unnamed: 4_level_4   \n",
              "                                   Unnamed: 4_level_5   \n",
              "                                   Unnamed: 4_level_6   \n",
              "                                   Unnamed: 4_level_7   \n",
              "                                   Unnamed: 4_level_8   \n",
              "                                   Unnamed: 4_level_9   \n",
              "                                  Unnamed: 4_level_10   \n",
              "                                  Unnamed: 4_level_11   \n",
              "0                                                 NaN   \n",
              "1                                                1416   \n",
              "2                                                1528   \n",
              "3                                                 356   \n",
              "4                                                 295   \n",
              "5                                                 245   \n",
              "6                                                 228   \n",
              "7                                                 263   \n",
              "8                                                 186   \n",
              "9                                                 149   \n",
              "10                                                148   \n",
              "11                                               8501   \n",
              "12  Notes: .mw-parser-output .reflist{font-size:90...   \n",
              "\n",
              "   Graphs are temporarily unavailable due to technical issues.  \n",
              "                                            Unnamed: 5_level_1  \n",
              "                                            Unnamed: 5_level_2  \n",
              "                                            Unnamed: 5_level_3  \n",
              "                                            Unnamed: 5_level_4  \n",
              "                                            Unnamed: 5_level_5  \n",
              "                                            Unnamed: 5_level_6  \n",
              "                                            Unnamed: 5_level_7  \n",
              "                                            Unnamed: 5_level_8  \n",
              "                                            Unnamed: 5_level_9  \n",
              "                                           Unnamed: 5_level_10  \n",
              "                                           Unnamed: 5_level_11  \n",
              "0                                                 NaN           \n",
              "1                                                 NaN           \n",
              "2                                                 NaN           \n",
              "3                                                 NaN           \n",
              "4                                                 NaN           \n",
              "5                                                 NaN           \n",
              "6                                                 NaN           \n",
              "7                                                 NaN           \n",
              "8                                                 NaN           \n",
              "9                                                 NaN           \n",
              "10                                                NaN           \n",
              "11                                                NaN           \n",
              "12  Notes: .mw-parser-output .reflist{font-size:90...           "
            ],
            "text/html": [
              "\n",
              "  <div id=\"df-a3e265b6-db00-430c-9597-741cf2ca08dc\" class=\"colab-df-container\">\n",
              "    <div>\n",
              "<style scoped>\n",
              "    .dataframe tbody tr th:only-of-type {\n",
              "        vertical-align: middle;\n",
              "    }\n",
              "\n",
              "    .dataframe tbody tr th {\n",
              "        vertical-align: top;\n",
              "    }\n",
              "\n",
              "    .dataframe thead tr th {\n",
              "        text-align: left;\n",
              "    }\n",
              "</style>\n",
              "<table border=\"1\" class=\"dataframe\">\n",
              "  <thead>\n",
              "    <tr>\n",
              "      <th></th>\n",
              "      <th>#</th>\n",
              "      <th>Most populous countries</th>\n",
              "      <th>2000</th>\n",
              "      <th>2015</th>\n",
              "      <th>2030[A]</th>\n",
              "      <th>Graphs are temporarily unavailable due to technical issues.</th>\n",
              "    </tr>\n",
              "    <tr>\n",
              "      <th></th>\n",
              "      <th>Graphs are temporarily unavailable due to technical issues.</th>\n",
              "      <th>Unnamed: 1_level_1</th>\n",
              "      <th>Unnamed: 2_level_1</th>\n",
              "      <th>Unnamed: 3_level_1</th>\n",
              "      <th>Unnamed: 4_level_1</th>\n",
              "      <th>Unnamed: 5_level_1</th>\n",
              "    </tr>\n",
              "    <tr>\n",
              "      <th></th>\n",
              "      <th>Graphs are temporarily unavailable due to technical issues.</th>\n",
              "      <th>Unnamed: 1_level_2</th>\n",
              "      <th>Unnamed: 2_level_2</th>\n",
              "      <th>Unnamed: 3_level_2</th>\n",
              "      <th>Unnamed: 4_level_2</th>\n",
              "      <th>Unnamed: 5_level_2</th>\n",
              "    </tr>\n",
              "    <tr>\n",
              "      <th></th>\n",
              "      <th>Graphs are temporarily unavailable due to technical issues.</th>\n",
              "      <th>Unnamed: 1_level_3</th>\n",
              "      <th>Unnamed: 2_level_3</th>\n",
              "      <th>Unnamed: 3_level_3</th>\n",
              "      <th>Unnamed: 4_level_3</th>\n",
              "      <th>Unnamed: 5_level_3</th>\n",
              "    </tr>\n",
              "    <tr>\n",
              "      <th></th>\n",
              "      <th>Graphs are temporarily unavailable due to technical issues.</th>\n",
              "      <th>Unnamed: 1_level_4</th>\n",
              "      <th>Unnamed: 2_level_4</th>\n",
              "      <th>Unnamed: 3_level_4</th>\n",
              "      <th>Unnamed: 4_level_4</th>\n",
              "      <th>Unnamed: 5_level_4</th>\n",
              "    </tr>\n",
              "    <tr>\n",
              "      <th></th>\n",
              "      <th>Graphs are temporarily unavailable due to technical issues.</th>\n",
              "      <th>Unnamed: 1_level_5</th>\n",
              "      <th>Unnamed: 2_level_5</th>\n",
              "      <th>Unnamed: 3_level_5</th>\n",
              "      <th>Unnamed: 4_level_5</th>\n",
              "      <th>Unnamed: 5_level_5</th>\n",
              "    </tr>\n",
              "    <tr>\n",
              "      <th></th>\n",
              "      <th>Graphs are temporarily unavailable due to technical issues.</th>\n",
              "      <th>Unnamed: 1_level_6</th>\n",
              "      <th>Unnamed: 2_level_6</th>\n",
              "      <th>Unnamed: 3_level_6</th>\n",
              "      <th>Unnamed: 4_level_6</th>\n",
              "      <th>Unnamed: 5_level_6</th>\n",
              "    </tr>\n",
              "    <tr>\n",
              "      <th></th>\n",
              "      <th>Graphs are temporarily unavailable due to technical issues.</th>\n",
              "      <th>Unnamed: 1_level_7</th>\n",
              "      <th>Unnamed: 2_level_7</th>\n",
              "      <th>Unnamed: 3_level_7</th>\n",
              "      <th>Unnamed: 4_level_7</th>\n",
              "      <th>Unnamed: 5_level_7</th>\n",
              "    </tr>\n",
              "    <tr>\n",
              "      <th></th>\n",
              "      <th>Graphs are temporarily unavailable due to technical issues.</th>\n",
              "      <th>Unnamed: 1_level_8</th>\n",
              "      <th>Unnamed: 2_level_8</th>\n",
              "      <th>Unnamed: 3_level_8</th>\n",
              "      <th>Unnamed: 4_level_8</th>\n",
              "      <th>Unnamed: 5_level_8</th>\n",
              "    </tr>\n",
              "    <tr>\n",
              "      <th></th>\n",
              "      <th>Graphs are temporarily unavailable due to technical issues.</th>\n",
              "      <th>Unnamed: 1_level_9</th>\n",
              "      <th>Unnamed: 2_level_9</th>\n",
              "      <th>Unnamed: 3_level_9</th>\n",
              "      <th>Unnamed: 4_level_9</th>\n",
              "      <th>Unnamed: 5_level_9</th>\n",
              "    </tr>\n",
              "    <tr>\n",
              "      <th></th>\n",
              "      <th>Graphs are temporarily unavailable due to technical issues.</th>\n",
              "      <th>Unnamed: 1_level_10</th>\n",
              "      <th>Unnamed: 2_level_10</th>\n",
              "      <th>Unnamed: 3_level_10</th>\n",
              "      <th>Unnamed: 4_level_10</th>\n",
              "      <th>Unnamed: 5_level_10</th>\n",
              "    </tr>\n",
              "    <tr>\n",
              "      <th></th>\n",
              "      <th>Graphs are temporarily unavailable due to technical issues.</th>\n",
              "      <th>Unnamed: 1_level_11</th>\n",
              "      <th>Unnamed: 2_level_11</th>\n",
              "      <th>Unnamed: 3_level_11</th>\n",
              "      <th>Unnamed: 4_level_11</th>\n",
              "      <th>Unnamed: 5_level_11</th>\n",
              "    </tr>\n",
              "  </thead>\n",
              "  <tbody>\n",
              "    <tr>\n",
              "      <th>0</th>\n",
              "      <td>NaN</td>\n",
              "      <td>Graphs are temporarily unavailable due to tech...</td>\n",
              "      <td>NaN</td>\n",
              "      <td>NaN</td>\n",
              "      <td>NaN</td>\n",
              "      <td>NaN</td>\n",
              "    </tr>\n",
              "    <tr>\n",
              "      <th>1</th>\n",
              "      <td>1</td>\n",
              "      <td>China[B]</td>\n",
              "      <td>1270</td>\n",
              "      <td>1376</td>\n",
              "      <td>1416</td>\n",
              "      <td>NaN</td>\n",
              "    </tr>\n",
              "    <tr>\n",
              "      <th>2</th>\n",
              "      <td>2</td>\n",
              "      <td>India</td>\n",
              "      <td>1053</td>\n",
              "      <td>1311</td>\n",
              "      <td>1528</td>\n",
              "      <td>NaN</td>\n",
              "    </tr>\n",
              "    <tr>\n",
              "      <th>3</th>\n",
              "      <td>3</td>\n",
              "      <td>United States</td>\n",
              "      <td>283</td>\n",
              "      <td>322</td>\n",
              "      <td>356</td>\n",
              "      <td>NaN</td>\n",
              "    </tr>\n",
              "    <tr>\n",
              "      <th>4</th>\n",
              "      <td>4</td>\n",
              "      <td>Indonesia</td>\n",
              "      <td>212</td>\n",
              "      <td>258</td>\n",
              "      <td>295</td>\n",
              "      <td>NaN</td>\n",
              "    </tr>\n",
              "    <tr>\n",
              "      <th>5</th>\n",
              "      <td>5</td>\n",
              "      <td>Pakistan</td>\n",
              "      <td>136</td>\n",
              "      <td>208</td>\n",
              "      <td>245</td>\n",
              "      <td>NaN</td>\n",
              "    </tr>\n",
              "    <tr>\n",
              "      <th>6</th>\n",
              "      <td>6</td>\n",
              "      <td>Brazil</td>\n",
              "      <td>176</td>\n",
              "      <td>206</td>\n",
              "      <td>228</td>\n",
              "      <td>NaN</td>\n",
              "    </tr>\n",
              "    <tr>\n",
              "      <th>7</th>\n",
              "      <td>7</td>\n",
              "      <td>Nigeria</td>\n",
              "      <td>123</td>\n",
              "      <td>182</td>\n",
              "      <td>263</td>\n",
              "      <td>NaN</td>\n",
              "    </tr>\n",
              "    <tr>\n",
              "      <th>8</th>\n",
              "      <td>8</td>\n",
              "      <td>Bangladesh</td>\n",
              "      <td>131</td>\n",
              "      <td>161</td>\n",
              "      <td>186</td>\n",
              "      <td>NaN</td>\n",
              "    </tr>\n",
              "    <tr>\n",
              "      <th>9</th>\n",
              "      <td>9</td>\n",
              "      <td>Russia</td>\n",
              "      <td>146</td>\n",
              "      <td>146</td>\n",
              "      <td>149</td>\n",
              "      <td>NaN</td>\n",
              "    </tr>\n",
              "    <tr>\n",
              "      <th>10</th>\n",
              "      <td>10</td>\n",
              "      <td>Mexico</td>\n",
              "      <td>103</td>\n",
              "      <td>127</td>\n",
              "      <td>148</td>\n",
              "      <td>NaN</td>\n",
              "    </tr>\n",
              "    <tr>\n",
              "      <th>11</th>\n",
              "      <td>NaN</td>\n",
              "      <td>World total</td>\n",
              "      <td>6127</td>\n",
              "      <td>7349</td>\n",
              "      <td>8501</td>\n",
              "      <td>NaN</td>\n",
              "    </tr>\n",
              "    <tr>\n",
              "      <th>12</th>\n",
              "      <td>Notes: .mw-parser-output .reflist{font-size:90...</td>\n",
              "      <td>Notes: .mw-parser-output .reflist{font-size:90...</td>\n",
              "      <td>Notes: .mw-parser-output .reflist{font-size:90...</td>\n",
              "      <td>Notes: .mw-parser-output .reflist{font-size:90...</td>\n",
              "      <td>Notes: .mw-parser-output .reflist{font-size:90...</td>\n",
              "      <td>Notes: .mw-parser-output .reflist{font-size:90...</td>\n",
              "    </tr>\n",
              "  </tbody>\n",
              "</table>\n",
              "</div>\n",
              "    <div class=\"colab-df-buttons\">\n",
              "\n",
              "  <div class=\"colab-df-container\">\n",
              "    <button class=\"colab-df-convert\" onclick=\"convertToInteractive('df-a3e265b6-db00-430c-9597-741cf2ca08dc')\"\n",
              "            title=\"Convert this dataframe to an interactive table.\"\n",
              "            style=\"display:none;\">\n",
              "\n",
              "  <svg xmlns=\"http://www.w3.org/2000/svg\" height=\"24px\" viewBox=\"0 -960 960 960\">\n",
              "    <path d=\"M120-120v-720h720v720H120Zm60-500h600v-160H180v160Zm220 220h160v-160H400v160Zm0 220h160v-160H400v160ZM180-400h160v-160H180v160Zm440 0h160v-160H620v160ZM180-180h160v-160H180v160Zm440 0h160v-160H620v160Z\"/>\n",
              "  </svg>\n",
              "    </button>\n",
              "\n",
              "  <style>\n",
              "    .colab-df-container {\n",
              "      display:flex;\n",
              "      gap: 12px;\n",
              "    }\n",
              "\n",
              "    .colab-df-convert {\n",
              "      background-color: #E8F0FE;\n",
              "      border: none;\n",
              "      border-radius: 50%;\n",
              "      cursor: pointer;\n",
              "      display: none;\n",
              "      fill: #1967D2;\n",
              "      height: 32px;\n",
              "      padding: 0 0 0 0;\n",
              "      width: 32px;\n",
              "    }\n",
              "\n",
              "    .colab-df-convert:hover {\n",
              "      background-color: #E2EBFA;\n",
              "      box-shadow: 0px 1px 2px rgba(60, 64, 67, 0.3), 0px 1px 3px 1px rgba(60, 64, 67, 0.15);\n",
              "      fill: #174EA6;\n",
              "    }\n",
              "\n",
              "    .colab-df-buttons div {\n",
              "      margin-bottom: 4px;\n",
              "    }\n",
              "\n",
              "    [theme=dark] .colab-df-convert {\n",
              "      background-color: #3B4455;\n",
              "      fill: #D2E3FC;\n",
              "    }\n",
              "\n",
              "    [theme=dark] .colab-df-convert:hover {\n",
              "      background-color: #434B5C;\n",
              "      box-shadow: 0px 1px 3px 1px rgba(0, 0, 0, 0.15);\n",
              "      filter: drop-shadow(0px 1px 2px rgba(0, 0, 0, 0.3));\n",
              "      fill: #FFFFFF;\n",
              "    }\n",
              "  </style>\n",
              "\n",
              "    <script>\n",
              "      const buttonEl =\n",
              "        document.querySelector('#df-a3e265b6-db00-430c-9597-741cf2ca08dc button.colab-df-convert');\n",
              "      buttonEl.style.display =\n",
              "        google.colab.kernel.accessAllowed ? 'block' : 'none';\n",
              "\n",
              "      async function convertToInteractive(key) {\n",
              "        const element = document.querySelector('#df-a3e265b6-db00-430c-9597-741cf2ca08dc');\n",
              "        const dataTable =\n",
              "          await google.colab.kernel.invokeFunction('convertToInteractive',\n",
              "                                                    [key], {});\n",
              "        if (!dataTable) return;\n",
              "\n",
              "        const docLinkHtml = 'Like what you see? Visit the ' +\n",
              "          '<a target=\"_blank\" href=https://colab.research.google.com/notebooks/data_table.ipynb>data table notebook</a>'\n",
              "          + ' to learn more about interactive tables.';\n",
              "        element.innerHTML = '';\n",
              "        dataTable['output_type'] = 'display_data';\n",
              "        await google.colab.output.renderOutput(dataTable, element);\n",
              "        const docLink = document.createElement('div');\n",
              "        docLink.innerHTML = docLinkHtml;\n",
              "        element.appendChild(docLink);\n",
              "      }\n",
              "    </script>\n",
              "  </div>\n",
              "\n",
              "\n",
              "<div id=\"df-1f7c3660-b073-4da0-bc1c-cc0cc8527c2b\">\n",
              "  <button class=\"colab-df-quickchart\" onclick=\"quickchart('df-1f7c3660-b073-4da0-bc1c-cc0cc8527c2b')\"\n",
              "            title=\"Suggest charts.\"\n",
              "            style=\"display:none;\">\n",
              "\n",
              "<svg xmlns=\"http://www.w3.org/2000/svg\" height=\"24px\"viewBox=\"0 0 24 24\"\n",
              "     width=\"24px\">\n",
              "    <g>\n",
              "        <path d=\"M19 3H5c-1.1 0-2 .9-2 2v14c0 1.1.9 2 2 2h14c1.1 0 2-.9 2-2V5c0-1.1-.9-2-2-2zM9 17H7v-7h2v7zm4 0h-2V7h2v10zm4 0h-2v-4h2v4z\"/>\n",
              "    </g>\n",
              "</svg>\n",
              "  </button>\n",
              "\n",
              "<style>\n",
              "  .colab-df-quickchart {\n",
              "      --bg-color: #E8F0FE;\n",
              "      --fill-color: #1967D2;\n",
              "      --hover-bg-color: #E2EBFA;\n",
              "      --hover-fill-color: #174EA6;\n",
              "      --disabled-fill-color: #AAA;\n",
              "      --disabled-bg-color: #DDD;\n",
              "  }\n",
              "\n",
              "  [theme=dark] .colab-df-quickchart {\n",
              "      --bg-color: #3B4455;\n",
              "      --fill-color: #D2E3FC;\n",
              "      --hover-bg-color: #434B5C;\n",
              "      --hover-fill-color: #FFFFFF;\n",
              "      --disabled-bg-color: #3B4455;\n",
              "      --disabled-fill-color: #666;\n",
              "  }\n",
              "\n",
              "  .colab-df-quickchart {\n",
              "    background-color: var(--bg-color);\n",
              "    border: none;\n",
              "    border-radius: 50%;\n",
              "    cursor: pointer;\n",
              "    display: none;\n",
              "    fill: var(--fill-color);\n",
              "    height: 32px;\n",
              "    padding: 0;\n",
              "    width: 32px;\n",
              "  }\n",
              "\n",
              "  .colab-df-quickchart:hover {\n",
              "    background-color: var(--hover-bg-color);\n",
              "    box-shadow: 0 1px 2px rgba(60, 64, 67, 0.3), 0 1px 3px 1px rgba(60, 64, 67, 0.15);\n",
              "    fill: var(--button-hover-fill-color);\n",
              "  }\n",
              "\n",
              "  .colab-df-quickchart-complete:disabled,\n",
              "  .colab-df-quickchart-complete:disabled:hover {\n",
              "    background-color: var(--disabled-bg-color);\n",
              "    fill: var(--disabled-fill-color);\n",
              "    box-shadow: none;\n",
              "  }\n",
              "\n",
              "  .colab-df-spinner {\n",
              "    border: 2px solid var(--fill-color);\n",
              "    border-color: transparent;\n",
              "    border-bottom-color: var(--fill-color);\n",
              "    animation:\n",
              "      spin 1s steps(1) infinite;\n",
              "  }\n",
              "\n",
              "  @keyframes spin {\n",
              "    0% {\n",
              "      border-color: transparent;\n",
              "      border-bottom-color: var(--fill-color);\n",
              "      border-left-color: var(--fill-color);\n",
              "    }\n",
              "    20% {\n",
              "      border-color: transparent;\n",
              "      border-left-color: var(--fill-color);\n",
              "      border-top-color: var(--fill-color);\n",
              "    }\n",
              "    30% {\n",
              "      border-color: transparent;\n",
              "      border-left-color: var(--fill-color);\n",
              "      border-top-color: var(--fill-color);\n",
              "      border-right-color: var(--fill-color);\n",
              "    }\n",
              "    40% {\n",
              "      border-color: transparent;\n",
              "      border-right-color: var(--fill-color);\n",
              "      border-top-color: var(--fill-color);\n",
              "    }\n",
              "    60% {\n",
              "      border-color: transparent;\n",
              "      border-right-color: var(--fill-color);\n",
              "    }\n",
              "    80% {\n",
              "      border-color: transparent;\n",
              "      border-right-color: var(--fill-color);\n",
              "      border-bottom-color: var(--fill-color);\n",
              "    }\n",
              "    90% {\n",
              "      border-color: transparent;\n",
              "      border-bottom-color: var(--fill-color);\n",
              "    }\n",
              "  }\n",
              "</style>\n",
              "\n",
              "  <script>\n",
              "    async function quickchart(key) {\n",
              "      const quickchartButtonEl =\n",
              "        document.querySelector('#' + key + ' button');\n",
              "      quickchartButtonEl.disabled = true;  // To prevent multiple clicks.\n",
              "      quickchartButtonEl.classList.add('colab-df-spinner');\n",
              "      try {\n",
              "        const charts = await google.colab.kernel.invokeFunction(\n",
              "            'suggestCharts', [key], {});\n",
              "      } catch (error) {\n",
              "        console.error('Error during call to suggestCharts:', error);\n",
              "      }\n",
              "      quickchartButtonEl.classList.remove('colab-df-spinner');\n",
              "      quickchartButtonEl.classList.add('colab-df-quickchart-complete');\n",
              "    }\n",
              "    (() => {\n",
              "      let quickchartButtonEl =\n",
              "        document.querySelector('#df-1f7c3660-b073-4da0-bc1c-cc0cc8527c2b button');\n",
              "      quickchartButtonEl.style.display =\n",
              "        google.colab.kernel.accessAllowed ? 'block' : 'none';\n",
              "    })();\n",
              "  </script>\n",
              "</div>\n",
              "    </div>\n",
              "  </div>\n"
            ]
          },
          "metadata": {},
          "execution_count": 71
        }
      ],
      "source": [
        "dataframe_list[5]"
      ]
    },
    {
      "cell_type": "markdown",
      "metadata": {
        "id": "O_qakDzbaz0U"
      },
      "source": [
        "We can also use the `match` parameter to select the specific table we want. If the table contains a string matching the text it will be read.\n"
      ]
    },
    {
      "cell_type": "code",
      "execution_count": 72,
      "metadata": {
        "colab": {
          "base_uri": "https://localhost:8080/",
          "height": 363
        },
        "id": "RR9p_7ZVaz0U",
        "outputId": "e446453b-0dd9-4fde-dcde-96bd00016745"
      },
      "outputs": [
        {
          "output_type": "execute_result",
          "data": {
            "text/plain": [
              "   Rank                 Country  Population  Area (km2)  Density (pop/km2)\n",
              "0     1               Singapore     5921231         719               8235\n",
              "1     2              Bangladesh   165650475      148460               1116\n",
              "2     3  Palestine[note 3][103]     5223000        6025                867\n",
              "3     4          Taiwan[note 4]    23580712       35980                655\n",
              "4     5             South Korea    51844834       99720                520\n",
              "5     6                 Lebanon     5296814       10400                509\n",
              "6     7                  Rwanda    13173730       26338                500\n",
              "7     8                 Burundi    12696478       27830                456\n",
              "8     9                   India  1389637446     3287263                423\n",
              "9    10             Netherlands    17400824       41543                419"
            ],
            "text/html": [
              "\n",
              "  <div id=\"df-efadd0a7-439a-4f59-ac4e-0295a0a28c88\" class=\"colab-df-container\">\n",
              "    <div>\n",
              "<style scoped>\n",
              "    .dataframe tbody tr th:only-of-type {\n",
              "        vertical-align: middle;\n",
              "    }\n",
              "\n",
              "    .dataframe tbody tr th {\n",
              "        vertical-align: top;\n",
              "    }\n",
              "\n",
              "    .dataframe thead th {\n",
              "        text-align: right;\n",
              "    }\n",
              "</style>\n",
              "<table border=\"1\" class=\"dataframe\">\n",
              "  <thead>\n",
              "    <tr style=\"text-align: right;\">\n",
              "      <th></th>\n",
              "      <th>Rank</th>\n",
              "      <th>Country</th>\n",
              "      <th>Population</th>\n",
              "      <th>Area (km2)</th>\n",
              "      <th>Density (pop/km2)</th>\n",
              "    </tr>\n",
              "  </thead>\n",
              "  <tbody>\n",
              "    <tr>\n",
              "      <th>0</th>\n",
              "      <td>1</td>\n",
              "      <td>Singapore</td>\n",
              "      <td>5921231</td>\n",
              "      <td>719</td>\n",
              "      <td>8235</td>\n",
              "    </tr>\n",
              "    <tr>\n",
              "      <th>1</th>\n",
              "      <td>2</td>\n",
              "      <td>Bangladesh</td>\n",
              "      <td>165650475</td>\n",
              "      <td>148460</td>\n",
              "      <td>1116</td>\n",
              "    </tr>\n",
              "    <tr>\n",
              "      <th>2</th>\n",
              "      <td>3</td>\n",
              "      <td>Palestine[note 3][103]</td>\n",
              "      <td>5223000</td>\n",
              "      <td>6025</td>\n",
              "      <td>867</td>\n",
              "    </tr>\n",
              "    <tr>\n",
              "      <th>3</th>\n",
              "      <td>4</td>\n",
              "      <td>Taiwan[note 4]</td>\n",
              "      <td>23580712</td>\n",
              "      <td>35980</td>\n",
              "      <td>655</td>\n",
              "    </tr>\n",
              "    <tr>\n",
              "      <th>4</th>\n",
              "      <td>5</td>\n",
              "      <td>South Korea</td>\n",
              "      <td>51844834</td>\n",
              "      <td>99720</td>\n",
              "      <td>520</td>\n",
              "    </tr>\n",
              "    <tr>\n",
              "      <th>5</th>\n",
              "      <td>6</td>\n",
              "      <td>Lebanon</td>\n",
              "      <td>5296814</td>\n",
              "      <td>10400</td>\n",
              "      <td>509</td>\n",
              "    </tr>\n",
              "    <tr>\n",
              "      <th>6</th>\n",
              "      <td>7</td>\n",
              "      <td>Rwanda</td>\n",
              "      <td>13173730</td>\n",
              "      <td>26338</td>\n",
              "      <td>500</td>\n",
              "    </tr>\n",
              "    <tr>\n",
              "      <th>7</th>\n",
              "      <td>8</td>\n",
              "      <td>Burundi</td>\n",
              "      <td>12696478</td>\n",
              "      <td>27830</td>\n",
              "      <td>456</td>\n",
              "    </tr>\n",
              "    <tr>\n",
              "      <th>8</th>\n",
              "      <td>9</td>\n",
              "      <td>India</td>\n",
              "      <td>1389637446</td>\n",
              "      <td>3287263</td>\n",
              "      <td>423</td>\n",
              "    </tr>\n",
              "    <tr>\n",
              "      <th>9</th>\n",
              "      <td>10</td>\n",
              "      <td>Netherlands</td>\n",
              "      <td>17400824</td>\n",
              "      <td>41543</td>\n",
              "      <td>419</td>\n",
              "    </tr>\n",
              "  </tbody>\n",
              "</table>\n",
              "</div>\n",
              "    <div class=\"colab-df-buttons\">\n",
              "\n",
              "  <div class=\"colab-df-container\">\n",
              "    <button class=\"colab-df-convert\" onclick=\"convertToInteractive('df-efadd0a7-439a-4f59-ac4e-0295a0a28c88')\"\n",
              "            title=\"Convert this dataframe to an interactive table.\"\n",
              "            style=\"display:none;\">\n",
              "\n",
              "  <svg xmlns=\"http://www.w3.org/2000/svg\" height=\"24px\" viewBox=\"0 -960 960 960\">\n",
              "    <path d=\"M120-120v-720h720v720H120Zm60-500h600v-160H180v160Zm220 220h160v-160H400v160Zm0 220h160v-160H400v160ZM180-400h160v-160H180v160Zm440 0h160v-160H620v160ZM180-180h160v-160H180v160Zm440 0h160v-160H620v160Z\"/>\n",
              "  </svg>\n",
              "    </button>\n",
              "\n",
              "  <style>\n",
              "    .colab-df-container {\n",
              "      display:flex;\n",
              "      gap: 12px;\n",
              "    }\n",
              "\n",
              "    .colab-df-convert {\n",
              "      background-color: #E8F0FE;\n",
              "      border: none;\n",
              "      border-radius: 50%;\n",
              "      cursor: pointer;\n",
              "      display: none;\n",
              "      fill: #1967D2;\n",
              "      height: 32px;\n",
              "      padding: 0 0 0 0;\n",
              "      width: 32px;\n",
              "    }\n",
              "\n",
              "    .colab-df-convert:hover {\n",
              "      background-color: #E2EBFA;\n",
              "      box-shadow: 0px 1px 2px rgba(60, 64, 67, 0.3), 0px 1px 3px 1px rgba(60, 64, 67, 0.15);\n",
              "      fill: #174EA6;\n",
              "    }\n",
              "\n",
              "    .colab-df-buttons div {\n",
              "      margin-bottom: 4px;\n",
              "    }\n",
              "\n",
              "    [theme=dark] .colab-df-convert {\n",
              "      background-color: #3B4455;\n",
              "      fill: #D2E3FC;\n",
              "    }\n",
              "\n",
              "    [theme=dark] .colab-df-convert:hover {\n",
              "      background-color: #434B5C;\n",
              "      box-shadow: 0px 1px 3px 1px rgba(0, 0, 0, 0.15);\n",
              "      filter: drop-shadow(0px 1px 2px rgba(0, 0, 0, 0.3));\n",
              "      fill: #FFFFFF;\n",
              "    }\n",
              "  </style>\n",
              "\n",
              "    <script>\n",
              "      const buttonEl =\n",
              "        document.querySelector('#df-efadd0a7-439a-4f59-ac4e-0295a0a28c88 button.colab-df-convert');\n",
              "      buttonEl.style.display =\n",
              "        google.colab.kernel.accessAllowed ? 'block' : 'none';\n",
              "\n",
              "      async function convertToInteractive(key) {\n",
              "        const element = document.querySelector('#df-efadd0a7-439a-4f59-ac4e-0295a0a28c88');\n",
              "        const dataTable =\n",
              "          await google.colab.kernel.invokeFunction('convertToInteractive',\n",
              "                                                    [key], {});\n",
              "        if (!dataTable) return;\n",
              "\n",
              "        const docLinkHtml = 'Like what you see? Visit the ' +\n",
              "          '<a target=\"_blank\" href=https://colab.research.google.com/notebooks/data_table.ipynb>data table notebook</a>'\n",
              "          + ' to learn more about interactive tables.';\n",
              "        element.innerHTML = '';\n",
              "        dataTable['output_type'] = 'display_data';\n",
              "        await google.colab.output.renderOutput(dataTable, element);\n",
              "        const docLink = document.createElement('div');\n",
              "        docLink.innerHTML = docLinkHtml;\n",
              "        element.appendChild(docLink);\n",
              "      }\n",
              "    </script>\n",
              "  </div>\n",
              "\n",
              "\n",
              "<div id=\"df-92beafda-8a1f-4d36-9c95-ca1daa452b23\">\n",
              "  <button class=\"colab-df-quickchart\" onclick=\"quickchart('df-92beafda-8a1f-4d36-9c95-ca1daa452b23')\"\n",
              "            title=\"Suggest charts.\"\n",
              "            style=\"display:none;\">\n",
              "\n",
              "<svg xmlns=\"http://www.w3.org/2000/svg\" height=\"24px\"viewBox=\"0 0 24 24\"\n",
              "     width=\"24px\">\n",
              "    <g>\n",
              "        <path d=\"M19 3H5c-1.1 0-2 .9-2 2v14c0 1.1.9 2 2 2h14c1.1 0 2-.9 2-2V5c0-1.1-.9-2-2-2zM9 17H7v-7h2v7zm4 0h-2V7h2v10zm4 0h-2v-4h2v4z\"/>\n",
              "    </g>\n",
              "</svg>\n",
              "  </button>\n",
              "\n",
              "<style>\n",
              "  .colab-df-quickchart {\n",
              "      --bg-color: #E8F0FE;\n",
              "      --fill-color: #1967D2;\n",
              "      --hover-bg-color: #E2EBFA;\n",
              "      --hover-fill-color: #174EA6;\n",
              "      --disabled-fill-color: #AAA;\n",
              "      --disabled-bg-color: #DDD;\n",
              "  }\n",
              "\n",
              "  [theme=dark] .colab-df-quickchart {\n",
              "      --bg-color: #3B4455;\n",
              "      --fill-color: #D2E3FC;\n",
              "      --hover-bg-color: #434B5C;\n",
              "      --hover-fill-color: #FFFFFF;\n",
              "      --disabled-bg-color: #3B4455;\n",
              "      --disabled-fill-color: #666;\n",
              "  }\n",
              "\n",
              "  .colab-df-quickchart {\n",
              "    background-color: var(--bg-color);\n",
              "    border: none;\n",
              "    border-radius: 50%;\n",
              "    cursor: pointer;\n",
              "    display: none;\n",
              "    fill: var(--fill-color);\n",
              "    height: 32px;\n",
              "    padding: 0;\n",
              "    width: 32px;\n",
              "  }\n",
              "\n",
              "  .colab-df-quickchart:hover {\n",
              "    background-color: var(--hover-bg-color);\n",
              "    box-shadow: 0 1px 2px rgba(60, 64, 67, 0.3), 0 1px 3px 1px rgba(60, 64, 67, 0.15);\n",
              "    fill: var(--button-hover-fill-color);\n",
              "  }\n",
              "\n",
              "  .colab-df-quickchart-complete:disabled,\n",
              "  .colab-df-quickchart-complete:disabled:hover {\n",
              "    background-color: var(--disabled-bg-color);\n",
              "    fill: var(--disabled-fill-color);\n",
              "    box-shadow: none;\n",
              "  }\n",
              "\n",
              "  .colab-df-spinner {\n",
              "    border: 2px solid var(--fill-color);\n",
              "    border-color: transparent;\n",
              "    border-bottom-color: var(--fill-color);\n",
              "    animation:\n",
              "      spin 1s steps(1) infinite;\n",
              "  }\n",
              "\n",
              "  @keyframes spin {\n",
              "    0% {\n",
              "      border-color: transparent;\n",
              "      border-bottom-color: var(--fill-color);\n",
              "      border-left-color: var(--fill-color);\n",
              "    }\n",
              "    20% {\n",
              "      border-color: transparent;\n",
              "      border-left-color: var(--fill-color);\n",
              "      border-top-color: var(--fill-color);\n",
              "    }\n",
              "    30% {\n",
              "      border-color: transparent;\n",
              "      border-left-color: var(--fill-color);\n",
              "      border-top-color: var(--fill-color);\n",
              "      border-right-color: var(--fill-color);\n",
              "    }\n",
              "    40% {\n",
              "      border-color: transparent;\n",
              "      border-right-color: var(--fill-color);\n",
              "      border-top-color: var(--fill-color);\n",
              "    }\n",
              "    60% {\n",
              "      border-color: transparent;\n",
              "      border-right-color: var(--fill-color);\n",
              "    }\n",
              "    80% {\n",
              "      border-color: transparent;\n",
              "      border-right-color: var(--fill-color);\n",
              "      border-bottom-color: var(--fill-color);\n",
              "    }\n",
              "    90% {\n",
              "      border-color: transparent;\n",
              "      border-bottom-color: var(--fill-color);\n",
              "    }\n",
              "  }\n",
              "</style>\n",
              "\n",
              "  <script>\n",
              "    async function quickchart(key) {\n",
              "      const quickchartButtonEl =\n",
              "        document.querySelector('#' + key + ' button');\n",
              "      quickchartButtonEl.disabled = true;  // To prevent multiple clicks.\n",
              "      quickchartButtonEl.classList.add('colab-df-spinner');\n",
              "      try {\n",
              "        const charts = await google.colab.kernel.invokeFunction(\n",
              "            'suggestCharts', [key], {});\n",
              "      } catch (error) {\n",
              "        console.error('Error during call to suggestCharts:', error);\n",
              "      }\n",
              "      quickchartButtonEl.classList.remove('colab-df-spinner');\n",
              "      quickchartButtonEl.classList.add('colab-df-quickchart-complete');\n",
              "    }\n",
              "    (() => {\n",
              "      let quickchartButtonEl =\n",
              "        document.querySelector('#df-92beafda-8a1f-4d36-9c95-ca1daa452b23 button');\n",
              "      quickchartButtonEl.style.display =\n",
              "        google.colab.kernel.accessAllowed ? 'block' : 'none';\n",
              "    })();\n",
              "  </script>\n",
              "</div>\n",
              "    </div>\n",
              "  </div>\n"
            ]
          },
          "metadata": {},
          "execution_count": 72
        }
      ],
      "source": [
        "pd.read_html(url, match=\"10 most densely populated countries\", flavor='bs4')[0]"
      ]
    }
  ],
  "metadata": {
    "kernelspec": {
      "display_name": "Python",
      "language": "python",
      "name": "conda-env-python-py"
    },
    "language_info": {
      "name": ""
    },
    "colab": {
      "provenance": [],
      "include_colab_link": true
    }
  },
  "nbformat": 4,
  "nbformat_minor": 0
}