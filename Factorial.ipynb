{
 "cells": [
  {
   "cell_type": "code",
   "execution_count": 6,
   "id": "703f6872",
   "metadata": {},
   "outputs": [
    {
     "name": "stdout",
     "output_type": "stream",
     "text": [
      "Enter a number to find factorial5\n"
     ]
    }
   ],
   "source": [
    "#factorial of a number\n",
    "num = int(input('Enter a number to find factorial ' ))"
   ]
  },
  {
   "cell_type": "code",
   "execution_count": 7,
   "id": "93c5e05d",
   "metadata": {},
   "outputs": [
    {
     "name": "stdout",
     "output_type": "stream",
     "text": [
      "The factorial of a  5 is 120\n"
     ]
    }
   ],
   "source": [
    "\n",
    "fact = 1\n",
    "if(fact < 0):\n",
    "    print(\"Factorial not exist\")\n",
    "elif(fact == 0):\n",
    "    print(\"Factorial of 0 is 1\")\n",
    "else:\n",
    "    for i in range(1, num+1):\n",
    "        fact = fact*i\n",
    "    print('The factorial of a ',num ,'is',fact)\n"
   ]
  },
  {
   "cell_type": "code",
   "execution_count": 8,
   "id": "a096b87d",
   "metadata": {},
   "outputs": [
    {
     "name": "stdout",
     "output_type": "stream",
     "text": [
      "The factorial of a  5 is 120\n"
     ]
    }
   ],
   "source": [
    "#factorial using recursive function\n",
    "num = 5\n",
    "def fact(x):\n",
    "    if x == 1:\n",
    "        return 1\n",
    "    else:\n",
    "        return (x*fact(x-1))\n",
    "    \n",
    "print('The factorial of a ',num ,'is',fact(num))\n",
    "\n"
   ]
  }
 ],
 "metadata": {
  "kernelspec": {
   "display_name": "Python 3 (ipykernel)",
   "language": "python",
   "name": "python3"
  },
  "language_info": {
   "codemirror_mode": {
    "name": "ipython",
    "version": 3
   },
   "file_extension": ".py",
   "mimetype": "text/x-python",
   "name": "python",
   "nbconvert_exporter": "python",
   "pygments_lexer": "ipython3",
   "version": "3.10.6"
  }
 },
 "nbformat": 4,
 "nbformat_minor": 5
}
